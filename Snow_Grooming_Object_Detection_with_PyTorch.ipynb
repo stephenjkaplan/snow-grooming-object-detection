{
  "nbformat": 4,
  "nbformat_minor": 0,
  "metadata": {
    "colab": {
      "name": "Snow Grooming Object Detection with PyTorch.ipynb",
      "provenance": [],
      "collapsed_sections": [],
      "machine_shape": "hm",
      "authorship_tag": "ABX9TyPd6NudZ/1222nwX8v47CeK",
      "include_colab_link": true
    },
    "kernelspec": {
      "name": "python3",
      "display_name": "Python 3"
    },
    "accelerator": "GPU",
    "widgets": {
      "application/vnd.jupyter.widget-state+json": {
        "83ac6fd0fafc445ba237956c673b4e95": {
          "model_module": "@jupyter-widgets/controls",
          "model_name": "HBoxModel",
          "state": {
            "_view_name": "HBoxView",
            "_dom_classes": [],
            "_model_name": "HBoxModel",
            "_view_module": "@jupyter-widgets/controls",
            "_model_module_version": "1.5.0",
            "_view_count": null,
            "_view_module_version": "1.5.0",
            "box_style": "",
            "layout": "IPY_MODEL_1f925d6bf1d440fea22e8df1fa032de8",
            "_model_module": "@jupyter-widgets/controls",
            "children": [
              "IPY_MODEL_9c27ce8f8e504b469e8c655f9e9e335e",
              "IPY_MODEL_0f2aea6b702f4d748bcb004f36fc6c3e"
            ]
          }
        },
        "1f925d6bf1d440fea22e8df1fa032de8": {
          "model_module": "@jupyter-widgets/base",
          "model_name": "LayoutModel",
          "state": {
            "_view_name": "LayoutView",
            "grid_template_rows": null,
            "right": null,
            "justify_content": null,
            "_view_module": "@jupyter-widgets/base",
            "overflow": null,
            "_model_module_version": "1.2.0",
            "_view_count": null,
            "flex_flow": null,
            "width": null,
            "min_width": null,
            "border": null,
            "align_items": null,
            "bottom": null,
            "_model_module": "@jupyter-widgets/base",
            "top": null,
            "grid_column": null,
            "overflow_y": null,
            "overflow_x": null,
            "grid_auto_flow": null,
            "grid_area": null,
            "grid_template_columns": null,
            "flex": null,
            "_model_name": "LayoutModel",
            "justify_items": null,
            "grid_row": null,
            "max_height": null,
            "align_content": null,
            "visibility": null,
            "align_self": null,
            "height": null,
            "min_height": null,
            "padding": null,
            "grid_auto_rows": null,
            "grid_gap": null,
            "max_width": null,
            "order": null,
            "_view_module_version": "1.2.0",
            "grid_template_areas": null,
            "object_position": null,
            "object_fit": null,
            "grid_auto_columns": null,
            "margin": null,
            "display": null,
            "left": null
          }
        },
        "9c27ce8f8e504b469e8c655f9e9e335e": {
          "model_module": "@jupyter-widgets/controls",
          "model_name": "FloatProgressModel",
          "state": {
            "_view_name": "ProgressView",
            "style": "IPY_MODEL_1dabade2f1f84b44b5ce54bd2bd528d0",
            "_dom_classes": [],
            "description": "100%",
            "_model_name": "FloatProgressModel",
            "bar_style": "success",
            "max": 167502836,
            "_view_module": "@jupyter-widgets/controls",
            "_model_module_version": "1.5.0",
            "value": 167502836,
            "_view_count": null,
            "_view_module_version": "1.5.0",
            "orientation": "horizontal",
            "min": 0,
            "description_tooltip": null,
            "_model_module": "@jupyter-widgets/controls",
            "layout": "IPY_MODEL_764189b1fa59449f98ac68fc8d70c8f9"
          }
        },
        "0f2aea6b702f4d748bcb004f36fc6c3e": {
          "model_module": "@jupyter-widgets/controls",
          "model_name": "HTMLModel",
          "state": {
            "_view_name": "HTMLView",
            "style": "IPY_MODEL_cd38c69f29754026bedf1ebf4d7bf0aa",
            "_dom_classes": [],
            "description": "",
            "_model_name": "HTMLModel",
            "placeholder": "​",
            "_view_module": "@jupyter-widgets/controls",
            "_model_module_version": "1.5.0",
            "value": " 160M/160M [00:01&lt;00:00, 96.8MB/s]",
            "_view_count": null,
            "_view_module_version": "1.5.0",
            "description_tooltip": null,
            "_model_module": "@jupyter-widgets/controls",
            "layout": "IPY_MODEL_b44cc33592334797b0a688b8503b31dc"
          }
        },
        "1dabade2f1f84b44b5ce54bd2bd528d0": {
          "model_module": "@jupyter-widgets/controls",
          "model_name": "ProgressStyleModel",
          "state": {
            "_view_name": "StyleView",
            "_model_name": "ProgressStyleModel",
            "description_width": "initial",
            "_view_module": "@jupyter-widgets/base",
            "_model_module_version": "1.5.0",
            "_view_count": null,
            "_view_module_version": "1.2.0",
            "bar_color": null,
            "_model_module": "@jupyter-widgets/controls"
          }
        },
        "764189b1fa59449f98ac68fc8d70c8f9": {
          "model_module": "@jupyter-widgets/base",
          "model_name": "LayoutModel",
          "state": {
            "_view_name": "LayoutView",
            "grid_template_rows": null,
            "right": null,
            "justify_content": null,
            "_view_module": "@jupyter-widgets/base",
            "overflow": null,
            "_model_module_version": "1.2.0",
            "_view_count": null,
            "flex_flow": null,
            "width": null,
            "min_width": null,
            "border": null,
            "align_items": null,
            "bottom": null,
            "_model_module": "@jupyter-widgets/base",
            "top": null,
            "grid_column": null,
            "overflow_y": null,
            "overflow_x": null,
            "grid_auto_flow": null,
            "grid_area": null,
            "grid_template_columns": null,
            "flex": null,
            "_model_name": "LayoutModel",
            "justify_items": null,
            "grid_row": null,
            "max_height": null,
            "align_content": null,
            "visibility": null,
            "align_self": null,
            "height": null,
            "min_height": null,
            "padding": null,
            "grid_auto_rows": null,
            "grid_gap": null,
            "max_width": null,
            "order": null,
            "_view_module_version": "1.2.0",
            "grid_template_areas": null,
            "object_position": null,
            "object_fit": null,
            "grid_auto_columns": null,
            "margin": null,
            "display": null,
            "left": null
          }
        },
        "cd38c69f29754026bedf1ebf4d7bf0aa": {
          "model_module": "@jupyter-widgets/controls",
          "model_name": "DescriptionStyleModel",
          "state": {
            "_view_name": "StyleView",
            "_model_name": "DescriptionStyleModel",
            "description_width": "",
            "_view_module": "@jupyter-widgets/base",
            "_model_module_version": "1.5.0",
            "_view_count": null,
            "_view_module_version": "1.2.0",
            "_model_module": "@jupyter-widgets/controls"
          }
        },
        "b44cc33592334797b0a688b8503b31dc": {
          "model_module": "@jupyter-widgets/base",
          "model_name": "LayoutModel",
          "state": {
            "_view_name": "LayoutView",
            "grid_template_rows": null,
            "right": null,
            "justify_content": null,
            "_view_module": "@jupyter-widgets/base",
            "overflow": null,
            "_model_module_version": "1.2.0",
            "_view_count": null,
            "flex_flow": null,
            "width": null,
            "min_width": null,
            "border": null,
            "align_items": null,
            "bottom": null,
            "_model_module": "@jupyter-widgets/base",
            "top": null,
            "grid_column": null,
            "overflow_y": null,
            "overflow_x": null,
            "grid_auto_flow": null,
            "grid_area": null,
            "grid_template_columns": null,
            "flex": null,
            "_model_name": "LayoutModel",
            "justify_items": null,
            "grid_row": null,
            "max_height": null,
            "align_content": null,
            "visibility": null,
            "align_self": null,
            "height": null,
            "min_height": null,
            "padding": null,
            "grid_auto_rows": null,
            "grid_gap": null,
            "max_width": null,
            "order": null,
            "_view_module_version": "1.2.0",
            "grid_template_areas": null,
            "object_position": null,
            "object_fit": null,
            "grid_auto_columns": null,
            "margin": null,
            "display": null,
            "left": null
          }
        }
      }
    }
  },
  "cells": [
    {
      "cell_type": "markdown",
      "metadata": {
        "id": "view-in-github",
        "colab_type": "text"
      },
      "source": [
        "<a href=\"https://colab.research.google.com/github/stephenjkaplan/snow-grooming-object-detection/blob/master/Snow_Grooming_Object_Detection_with_PyTorch.ipynb\" target=\"_parent\"><img src=\"https://colab.research.google.com/assets/colab-badge.svg\" alt=\"Open In Colab\"/></a>"
      ]
    },
    {
      "cell_type": "markdown",
      "metadata": {
        "id": "9H_w-q1VQIWf",
        "colab_type": "text"
      },
      "source": [
        "### Setup"
      ]
    },
    {
      "cell_type": "markdown",
      "metadata": {
        "id": "iDcLa0OXeair",
        "colab_type": "text"
      },
      "source": [
        "##### Download additional utility files.\n",
        "\n",
        "Torchvision"
      ]
    },
    {
      "cell_type": "code",
      "metadata": {
        "id": "9c1htRqPAWB_",
        "colab_type": "code",
        "colab": {
          "base_uri": "https://localhost:8080/",
          "height": 51
        },
        "outputId": "94271b87-7801-4147-adc9-d512ce716141"
      },
      "source": [
        "%%shell\n",
        "\n",
        "# Download TorchVision repo to use some files from\n",
        "# references/detection\n",
        "git clone https://github.com/pytorch/vision.git\n",
        "cd vision\n",
        "git checkout v0.3.0\n",
        "\n",
        "cp references/detection/utils.py ../\n",
        "cp references/detection/transforms.py ../\n",
        "cp references/detection/coco_eval.py ../\n",
        "cp references/detection/engine.py ../\n",
        "cp references/detection/coco_utils.py ../"
      ],
      "execution_count": 1,
      "outputs": [
        {
          "output_type": "stream",
          "text": [
            "fatal: destination path 'vision' already exists and is not an empty directory.\n",
            "HEAD is now at be37608 version check against PyTorch's CUDA version\n"
          ],
          "name": "stdout"
        },
        {
          "output_type": "execute_result",
          "data": {
            "text/plain": [
              ""
            ]
          },
          "metadata": {
            "tags": []
          },
          "execution_count": 1
        }
      ]
    },
    {
      "cell_type": "markdown",
      "metadata": {
        "id": "ZTrv4qp-JrtG",
        "colab_type": "text"
      },
      "source": [
        "Get YouTube Downloader"
      ]
    },
    {
      "cell_type": "code",
      "metadata": {
        "id": "7KHUChXdJnr_",
        "colab_type": "code",
        "colab": {
          "base_uri": "https://localhost:8080/",
          "height": 173
        },
        "outputId": "5a120549-ee06-4d19-bb6b-cfabd4eac5a1"
      },
      "source": [
        "!git clone https://github.com/ankandrew/YT-Downloader-Trimmer.git ytdownloader    # for downloading and trimming videos\n",
        "!pip install -r /content/ytdownloader/requirements.txt            "
      ],
      "execution_count": 2,
      "outputs": [
        {
          "output_type": "stream",
          "text": [
            "fatal: destination path 'ytdownloader' already exists and is not an empty directory.\n",
            "Requirement already satisfied: youtube_dl==2020.6.16.1 in /usr/local/lib/python3.6/dist-packages (from -r /content/ytdownloader/requirements.txt (line 1)) (2020.6.16.1)\n",
            "Requirement already satisfied: moviepy==0.2.3.5 in /usr/local/lib/python3.6/dist-packages (from -r /content/ytdownloader/requirements.txt (line 2)) (0.2.3.5)\n",
            "Requirement already satisfied: imageio<3.0,>=2.1.2 in /usr/local/lib/python3.6/dist-packages (from moviepy==0.2.3.5->-r /content/ytdownloader/requirements.txt (line 2)) (2.4.1)\n",
            "Requirement already satisfied: decorator<5.0,>=4.0.2 in /usr/local/lib/python3.6/dist-packages (from moviepy==0.2.3.5->-r /content/ytdownloader/requirements.txt (line 2)) (4.4.2)\n",
            "Requirement already satisfied: tqdm<5.0,>=4.11.2 in /usr/local/lib/python3.6/dist-packages (from moviepy==0.2.3.5->-r /content/ytdownloader/requirements.txt (line 2)) (4.41.1)\n",
            "Requirement already satisfied: numpy in /usr/local/lib/python3.6/dist-packages (from moviepy==0.2.3.5->-r /content/ytdownloader/requirements.txt (line 2)) (1.18.5)\n",
            "Requirement already satisfied: pillow in /usr/local/lib/python3.6/dist-packages (from imageio<3.0,>=2.1.2->moviepy==0.2.3.5->-r /content/ytdownloader/requirements.txt (line 2)) (7.0.0)\n"
          ],
          "name": "stdout"
        }
      ]
    },
    {
      "cell_type": "markdown",
      "metadata": {
        "id": "3t27HVa7ocK3",
        "colab_type": "text"
      },
      "source": [
        "##### Useful global variables."
      ]
    },
    {
      "cell_type": "code",
      "metadata": {
        "id": "mI6AxLVajh6A",
        "colab_type": "code",
        "colab": {}
      },
      "source": [
        "obj_class_labels = ['tree', 'person', 'street light']"
      ],
      "execution_count": 3,
      "outputs": []
    },
    {
      "cell_type": "code",
      "metadata": {
        "id": "F3RSV7bE-RCh",
        "colab_type": "code",
        "colab": {}
      },
      "source": [
        "root_dir = '/content/drive/My Drive/Colab Notebooks/snow_grooming/'"
      ],
      "execution_count": 4,
      "outputs": []
    },
    {
      "cell_type": "markdown",
      "metadata": {
        "id": "ehYEE6StDVlL",
        "colab_type": "text"
      },
      "source": [
        "##### Imports "
      ]
    },
    {
      "cell_type": "code",
      "metadata": {
        "id": "Kql8NI9716Qx",
        "colab_type": "code",
        "colab": {
          "base_uri": "https://localhost:8080/",
          "height": 34
        },
        "outputId": "33d62628-314d-4a38-8b1a-1db187a2ae97"
      },
      "source": [
        "import os\n",
        "import sys\n",
        "import time\n",
        "from datetime import datetime\n",
        "from google.colab import drive\n",
        "drive.mount(\"/content/drive\")\n",
        "\n",
        "import numpy as np\n",
        "from PIL import Image\n",
        "from ytdownloader.downloader import Downloader\n",
        "\n",
        "import cv2\n",
        "import utils\n",
        "import torch\n",
        "import torchvision\n",
        "\n",
        "# custom modules\n",
        "import sys\n",
        "root_dir = '/content/drive/My Drive/Colab Notebooks/snow_grooming/'\n",
        "sys.path.append(root_dir)\n",
        "\n",
        "from utilities import train_model\n",
        "from dataset import GoogleOpenImageDataset"
      ],
      "execution_count": 5,
      "outputs": [
        {
          "output_type": "stream",
          "text": [
            "Drive already mounted at /content/drive; to attempt to forcibly remount, call drive.mount(\"/content/drive\", force_remount=True).\n"
          ],
          "name": "stdout"
        }
      ]
    },
    {
      "cell_type": "code",
      "metadata": {
        "id": "sRDvEXG5XXug",
        "colab_type": "code",
        "colab": {}
      },
      "source": [
        "# train on the GPU or on the CPU, if a GPU is not available\n",
        "device = torch.device('cuda') if torch.cuda.is_available() else torch.device('cpu')"
      ],
      "execution_count": 6,
      "outputs": []
    },
    {
      "cell_type": "markdown",
      "metadata": {
        "id": "eyPR4xU0p4td",
        "colab_type": "text"
      },
      "source": [
        "#### Explore data format."
      ]
    },
    {
      "cell_type": "code",
      "metadata": {
        "id": "M9aFouMMmwOn",
        "colab_type": "code",
        "colab": {}
      },
      "source": [
        "dataset = GoogleOpenImageDataset(root_dir, obj_class_labels, max_images_per_class=2000, train=True)"
      ],
      "execution_count": 7,
      "outputs": []
    },
    {
      "cell_type": "code",
      "metadata": {
        "id": "rrNQrhBxfdYo",
        "colab_type": "code",
        "colab": {
          "base_uri": "https://localhost:8080/",
          "height": 578
        },
        "outputId": "c606106c-1947-4aec-848d-9a1d49b33e97"
      },
      "source": [
        "dataset[40]"
      ],
      "execution_count": 8,
      "outputs": [
        {
          "output_type": "execute_result",
          "data": {
            "text/plain": [
              "(tensor([[[0.1608, 0.1529, 0.1490,  ..., 0.0039, 0.0078, 0.0078],\n",
              "          [0.1647, 0.1569, 0.1451,  ..., 0.0118, 0.0118, 0.0157],\n",
              "          [0.1686, 0.1608, 0.1529,  ..., 0.0078, 0.0078, 0.0078],\n",
              "          ...,\n",
              "          [0.6392, 0.6431, 0.6431,  ..., 0.5765, 0.5686, 0.5882],\n",
              "          [0.6314, 0.6353, 0.6392,  ..., 0.5882, 0.5725, 0.5686],\n",
              "          [0.6157, 0.6196, 0.6235,  ..., 0.5961, 0.5804, 0.5765]],\n",
              " \n",
              "         [[0.4039, 0.4039, 0.4039,  ..., 0.3255, 0.3294, 0.3294],\n",
              "          [0.4078, 0.4078, 0.4000,  ..., 0.3333, 0.3333, 0.3373],\n",
              "          [0.4118, 0.4118, 0.4078,  ..., 0.3294, 0.3294, 0.3294],\n",
              "          ...,\n",
              "          [0.6510, 0.6549, 0.6549,  ..., 0.6000, 0.5922, 0.6118],\n",
              "          [0.6431, 0.6471, 0.6510,  ..., 0.6118, 0.5961, 0.5922],\n",
              "          [0.6275, 0.6314, 0.6353,  ..., 0.6196, 0.6039, 0.6000]],\n",
              " \n",
              "         [[0.5490, 0.5451, 0.5529,  ..., 0.4824, 0.4784, 0.4784],\n",
              "          [0.5529, 0.5490, 0.5490,  ..., 0.4902, 0.4824, 0.4863],\n",
              "          [0.5569, 0.5529, 0.5569,  ..., 0.4863, 0.4863, 0.4784],\n",
              "          ...,\n",
              "          [0.6235, 0.6196, 0.6196,  ..., 0.5451, 0.5373, 0.5569],\n",
              "          [0.6157, 0.6118, 0.6157,  ..., 0.5569, 0.5412, 0.5373],\n",
              "          [0.6000, 0.5961, 0.6000,  ..., 0.5647, 0.5490, 0.5451]]]),\n",
              " {'area': tensor([ 17340.,  26350.,  42984.,  43621.,  47929., 101260.]),\n",
              "  'boxes': tensor([[ 938.,  190., 1023.,  394.],\n",
              "          [ 788.,  183.,  943.,  353.],\n",
              "          [ 608.,  162.,  807.,  378.],\n",
              "          [ 435.,  176.,  616.,  417.],\n",
              "          [ 295.,  167.,  462.,  454.],\n",
              "          [ 107.,  220.,  439.,  525.]]),\n",
              "  'image_id': tensor([40]),\n",
              "  'iscrowd': tensor([0, 0, 0, 0, 0, 0]),\n",
              "  'labels': tensor([2, 2, 2, 2, 2, 2])})"
            ]
          },
          "metadata": {
            "tags": []
          },
          "execution_count": 8
        }
      ]
    },
    {
      "cell_type": "markdown",
      "metadata": {
        "id": "QhgsaHUOKcry",
        "colab_type": "text"
      },
      "source": [
        "### Model Selection\n",
        "\n",
        "*Note: I would have preferred to do K-Folds Cross Validation while selecting the model, but iteration was too slow given the time constraints of the project. I chose to just use one training and validation set, but recognize that isn't an optimal strategy for hyperparameter selection.*"
      ]
    },
    {
      "cell_type": "markdown",
      "metadata": {
        "id": "THS1vXqUjcQc",
        "colab_type": "text"
      },
      "source": [
        "##### Create training / validation / test dataset splits."
      ]
    },
    {
      "cell_type": "code",
      "metadata": {
        "id": "kDllrnN_rZRM",
        "colab_type": "code",
        "colab": {}
      },
      "source": [
        "# create 2 versions of the dataset. one used for training \n",
        "dataset_train = GoogleOpenImageDataset(root_dir, obj_class_labels, max_images_per_class=5000, train=True)\n",
        "dataset_train_val = GoogleOpenImageDataset(root_dir, obj_class_labels, max_images_per_class=5000, train=True)\n",
        "dataset_val = GoogleOpenImageDataset(root_dir, obj_class_labels, max_images_per_class=5000)\n",
        "dataset_test = GoogleOpenImageDataset(root_dir, obj_class_labels, max_images_per_class=5000)"
      ],
      "execution_count": 9,
      "outputs": []
    },
    {
      "cell_type": "code",
      "metadata": {
        "id": "E9qE_4PlBJF5",
        "colab_type": "code",
        "colab": {}
      },
      "source": [
        "total_size = len(dataset_test)\n",
        "\n",
        "# for trainval/test split\n",
        "train_val_percent = 0.80\n",
        "test_percent = 0.20\n",
        "train_val_size = int(train_val_percent*total_size)\n",
        "test_size = total_size - train_val_size\n",
        "splits_1 = [train_val_size, test_size]\n",
        "\n",
        "# for train/val split\n",
        "train_percent = 0.80\n",
        "val_percent = 0.20\n",
        "train_size = int(train_percent*train_val_size)\n",
        "val_size = train_val_size - train_size\n",
        "splits_2 = [train_size, val_size]"
      ],
      "execution_count": 10,
      "outputs": []
    },
    {
      "cell_type": "code",
      "metadata": {
        "id": "6HOYpkLCWiv5",
        "colab_type": "code",
        "colab": {}
      },
      "source": [
        "# split the dataset in train, val and test set\n",
        "torch.manual_seed(1)\n",
        "indices = torch.randperm(total_size).tolist()\n",
        "\n",
        "train_val_idx, test_idx = torch.utils.data.random_split(indices, splits_1)\n",
        "train_idx, val_idx = torch.utils.data.random_split(train_val_idx, splits_2)\n",
        "\n",
        "# make subsets based on train/val/test splits\n",
        "dataset_train_val = torch.utils.data.Subset(dataset_train_val, train_val_idx)\n",
        "dataset_train = torch.utils.data.Subset(dataset_train, train_idx)\n",
        "dataset_val = torch.utils.data.Subset(dataset_val, val_idx)\n",
        "dataset_test = torch.utils.data.Subset(dataset_test, test_idx)\n",
        "\n",
        "# define training and validation data loaders\n",
        "data_loader_train_val = torch.utils.data.DataLoader(\n",
        "    dataset_train_val, batch_size=2, shuffle=True, num_workers=4,\n",
        "    collate_fn=utils.collate_fn)\n",
        "\n",
        "data_loader_train = torch.utils.data.DataLoader(\n",
        "    dataset_train, batch_size=2, shuffle=True, num_workers=4,\n",
        "    collate_fn=utils.collate_fn)\n",
        "\n",
        "data_loader_val = torch.utils.data.DataLoader(\n",
        "    dataset_val, batch_size=1, shuffle=False, num_workers=4,\n",
        "    collate_fn=utils.collate_fn)\n",
        "\n",
        "data_loader_test = torch.utils.data.DataLoader(\n",
        "    dataset_test, batch_size=1, shuffle=False, num_workers=4,\n",
        "    collate_fn=utils.collate_fn)"
      ],
      "execution_count": 11,
      "outputs": []
    },
    {
      "cell_type": "markdown",
      "metadata": {
        "id": "N67F7lgzJsFs",
        "colab_type": "text"
      },
      "source": [
        "##### Define hyperparameters.\n"
      ]
    },
    {
      "cell_type": "code",
      "metadata": {
        "id": "4bcw_z5UJyw0",
        "colab_type": "code",
        "colab": {}
      },
      "source": [
        "# optimizer\n",
        "learning_rate = 0.001\n",
        "momentum = 0.9\n",
        "weight_decay = 0.0005\n",
        "\n",
        "# learning rate schedule\n",
        "step_size = 3   # learning rate will step every __ epochs\n",
        "gamma = 0.1    # learning rate will be multiplied by gamma every step \n",
        "\n",
        "num_epochs = 10\n",
        "trainable_layers = 3"
      ],
      "execution_count": 12,
      "outputs": []
    },
    {
      "cell_type": "markdown",
      "metadata": {
        "id": "f09Au6TynJiA",
        "colab_type": "text"
      },
      "source": [
        "##### Train Neural Network"
      ]
    },
    {
      "cell_type": "code",
      "metadata": {
        "id": "5wMhAN-VunkA",
        "colab_type": "code",
        "colab": {
          "base_uri": "https://localhost:8080/",
          "height": 164
        },
        "outputId": "20edbbfa-c7e2-47d5-8281-0d519998bebb"
      },
      "source": [
        "assert False"
      ],
      "execution_count": 13,
      "outputs": [
        {
          "output_type": "error",
          "ename": "AssertionError",
          "evalue": "ignored",
          "traceback": [
            "\u001b[0;31m---------------------------------------------------------------------------\u001b[0m",
            "\u001b[0;31mAssertionError\u001b[0m                            Traceback (most recent call last)",
            "\u001b[0;32m<ipython-input-13-a871fdc9ebee>\u001b[0m in \u001b[0;36m<module>\u001b[0;34m()\u001b[0m\n\u001b[0;32m----> 1\u001b[0;31m \u001b[0;32massert\u001b[0m \u001b[0;32mFalse\u001b[0m\u001b[0;34m\u001b[0m\u001b[0;34m\u001b[0m\u001b[0m\n\u001b[0m",
            "\u001b[0;31mAssertionError\u001b[0m: "
          ]
        }
      ]
    },
    {
      "cell_type": "code",
      "metadata": {
        "id": "OcRxEpw-Atq9",
        "colab_type": "code",
        "colab": {
          "base_uri": "https://localhost:8080/",
          "height": 1000,
          "referenced_widgets": [
            "83ac6fd0fafc445ba237956c673b4e95",
            "1f925d6bf1d440fea22e8df1fa032de8",
            "9c27ce8f8e504b469e8c655f9e9e335e",
            "0f2aea6b702f4d748bcb004f36fc6c3e",
            "1dabade2f1f84b44b5ce54bd2bd528d0",
            "764189b1fa59449f98ac68fc8d70c8f9",
            "cd38c69f29754026bedf1ebf4d7bf0aa",
            "b44cc33592334797b0a688b8503b31dc"
          ]
        },
        "outputId": "a250b2d7-7fde-49ae-b3f9-ad87eaccf40f"
      },
      "source": [
        "train_model(obj_class_labels, trainable_layers, device, learning_rate, momentum, \n",
        "            weight_decay, step_size, gamma, num_epochs, data_loader_train, \n",
        "            data_loader_val=data_loader_val, score_val=True)"
      ],
      "execution_count": 14,
      "outputs": [
        {
          "output_type": "stream",
          "text": [
            "Downloading: \"https://download.pytorch.org/models/fasterrcnn_resnet50_fpn_coco-258fb6c6.pth\" to /root/.cache/torch/hub/checkpoints/fasterrcnn_resnet50_fpn_coco-258fb6c6.pth\n"
          ],
          "name": "stderr"
        },
        {
          "output_type": "display_data",
          "data": {
            "application/vnd.jupyter.widget-view+json": {
              "model_id": "83ac6fd0fafc445ba237956c673b4e95",
              "version_minor": 0,
              "version_major": 2
            },
            "text/plain": [
              "HBox(children=(FloatProgress(value=0.0, max=167502836.0), HTML(value='')))"
            ]
          },
          "metadata": {
            "tags": []
          }
        },
        {
          "output_type": "stream",
          "text": [
            "\n"
          ],
          "name": "stdout"
        },
        {
          "output_type": "stream",
          "text": [
            "/usr/local/lib/python3.6/dist-packages/torchvision/ops/boxes.py:101: UserWarning: This overload of nonzero is deprecated:\n",
            "\tnonzero()\n",
            "Consider using one of the following signatures instead:\n",
            "\tnonzero(*, bool as_tuple) (Triggered internally at  /pytorch/torch/csrc/utils/python_arg_parser.cpp:766.)\n",
            "  keep = keep.nonzero().squeeze(1)\n"
          ],
          "name": "stderr"
        },
        {
          "output_type": "stream",
          "text": [
            "Epoch: [0]  [   0/4439]  eta: 5:01:36  lr: 0.000002  loss: 2.4437 (2.4437)  loss_classifier: 1.6370 (1.6370)  loss_box_reg: 0.1844 (0.1844)  loss_objectness: 0.5860 (0.5860)  loss_rpn_box_reg: 0.0364 (0.0364)  time: 4.0767  data: 2.9784  max mem: 2962\n",
            "Epoch: [0]  [ 100/4439]  eta: 0:53:17  lr: 0.000102  loss: 0.3776 (0.9915)  loss_classifier: 0.1240 (0.5930)  loss_box_reg: 0.0738 (0.0805)  loss_objectness: 0.1359 (0.2823)  loss_rpn_box_reg: 0.0179 (0.0356)  time: 0.6810  data: 0.4758  max mem: 4038\n",
            "Epoch: [0]  [ 200/4439]  eta: 0:50:54  lr: 0.000202  loss: 0.2922 (0.7272)  loss_classifier: 0.1437 (0.3764)  loss_box_reg: 0.0918 (0.0978)  loss_objectness: 0.0688 (0.2156)  loss_rpn_box_reg: 0.0142 (0.0373)  time: 0.6881  data: 0.4714  max mem: 4038\n",
            "Epoch: [0]  [ 300/4439]  eta: 0:49:01  lr: 0.000302  loss: 0.2510 (0.6171)  loss_classifier: 0.1048 (0.2915)  loss_box_reg: 0.0553 (0.0913)  loss_objectness: 0.0948 (0.1966)  loss_rpn_box_reg: 0.0096 (0.0377)  time: 0.7027  data: 0.4913  max mem: 4038\n",
            "Epoch: [0]  [ 400/4439]  eta: 0:47:33  lr: 0.000402  loss: 0.2880 (0.5596)  loss_classifier: 0.0917 (0.2495)  loss_box_reg: 0.0657 (0.0911)  loss_objectness: 0.0508 (0.1810)  loss_rpn_box_reg: 0.0111 (0.0381)  time: 0.7101  data: 0.5030  max mem: 4040\n",
            "Epoch: [0]  [ 500/4439]  eta: 0:46:30  lr: 0.000501  loss: 0.3735 (0.5549)  loss_classifier: 0.1194 (0.2251)  loss_box_reg: 0.0774 (0.0916)  loss_objectness: 0.1047 (0.1765)  loss_rpn_box_reg: 0.0278 (0.0615)  time: 0.6891  data: 0.4843  max mem: 4040\n",
            "Epoch: [0]  [ 600/4439]  eta: 0:45:22  lr: 0.000601  loss: 0.2327 (0.5187)  loss_classifier: 0.0854 (0.2057)  loss_box_reg: 0.0679 (0.0899)  loss_objectness: 0.0604 (0.1641)  loss_rpn_box_reg: 0.0156 (0.0591)  time: 0.6789  data: 0.4788  max mem: 4040\n",
            "Epoch: [0]  [ 700/4439]  eta: 0:43:59  lr: 0.000701  loss: 0.2320 (0.5038)  loss_classifier: 0.0826 (0.1944)  loss_box_reg: 0.0462 (0.0914)  loss_objectness: 0.0743 (0.1604)  loss_rpn_box_reg: 0.0242 (0.0576)  time: 0.6821  data: 0.4840  max mem: 4227\n",
            "Epoch: [0]  [ 800/4439]  eta: 0:42:56  lr: 0.000801  loss: 0.2442 (0.4835)  loss_classifier: 0.0951 (0.1847)  loss_box_reg: 0.0593 (0.0913)  loss_objectness: 0.0547 (0.1531)  loss_rpn_box_reg: 0.0111 (0.0544)  time: 0.7374  data: 0.5234  max mem: 4227\n",
            "Epoch: [0]  [ 900/4439]  eta: 0:41:46  lr: 0.000901  loss: 0.2907 (0.4847)  loss_classifier: 0.0780 (0.1767)  loss_box_reg: 0.0548 (0.0905)  loss_objectness: 0.0821 (0.1508)  loss_rpn_box_reg: 0.0150 (0.0667)  time: 0.6850  data: 0.4921  max mem: 4227\n",
            "Epoch: [0]  [1000/4439]  eta: 0:40:35  lr: 0.001000  loss: 0.2711 (0.4706)  loss_classifier: 0.0644 (0.1694)  loss_box_reg: 0.0440 (0.0889)  loss_objectness: 0.0730 (0.1489)  loss_rpn_box_reg: 0.0116 (0.0633)  time: 0.6909  data: 0.4839  max mem: 4227\n",
            "Epoch: [0]  [1100/4439]  eta: 0:39:26  lr: 0.001000  loss: 0.3259 (0.4776)  loss_classifier: 0.0910 (0.1651)  loss_box_reg: 0.0851 (0.0895)  loss_objectness: 0.0564 (0.1470)  loss_rpn_box_reg: 0.0171 (0.0759)  time: 0.7020  data: 0.4898  max mem: 4227\n",
            "Epoch: [0]  [1200/4439]  eta: 0:38:14  lr: 0.001000  loss: 0.2383 (0.4672)  loss_classifier: 0.0786 (0.1607)  loss_box_reg: 0.0670 (0.0889)  loss_objectness: 0.0539 (0.1446)  loss_rpn_box_reg: 0.0211 (0.0730)  time: 0.7184  data: 0.5154  max mem: 4227\n",
            "Epoch: [0]  [1300/4439]  eta: 0:37:07  lr: 0.001000  loss: 0.2447 (0.4684)  loss_classifier: 0.0722 (0.1559)  loss_box_reg: 0.0438 (0.0872)  loss_objectness: 0.0728 (0.1469)  loss_rpn_box_reg: 0.0183 (0.0783)  time: 0.6957  data: 0.4921  max mem: 4227\n",
            "Epoch: [0]  [1400/4439]  eta: 0:36:02  lr: 0.001000  loss: 0.2831 (0.4605)  loss_classifier: 0.1005 (0.1529)  loss_box_reg: 0.0582 (0.0873)  loss_objectness: 0.0837 (0.1449)  loss_rpn_box_reg: 0.0178 (0.0753)  time: 0.7134  data: 0.5217  max mem: 4227\n",
            "Epoch: [0]  [1500/4439]  eta: 0:34:54  lr: 0.001000  loss: 0.1968 (0.4518)  loss_classifier: 0.0720 (0.1499)  loss_box_reg: 0.0473 (0.0873)  loss_objectness: 0.0520 (0.1423)  loss_rpn_box_reg: 0.0189 (0.0724)  time: 0.7020  data: 0.5093  max mem: 4227\n",
            "Epoch: [0]  [1600/4439]  eta: 0:33:40  lr: 0.001000  loss: 0.2792 (0.4442)  loss_classifier: 0.0919 (0.1477)  loss_box_reg: 0.0730 (0.0871)  loss_objectness: 0.0688 (0.1393)  loss_rpn_box_reg: 0.0143 (0.0702)  time: 0.6884  data: 0.4919  max mem: 4227\n",
            "Epoch: [0]  [1700/4439]  eta: 0:32:27  lr: 0.001000  loss: 0.3283 (0.4407)  loss_classifier: 0.1102 (0.1455)  loss_box_reg: 0.0583 (0.0865)  loss_objectness: 0.1077 (0.1392)  loss_rpn_box_reg: 0.0225 (0.0695)  time: 0.6858  data: 0.4859  max mem: 4227\n",
            "Epoch: [0]  [1800/4439]  eta: 0:31:11  lr: 0.001000  loss: 0.2321 (0.4332)  loss_classifier: 0.0812 (0.1428)  loss_box_reg: 0.0677 (0.0855)  loss_objectness: 0.0808 (0.1376)  loss_rpn_box_reg: 0.0100 (0.0673)  time: 0.7002  data: 0.4930  max mem: 4227\n",
            "Epoch: [0]  [1900/4439]  eta: 0:30:03  lr: 0.001000  loss: 0.2520 (0.4275)  loss_classifier: 0.0839 (0.1410)  loss_box_reg: 0.0601 (0.0849)  loss_objectness: 0.0492 (0.1360)  loss_rpn_box_reg: 0.0223 (0.0657)  time: 0.6838  data: 0.4740  max mem: 4227\n",
            "Epoch: [0]  [2000/4439]  eta: 0:28:49  lr: 0.001000  loss: 0.2180 (0.4283)  loss_classifier: 0.0896 (0.1397)  loss_box_reg: 0.0711 (0.0851)  loss_objectness: 0.0462 (0.1362)  loss_rpn_box_reg: 0.0139 (0.0673)  time: 0.6747  data: 0.4691  max mem: 4227\n",
            "Epoch: [0]  [2100/4439]  eta: 0:27:41  lr: 0.001000  loss: 0.2331 (0.4224)  loss_classifier: 0.1042 (0.1380)  loss_box_reg: 0.0677 (0.0846)  loss_objectness: 0.0487 (0.1342)  loss_rpn_box_reg: 0.0144 (0.0656)  time: 0.8278  data: 0.6260  max mem: 4407\n",
            "Epoch: [0]  [2200/4439]  eta: 0:26:29  lr: 0.001000  loss: 0.2117 (0.4242)  loss_classifier: 0.0722 (0.1368)  loss_box_reg: 0.0595 (0.0849)  loss_objectness: 0.0515 (0.1327)  loss_rpn_box_reg: 0.0086 (0.0697)  time: 0.6888  data: 0.4791  max mem: 4407\n",
            "Epoch: [0]  [2300/4439]  eta: 0:25:17  lr: 0.001000  loss: 0.2437 (0.4232)  loss_classifier: 0.0874 (0.1364)  loss_box_reg: 0.0463 (0.0854)  loss_objectness: 0.0694 (0.1328)  loss_rpn_box_reg: 0.0158 (0.0686)  time: 0.6883  data: 0.4862  max mem: 4407\n",
            "Epoch: [0]  [2400/4439]  eta: 0:24:08  lr: 0.001000  loss: 0.2348 (0.4200)  loss_classifier: 0.1008 (0.1356)  loss_box_reg: 0.0646 (0.0852)  loss_objectness: 0.0725 (0.1318)  loss_rpn_box_reg: 0.0188 (0.0673)  time: 0.7566  data: 0.5593  max mem: 4407\n",
            "Epoch: [0]  [2500/4439]  eta: 0:22:55  lr: 0.001000  loss: 0.2642 (0.4210)  loss_classifier: 0.1002 (0.1349)  loss_box_reg: 0.0641 (0.0854)  loss_objectness: 0.0633 (0.1315)  loss_rpn_box_reg: 0.0260 (0.0692)  time: 0.6439  data: 0.4477  max mem: 4407\n",
            "Epoch: [0]  [2600/4439]  eta: 0:21:49  lr: 0.001000  loss: 0.2579 (0.4184)  loss_classifier: 0.0889 (0.1344)  loss_box_reg: 0.0498 (0.0853)  loss_objectness: 0.0526 (0.1307)  loss_rpn_box_reg: 0.0122 (0.0679)  time: 0.7446  data: 0.5450  max mem: 4407\n",
            "Epoch: [0]  [2700/4439]  eta: 0:20:36  lr: 0.001000  loss: 0.2027 (0.4153)  loss_classifier: 0.0642 (0.1332)  loss_box_reg: 0.0499 (0.0848)  loss_objectness: 0.0615 (0.1302)  loss_rpn_box_reg: 0.0098 (0.0671)  time: 0.6865  data: 0.4814  max mem: 4407\n",
            "Epoch: [0]  [2800/4439]  eta: 0:19:25  lr: 0.001000  loss: 0.2404 (0.4155)  loss_classifier: 0.0941 (0.1322)  loss_box_reg: 0.0551 (0.0844)  loss_objectness: 0.0589 (0.1296)  loss_rpn_box_reg: 0.0212 (0.0693)  time: 0.7209  data: 0.5176  max mem: 4407\n",
            "Epoch: [0]  [2900/4439]  eta: 0:18:14  lr: 0.001000  loss: 0.2378 (0.4131)  loss_classifier: 0.0948 (0.1312)  loss_box_reg: 0.0644 (0.0841)  loss_objectness: 0.0552 (0.1293)  loss_rpn_box_reg: 0.0151 (0.0686)  time: 0.7322  data: 0.5172  max mem: 4407\n",
            "Epoch: [0]  [3000/4439]  eta: 0:17:02  lr: 0.001000  loss: 0.2599 (0.4149)  loss_classifier: 0.0891 (0.1304)  loss_box_reg: 0.0613 (0.0839)  loss_objectness: 0.0460 (0.1286)  loss_rpn_box_reg: 0.0188 (0.0719)  time: 0.7132  data: 0.4967  max mem: 4407\n",
            "Epoch: [0]  [3100/4439]  eta: 0:15:51  lr: 0.001000  loss: 0.2215 (0.4158)  loss_classifier: 0.0804 (0.1295)  loss_box_reg: 0.0566 (0.0837)  loss_objectness: 0.0519 (0.1280)  loss_rpn_box_reg: 0.0115 (0.0746)  time: 0.7282  data: 0.5305  max mem: 4407\n",
            "Epoch: [0]  [3200/4439]  eta: 0:14:41  lr: 0.001000  loss: 0.2445 (0.4210)  loss_classifier: 0.0803 (0.1288)  loss_box_reg: 0.0734 (0.0834)  loss_objectness: 0.0579 (0.1280)  loss_rpn_box_reg: 0.0161 (0.0808)  time: 0.6871  data: 0.4839  max mem: 4407\n",
            "Epoch: [0]  [3300/4439]  eta: 0:13:31  lr: 0.001000  loss: 0.2118 (0.4300)  loss_classifier: 0.0806 (0.1285)  loss_box_reg: 0.0501 (0.0838)  loss_objectness: 0.0638 (0.1271)  loss_rpn_box_reg: 0.0174 (0.0906)  time: 0.6751  data: 0.4797  max mem: 4407\n",
            "Epoch: [0]  [3400/4439]  eta: 0:12:20  lr: 0.001000  loss: 0.2247 (0.4293)  loss_classifier: 0.0712 (0.1278)  loss_box_reg: 0.0618 (0.0835)  loss_objectness: 0.0474 (0.1271)  loss_rpn_box_reg: 0.0108 (0.0909)  time: 0.7446  data: 0.5448  max mem: 4407\n",
            "Epoch: [0]  [3500/4439]  eta: 0:11:09  lr: 0.001000  loss: 0.1973 (0.4268)  loss_classifier: 0.0661 (0.1270)  loss_box_reg: 0.0460 (0.0830)  loss_objectness: 0.0600 (0.1272)  loss_rpn_box_reg: 0.0088 (0.0895)  time: 0.6777  data: 0.4807  max mem: 4407\n",
            "Epoch: [0]  [3600/4439]  eta: 0:09:57  lr: 0.001000  loss: 0.2191 (0.4248)  loss_classifier: 0.0668 (0.1267)  loss_box_reg: 0.0450 (0.0830)  loss_objectness: 0.0645 (0.1269)  loss_rpn_box_reg: 0.0125 (0.0882)  time: 0.6454  data: 0.4472  max mem: 4407\n",
            "Epoch: [0]  [3700/4439]  eta: 0:08:46  lr: 0.001000  loss: 0.2342 (0.4214)  loss_classifier: 0.0836 (0.1258)  loss_box_reg: 0.0619 (0.0826)  loss_objectness: 0.0492 (0.1262)  loss_rpn_box_reg: 0.0099 (0.0869)  time: 0.7636  data: 0.5592  max mem: 4407\n",
            "Epoch: [0]  [3800/4439]  eta: 0:07:34  lr: 0.001000  loss: 0.2006 (0.4187)  loss_classifier: 0.0594 (0.1251)  loss_box_reg: 0.0430 (0.0823)  loss_objectness: 0.0490 (0.1258)  loss_rpn_box_reg: 0.0129 (0.0855)  time: 0.6773  data: 0.4718  max mem: 4407\n",
            "Epoch: [0]  [3900/4439]  eta: 0:06:23  lr: 0.001000  loss: 0.2326 (0.4161)  loss_classifier: 0.0829 (0.1246)  loss_box_reg: 0.0561 (0.0821)  loss_objectness: 0.0739 (0.1252)  loss_rpn_box_reg: 0.0182 (0.0841)  time: 0.7129  data: 0.5132  max mem: 4407\n",
            "Epoch: [0]  [4000/4439]  eta: 0:05:12  lr: 0.001000  loss: 0.2291 (0.4146)  loss_classifier: 0.0974 (0.1244)  loss_box_reg: 0.0606 (0.0823)  loss_objectness: 0.0477 (0.1249)  loss_rpn_box_reg: 0.0248 (0.0830)  time: 0.7039  data: 0.4824  max mem: 4407\n",
            "Epoch: [0]  [4100/4439]  eta: 0:04:00  lr: 0.001000  loss: 0.3041 (0.4131)  loss_classifier: 0.0755 (0.1240)  loss_box_reg: 0.0582 (0.0821)  loss_objectness: 0.0709 (0.1249)  loss_rpn_box_reg: 0.0274 (0.0822)  time: 0.6853  data: 0.4869  max mem: 4407\n",
            "Epoch: [0]  [4200/4439]  eta: 0:02:50  lr: 0.001000  loss: 0.2205 (0.4117)  loss_classifier: 0.0845 (0.1235)  loss_box_reg: 0.0552 (0.0821)  loss_objectness: 0.0697 (0.1249)  loss_rpn_box_reg: 0.0130 (0.0812)  time: 0.7349  data: 0.5254  max mem: 4407\n",
            "Epoch: [0]  [4300/4439]  eta: 0:01:39  lr: 0.001000  loss: 0.1997 (0.4095)  loss_classifier: 0.0675 (0.1228)  loss_box_reg: 0.0533 (0.0818)  loss_objectness: 0.0625 (0.1246)  loss_rpn_box_reg: 0.0093 (0.0803)  time: 0.7093  data: 0.5114  max mem: 4407\n",
            "Epoch: [0]  [4400/4439]  eta: 0:00:27  lr: 0.001000  loss: 0.2295 (0.4075)  loss_classifier: 0.0867 (0.1225)  loss_box_reg: 0.0540 (0.0819)  loss_objectness: 0.0553 (0.1239)  loss_rpn_box_reg: 0.0122 (0.0792)  time: 0.6635  data: 0.4642  max mem: 4407\n",
            "Epoch: [0]  [4438/4439]  eta: 0:00:00  lr: 0.001000  loss: 0.1954 (0.4063)  loss_classifier: 0.0730 (0.1222)  loss_box_reg: 0.0612 (0.0817)  loss_objectness: 0.0397 (0.1236)  loss_rpn_box_reg: 0.0153 (0.0788)  time: 0.6602  data: 0.4574  max mem: 4407\n",
            "Epoch: [0] Total time: 0:52:42 (0.7124 s / it)\n",
            "creating index...\n",
            "index created!\n",
            "Test:  [   0/2220]  eta: 0:12:59  model_time: 0.0602 (0.0602)  evaluator_time: 0.0216 (0.0216)  time: 0.3513  data: 0.2651  max mem: 4407\n",
            "Test:  [ 100/2220]  eta: 0:02:08  model_time: 0.0440 (0.0443)  evaluator_time: 0.0064 (0.0074)  time: 0.0572  data: 0.0036  max mem: 4407\n",
            "Test:  [ 200/2220]  eta: 0:01:59  model_time: 0.0450 (0.0446)  evaluator_time: 0.0061 (0.0068)  time: 0.0583  data: 0.0035  max mem: 4407\n",
            "Test:  [ 300/2220]  eta: 0:01:52  model_time: 0.0446 (0.0444)  evaluator_time: 0.0056 (0.0069)  time: 0.0575  data: 0.0037  max mem: 4407\n",
            "Test:  [ 400/2220]  eta: 0:01:45  model_time: 0.0449 (0.0444)  evaluator_time: 0.0054 (0.0067)  time: 0.0575  data: 0.0035  max mem: 4407\n",
            "Test:  [ 500/2220]  eta: 0:01:39  model_time: 0.0448 (0.0444)  evaluator_time: 0.0055 (0.0066)  time: 0.0566  data: 0.0035  max mem: 4407\n",
            "Test:  [ 600/2220]  eta: 0:01:33  model_time: 0.0431 (0.0444)  evaluator_time: 0.0055 (0.0066)  time: 0.0566  data: 0.0038  max mem: 4407\n",
            "Test:  [ 700/2220]  eta: 0:01:27  model_time: 0.0447 (0.0444)  evaluator_time: 0.0058 (0.0066)  time: 0.0580  data: 0.0038  max mem: 4407\n",
            "Test:  [ 800/2220]  eta: 0:01:22  model_time: 0.0439 (0.0445)  evaluator_time: 0.0057 (0.0066)  time: 0.0575  data: 0.0035  max mem: 4407\n",
            "Test:  [ 900/2220]  eta: 0:01:17  model_time: 0.0446 (0.0445)  evaluator_time: 0.0055 (0.0065)  time: 0.0561  data: 0.0036  max mem: 4407\n",
            "Test:  [1000/2220]  eta: 0:01:11  model_time: 0.0446 (0.0445)  evaluator_time: 0.0053 (0.0066)  time: 0.0564  data: 0.0037  max mem: 4407\n",
            "Test:  [1100/2220]  eta: 0:01:05  model_time: 0.0447 (0.0444)  evaluator_time: 0.0056 (0.0066)  time: 0.0560  data: 0.0037  max mem: 4407\n",
            "Test:  [1200/2220]  eta: 0:00:59  model_time: 0.0428 (0.0444)  evaluator_time: 0.0054 (0.0066)  time: 0.0554  data: 0.0036  max mem: 4407\n",
            "Test:  [1300/2220]  eta: 0:00:53  model_time: 0.0443 (0.0444)  evaluator_time: 0.0054 (0.0066)  time: 0.0563  data: 0.0034  max mem: 4407\n",
            "Test:  [1400/2220]  eta: 0:00:47  model_time: 0.0448 (0.0444)  evaluator_time: 0.0059 (0.0066)  time: 0.0575  data: 0.0033  max mem: 4407\n",
            "Test:  [1500/2220]  eta: 0:00:41  model_time: 0.0438 (0.0444)  evaluator_time: 0.0053 (0.0066)  time: 0.0562  data: 0.0039  max mem: 4407\n",
            "Test:  [1600/2220]  eta: 0:00:35  model_time: 0.0443 (0.0444)  evaluator_time: 0.0052 (0.0065)  time: 0.0577  data: 0.0035  max mem: 4407\n",
            "Test:  [1700/2220]  eta: 0:00:30  model_time: 0.0448 (0.0444)  evaluator_time: 0.0057 (0.0065)  time: 0.0578  data: 0.0035  max mem: 4407\n",
            "Test:  [1800/2220]  eta: 0:00:24  model_time: 0.0444 (0.0443)  evaluator_time: 0.0056 (0.0065)  time: 0.0575  data: 0.0037  max mem: 4407\n",
            "Test:  [1900/2220]  eta: 0:00:18  model_time: 0.0445 (0.0443)  evaluator_time: 0.0053 (0.0065)  time: 0.0562  data: 0.0035  max mem: 4407\n",
            "Test:  [2000/2220]  eta: 0:00:12  model_time: 0.0443 (0.0443)  evaluator_time: 0.0055 (0.0065)  time: 0.0568  data: 0.0039  max mem: 4407\n",
            "Test:  [2100/2220]  eta: 0:00:06  model_time: 0.0429 (0.0443)  evaluator_time: 0.0056 (0.0065)  time: 0.0564  data: 0.0041  max mem: 4407\n",
            "Test:  [2200/2220]  eta: 0:00:01  model_time: 0.0426 (0.0442)  evaluator_time: 0.0064 (0.0065)  time: 0.0567  data: 0.0038  max mem: 4407\n",
            "Test:  [2219/2220]  eta: 0:00:00  model_time: 0.0435 (0.0442)  evaluator_time: 0.0054 (0.0065)  time: 0.0590  data: 0.0037  max mem: 4407\n",
            "Test: Total time: 0:02:08 (0.0577 s / it)\n",
            "Averaged stats: model_time: 0.0435 (0.0442)  evaluator_time: 0.0054 (0.0065)\n",
            "Accumulating evaluation results...\n",
            "DONE (t=0.75s).\n",
            "IoU metric: bbox\n",
            " Average Precision  (AP) @[ IoU=0.50:0.95 | area=   all | maxDets=100 ] = 0.058\n",
            " Average Precision  (AP) @[ IoU=0.50      | area=   all | maxDets=100 ] = 0.135\n",
            " Average Precision  (AP) @[ IoU=0.75      | area=   all | maxDets=100 ] = 0.039\n",
            " Average Precision  (AP) @[ IoU=0.50:0.95 | area= small | maxDets=100 ] = 0.013\n",
            " Average Precision  (AP) @[ IoU=0.50:0.95 | area=medium | maxDets=100 ] = 0.049\n",
            " Average Precision  (AP) @[ IoU=0.50:0.95 | area= large | maxDets=100 ] = 0.092\n",
            " Average Recall     (AR) @[ IoU=0.50:0.95 | area=   all | maxDets=  1 ] = 0.071\n",
            " Average Recall     (AR) @[ IoU=0.50:0.95 | area=   all | maxDets= 10 ] = 0.174\n",
            " Average Recall     (AR) @[ IoU=0.50:0.95 | area=   all | maxDets=100 ] = 0.202\n",
            " Average Recall     (AR) @[ IoU=0.50:0.95 | area= small | maxDets=100 ] = 0.077\n",
            " Average Recall     (AR) @[ IoU=0.50:0.95 | area=medium | maxDets=100 ] = 0.185\n",
            " Average Recall     (AR) @[ IoU=0.50:0.95 | area= large | maxDets=100 ] = 0.272\n",
            "Epoch: [1]  [   0/4439]  eta: 0:40:06  lr: 0.001000  loss: 0.1548 (0.1548)  loss_classifier: 0.0410 (0.0410)  loss_box_reg: 0.0465 (0.0465)  loss_objectness: 0.0358 (0.0358)  loss_rpn_box_reg: 0.0315 (0.0315)  time: 0.5422  data: 0.3013  max mem: 4407\n",
            "Epoch: [1]  [ 100/4439]  eta: 0:15:25  lr: 0.001000  loss: 0.1955 (0.2926)  loss_classifier: 0.0767 (0.0988)  loss_box_reg: 0.0592 (0.0777)  loss_objectness: 0.0447 (0.0871)  loss_rpn_box_reg: 0.0131 (0.0290)  time: 0.2151  data: 0.0063  max mem: 4407\n",
            "Epoch: [1]  [ 200/4439]  eta: 0:15:00  lr: 0.001000  loss: 0.2265 (0.3955)  loss_classifier: 0.0747 (0.1077)  loss_box_reg: 0.0482 (0.0835)  loss_objectness: 0.0626 (0.1080)  loss_rpn_box_reg: 0.0113 (0.0962)  time: 0.2118  data: 0.0060  max mem: 4407\n",
            "Epoch: [1]  [ 300/4439]  eta: 0:14:34  lr: 0.001000  loss: 0.2759 (0.3737)  loss_classifier: 0.0853 (0.1092)  loss_box_reg: 0.0611 (0.0835)  loss_objectness: 0.0445 (0.1067)  loss_rpn_box_reg: 0.0144 (0.0743)  time: 0.2079  data: 0.0065  max mem: 4407\n",
            "Epoch: [1]  [ 400/4439]  eta: 0:14:10  lr: 0.001000  loss: 0.2244 (0.3658)  loss_classifier: 0.0763 (0.1089)  loss_box_reg: 0.0530 (0.0830)  loss_objectness: 0.0598 (0.1069)  loss_rpn_box_reg: 0.0157 (0.0669)  time: 0.2141  data: 0.0064  max mem: 4407\n",
            "Epoch: [1]  [ 500/4439]  eta: 0:13:47  lr: 0.001000  loss: 0.1724 (0.3510)  loss_classifier: 0.0540 (0.1054)  loss_box_reg: 0.0380 (0.0808)  loss_objectness: 0.0482 (0.1042)  loss_rpn_box_reg: 0.0112 (0.0606)  time: 0.2087  data: 0.0064  max mem: 4407\n",
            "Epoch: [1]  [ 600/4439]  eta: 0:13:26  lr: 0.001000  loss: 0.2567 (0.3457)  loss_classifier: 0.0890 (0.1051)  loss_box_reg: 0.0535 (0.0800)  loss_objectness: 0.0632 (0.1038)  loss_rpn_box_reg: 0.0217 (0.0567)  time: 0.2105  data: 0.0064  max mem: 4407\n",
            "Epoch: [1]  [ 700/4439]  eta: 0:13:05  lr: 0.001000  loss: 0.1987 (0.3459)  loss_classifier: 0.0725 (0.1063)  loss_box_reg: 0.0522 (0.0809)  loss_objectness: 0.0454 (0.1039)  loss_rpn_box_reg: 0.0150 (0.0549)  time: 0.2073  data: 0.0065  max mem: 4407\n",
            "Epoch: [1]  [ 800/4439]  eta: 0:12:45  lr: 0.001000  loss: 0.4070 (0.3675)  loss_classifier: 0.1348 (0.1090)  loss_box_reg: 0.0644 (0.0821)  loss_objectness: 0.0961 (0.1074)  loss_rpn_box_reg: 0.0118 (0.0690)  time: 0.2079  data: 0.0064  max mem: 4407\n",
            "Epoch: [1]  [ 900/4439]  eta: 0:12:26  lr: 0.001000  loss: 0.2266 (0.3660)  loss_classifier: 0.0742 (0.1099)  loss_box_reg: 0.0462 (0.0823)  loss_objectness: 0.0580 (0.1084)  loss_rpn_box_reg: 0.0154 (0.0655)  time: 0.2068  data: 0.0064  max mem: 4407\n",
            "Epoch: [1]  [1000/4439]  eta: 0:12:03  lr: 0.001000  loss: 0.2221 (0.3640)  loss_classifier: 0.0725 (0.1101)  loss_box_reg: 0.0594 (0.0822)  loss_objectness: 0.0614 (0.1092)  loss_rpn_box_reg: 0.0135 (0.0625)  time: 0.2037  data: 0.0069  max mem: 4407\n",
            "Epoch: [1]  [1100/4439]  eta: 0:11:42  lr: 0.001000  loss: 0.2980 (0.3621)  loss_classifier: 0.0999 (0.1106)  loss_box_reg: 0.0723 (0.0822)  loss_objectness: 0.0579 (0.1093)  loss_rpn_box_reg: 0.0245 (0.0601)  time: 0.2110  data: 0.0062  max mem: 4407\n",
            "Epoch: [1]  [1200/4439]  eta: 0:11:22  lr: 0.001000  loss: 0.2421 (0.3587)  loss_classifier: 0.0808 (0.1106)  loss_box_reg: 0.0702 (0.0826)  loss_objectness: 0.0398 (0.1075)  loss_rpn_box_reg: 0.0239 (0.0580)  time: 0.2159  data: 0.0076  max mem: 4407\n",
            "Epoch: [1]  [1300/4439]  eta: 0:11:01  lr: 0.001000  loss: 0.1873 (0.3530)  loss_classifier: 0.0702 (0.1097)  loss_box_reg: 0.0745 (0.0819)  loss_objectness: 0.0343 (0.1054)  loss_rpn_box_reg: 0.0129 (0.0560)  time: 0.2089  data: 0.0064  max mem: 4407\n",
            "Epoch: [1]  [1400/4439]  eta: 0:10:40  lr: 0.001000  loss: 0.2299 (0.3486)  loss_classifier: 0.0703 (0.1092)  loss_box_reg: 0.0631 (0.0814)  loss_objectness: 0.0522 (0.1041)  loss_rpn_box_reg: 0.0174 (0.0540)  time: 0.2098  data: 0.0063  max mem: 4407\n",
            "Epoch: [1]  [1500/4439]  eta: 0:10:19  lr: 0.001000  loss: 0.2176 (0.3448)  loss_classifier: 0.0846 (0.1089)  loss_box_reg: 0.0545 (0.0813)  loss_objectness: 0.0549 (0.1020)  loss_rpn_box_reg: 0.0135 (0.0527)  time: 0.2184  data: 0.0080  max mem: 4407\n",
            "Epoch: [1]  [1600/4439]  eta: 0:09:58  lr: 0.001000  loss: 0.2795 (0.3436)  loss_classifier: 0.0917 (0.1090)  loss_box_reg: 0.0614 (0.0812)  loss_objectness: 0.0658 (0.1020)  loss_rpn_box_reg: 0.0169 (0.0514)  time: 0.2095  data: 0.0071  max mem: 4408\n",
            "Epoch: [1]  [1700/4439]  eta: 0:09:37  lr: 0.001000  loss: 0.2540 (0.3431)  loss_classifier: 0.0834 (0.1091)  loss_box_reg: 0.0453 (0.0813)  loss_objectness: 0.0556 (0.1023)  loss_rpn_box_reg: 0.0122 (0.0504)  time: 0.2156  data: 0.0062  max mem: 4408\n",
            "Epoch: [1]  [1800/4439]  eta: 0:09:16  lr: 0.001000  loss: 0.2675 (0.3431)  loss_classifier: 0.1102 (0.1091)  loss_box_reg: 0.0742 (0.0812)  loss_objectness: 0.0747 (0.1031)  loss_rpn_box_reg: 0.0123 (0.0497)  time: 0.2102  data: 0.0066  max mem: 4408\n",
            "Epoch: [1]  [1900/4439]  eta: 0:08:55  lr: 0.001000  loss: 0.2791 (0.3434)  loss_classifier: 0.0906 (0.1098)  loss_box_reg: 0.0675 (0.0819)  loss_objectness: 0.0395 (0.1028)  loss_rpn_box_reg: 0.0134 (0.0488)  time: 0.2098  data: 0.0063  max mem: 4408\n",
            "Epoch: [1]  [2000/4439]  eta: 0:08:34  lr: 0.001000  loss: 0.2319 (0.3408)  loss_classifier: 0.0894 (0.1096)  loss_box_reg: 0.0802 (0.0817)  loss_objectness: 0.0460 (0.1016)  loss_rpn_box_reg: 0.0154 (0.0480)  time: 0.2076  data: 0.0062  max mem: 4408\n",
            "Epoch: [1]  [2100/4439]  eta: 0:08:13  lr: 0.001000  loss: 0.1993 (0.3381)  loss_classifier: 0.0701 (0.1088)  loss_box_reg: 0.0454 (0.0812)  loss_objectness: 0.0493 (0.1003)  loss_rpn_box_reg: 0.0127 (0.0477)  time: 0.2150  data: 0.0061  max mem: 4408\n",
            "Epoch: [1]  [2200/4439]  eta: 0:07:51  lr: 0.001000  loss: 0.2105 (0.3452)  loss_classifier: 0.0659 (0.1086)  loss_box_reg: 0.0272 (0.0807)  loss_objectness: 0.0578 (0.1021)  loss_rpn_box_reg: 0.0109 (0.0537)  time: 0.2156  data: 0.0060  max mem: 4408\n",
            "Epoch: [1]  [2300/4439]  eta: 0:07:30  lr: 0.001000  loss: 0.2004 (0.3438)  loss_classifier: 0.0817 (0.1084)  loss_box_reg: 0.0597 (0.0805)  loss_objectness: 0.0494 (0.1023)  loss_rpn_box_reg: 0.0109 (0.0526)  time: 0.2095  data: 0.0063  max mem: 4734\n",
            "Epoch: [1]  [2400/4439]  eta: 0:07:09  lr: 0.001000  loss: 0.2212 (0.3430)  loss_classifier: 0.0957 (0.1087)  loss_box_reg: 0.0735 (0.0808)  loss_objectness: 0.0494 (0.1017)  loss_rpn_box_reg: 0.0136 (0.0518)  time: 0.2047  data: 0.0069  max mem: 4734\n",
            "Epoch: [1]  [2500/4439]  eta: 0:06:48  lr: 0.001000  loss: 0.2228 (0.3442)  loss_classifier: 0.0707 (0.1088)  loss_box_reg: 0.0556 (0.0810)  loss_objectness: 0.0517 (0.1028)  loss_rpn_box_reg: 0.0127 (0.0517)  time: 0.2092  data: 0.0061  max mem: 4734\n",
            "Epoch: [1]  [2600/4439]  eta: 0:06:27  lr: 0.001000  loss: 0.1783 (0.3421)  loss_classifier: 0.0701 (0.1085)  loss_box_reg: 0.0520 (0.0809)  loss_objectness: 0.0306 (0.1020)  loss_rpn_box_reg: 0.0084 (0.0507)  time: 0.2045  data: 0.0072  max mem: 4734\n",
            "Epoch: [1]  [2700/4439]  eta: 0:06:05  lr: 0.001000  loss: 0.2358 (0.3409)  loss_classifier: 0.0778 (0.1083)  loss_box_reg: 0.0477 (0.0810)  loss_objectness: 0.0552 (0.1014)  loss_rpn_box_reg: 0.0173 (0.0502)  time: 0.2118  data: 0.0067  max mem: 4734\n",
            "Epoch: [1]  [2800/4439]  eta: 0:05:44  lr: 0.001000  loss: 0.1707 (0.3446)  loss_classifier: 0.0641 (0.1086)  loss_box_reg: 0.0488 (0.0812)  loss_objectness: 0.0452 (0.1024)  loss_rpn_box_reg: 0.0075 (0.0525)  time: 0.2170  data: 0.0060  max mem: 4734\n",
            "Epoch: [1]  [2900/4439]  eta: 0:05:23  lr: 0.001000  loss: 0.1980 (0.3439)  loss_classifier: 0.0703 (0.1087)  loss_box_reg: 0.0495 (0.0811)  loss_objectness: 0.0511 (0.1024)  loss_rpn_box_reg: 0.0095 (0.0517)  time: 0.2129  data: 0.0067  max mem: 4734\n",
            "Epoch: [1]  [3000/4439]  eta: 0:05:02  lr: 0.001000  loss: 0.1683 (0.3427)  loss_classifier: 0.0701 (0.1086)  loss_box_reg: 0.0350 (0.0810)  loss_objectness: 0.0510 (0.1022)  loss_rpn_box_reg: 0.0117 (0.0510)  time: 0.2156  data: 0.0068  max mem: 4734\n",
            "Epoch: [1]  [3100/4439]  eta: 0:04:41  lr: 0.001000  loss: 0.2253 (0.3432)  loss_classifier: 0.0822 (0.1090)  loss_box_reg: 0.0504 (0.0815)  loss_objectness: 0.0523 (0.1019)  loss_rpn_box_reg: 0.0128 (0.0508)  time: 0.2076  data: 0.0068  max mem: 4734\n",
            "Epoch: [1]  [3200/4439]  eta: 0:04:20  lr: 0.001000  loss: 0.2156 (0.3444)  loss_classifier: 0.0694 (0.1091)  loss_box_reg: 0.0372 (0.0815)  loss_objectness: 0.0637 (0.1031)  loss_rpn_box_reg: 0.0153 (0.0506)  time: 0.2042  data: 0.0064  max mem: 4734\n",
            "Epoch: [1]  [3300/4439]  eta: 0:03:59  lr: 0.001000  loss: 0.1886 (0.3434)  loss_classifier: 0.0632 (0.1089)  loss_box_reg: 0.0511 (0.0813)  loss_objectness: 0.0545 (0.1031)  loss_rpn_box_reg: 0.0094 (0.0501)  time: 0.2138  data: 0.0063  max mem: 4734\n",
            "Epoch: [1]  [3400/4439]  eta: 0:03:38  lr: 0.001000  loss: 0.2561 (0.3505)  loss_classifier: 0.0929 (0.1089)  loss_box_reg: 0.0725 (0.0813)  loss_objectness: 0.0607 (0.1038)  loss_rpn_box_reg: 0.0142 (0.0565)  time: 0.2090  data: 0.0066  max mem: 4734\n",
            "Epoch: [1]  [3500/4439]  eta: 0:03:17  lr: 0.001000  loss: 0.2627 (0.3501)  loss_classifier: 0.1074 (0.1090)  loss_box_reg: 0.0656 (0.0815)  loss_objectness: 0.0474 (0.1037)  loss_rpn_box_reg: 0.0173 (0.0559)  time: 0.2179  data: 0.0070  max mem: 4734\n",
            "Epoch: [1]  [3600/4439]  eta: 0:02:56  lr: 0.001000  loss: 0.2208 (0.3483)  loss_classifier: 0.0834 (0.1089)  loss_box_reg: 0.0470 (0.0815)  loss_objectness: 0.0489 (0.1030)  loss_rpn_box_reg: 0.0151 (0.0550)  time: 0.2053  data: 0.0071  max mem: 4734\n",
            "Epoch: [1]  [3700/4439]  eta: 0:02:35  lr: 0.001000  loss: 0.2696 (0.3503)  loss_classifier: 0.0998 (0.1091)  loss_box_reg: 0.0792 (0.0817)  loss_objectness: 0.0675 (0.1031)  loss_rpn_box_reg: 0.0115 (0.0564)  time: 0.2148  data: 0.0073  max mem: 4734\n",
            "Epoch: [1]  [3800/4439]  eta: 0:02:14  lr: 0.001000  loss: 0.1815 (0.3492)  loss_classifier: 0.0618 (0.1089)  loss_box_reg: 0.0460 (0.0815)  loss_objectness: 0.0543 (0.1030)  loss_rpn_box_reg: 0.0107 (0.0557)  time: 0.2141  data: 0.0073  max mem: 4734\n",
            "Epoch: [1]  [3900/4439]  eta: 0:01:53  lr: 0.001000  loss: 0.2461 (0.3486)  loss_classifier: 0.0708 (0.1090)  loss_box_reg: 0.0530 (0.0816)  loss_objectness: 0.0460 (0.1027)  loss_rpn_box_reg: 0.0213 (0.0554)  time: 0.2049  data: 0.0068  max mem: 4734\n",
            "Epoch: [1]  [4000/4439]  eta: 0:01:32  lr: 0.001000  loss: 0.2037 (0.3512)  loss_classifier: 0.0773 (0.1090)  loss_box_reg: 0.0475 (0.0817)  loss_objectness: 0.0485 (0.1027)  loss_rpn_box_reg: 0.0142 (0.0578)  time: 0.2134  data: 0.0059  max mem: 4734\n",
            "Epoch: [1]  [4100/4439]  eta: 0:01:11  lr: 0.001000  loss: 0.1787 (0.3500)  loss_classifier: 0.0539 (0.1087)  loss_box_reg: 0.0368 (0.0815)  loss_objectness: 0.0422 (0.1024)  loss_rpn_box_reg: 0.0209 (0.0573)  time: 0.2195  data: 0.0062  max mem: 4734\n",
            "Epoch: [1]  [4200/4439]  eta: 0:00:50  lr: 0.001000  loss: 0.1947 (0.3498)  loss_classifier: 0.0799 (0.1089)  loss_box_reg: 0.0628 (0.0817)  loss_objectness: 0.0466 (0.1024)  loss_rpn_box_reg: 0.0197 (0.0568)  time: 0.2173  data: 0.0074  max mem: 4734\n",
            "Epoch: [1]  [4300/4439]  eta: 0:00:29  lr: 0.001000  loss: 0.2011 (0.3483)  loss_classifier: 0.0724 (0.1087)  loss_box_reg: 0.0585 (0.0817)  loss_objectness: 0.0629 (0.1019)  loss_rpn_box_reg: 0.0118 (0.0561)  time: 0.2171  data: 0.0070  max mem: 4734\n",
            "Epoch: [1]  [4400/4439]  eta: 0:00:08  lr: 0.001000  loss: 0.1915 (0.3550)  loss_classifier: 0.0639 (0.1085)  loss_box_reg: 0.0471 (0.0813)  loss_objectness: 0.0517 (0.1023)  loss_rpn_box_reg: 0.0139 (0.0630)  time: 0.2127  data: 0.0068  max mem: 4734\n",
            "Epoch: [1]  [4438/4439]  eta: 0:00:00  lr: 0.001000  loss: 0.2492 (0.3542)  loss_classifier: 0.0929 (0.1084)  loss_box_reg: 0.0729 (0.0812)  loss_objectness: 0.0535 (0.1019)  loss_rpn_box_reg: 0.0123 (0.0626)  time: 0.2051  data: 0.0062  max mem: 4734\n",
            "Epoch: [1] Total time: 0:15:34 (0.2106 s / it)\n",
            "creating index...\n",
            "index created!\n",
            "Test:  [   0/2220]  eta: 0:12:18  model_time: 0.0612 (0.0612)  evaluator_time: 0.0171 (0.0171)  time: 0.3327  data: 0.2512  max mem: 4734\n",
            "Test:  [ 100/2220]  eta: 0:02:12  model_time: 0.0430 (0.0449)  evaluator_time: 0.0073 (0.0087)  time: 0.0590  data: 0.0039  max mem: 4734\n",
            "Test:  [ 200/2220]  eta: 0:02:03  model_time: 0.0448 (0.0449)  evaluator_time: 0.0076 (0.0082)  time: 0.0587  data: 0.0037  max mem: 4734\n",
            "Test:  [ 300/2220]  eta: 0:01:55  model_time: 0.0439 (0.0446)  evaluator_time: 0.0070 (0.0082)  time: 0.0592  data: 0.0036  max mem: 4734\n",
            "Test:  [ 400/2220]  eta: 0:01:49  model_time: 0.0450 (0.0447)  evaluator_time: 0.0069 (0.0081)  time: 0.0591  data: 0.0036  max mem: 4734\n",
            "Test:  [ 500/2220]  eta: 0:01:42  model_time: 0.0448 (0.0447)  evaluator_time: 0.0071 (0.0080)  time: 0.0593  data: 0.0039  max mem: 4734\n",
            "Test:  [ 600/2220]  eta: 0:01:36  model_time: 0.0446 (0.0446)  evaluator_time: 0.0068 (0.0079)  time: 0.0587  data: 0.0037  max mem: 4734\n",
            "Test:  [ 700/2220]  eta: 0:01:30  model_time: 0.0449 (0.0447)  evaluator_time: 0.0071 (0.0079)  time: 0.0602  data: 0.0037  max mem: 4734\n",
            "Test:  [ 800/2220]  eta: 0:01:24  model_time: 0.0445 (0.0446)  evaluator_time: 0.0070 (0.0079)  time: 0.0589  data: 0.0035  max mem: 4734\n",
            "Test:  [ 900/2220]  eta: 0:01:19  model_time: 0.0453 (0.0446)  evaluator_time: 0.0067 (0.0079)  time: 0.0589  data: 0.0037  max mem: 4734\n",
            "Test:  [1000/2220]  eta: 0:01:12  model_time: 0.0448 (0.0446)  evaluator_time: 0.0069 (0.0079)  time: 0.0571  data: 0.0036  max mem: 4734\n",
            "Test:  [1100/2220]  eta: 0:01:06  model_time: 0.0447 (0.0445)  evaluator_time: 0.0070 (0.0079)  time: 0.0575  data: 0.0035  max mem: 4734\n",
            "Test:  [1200/2220]  eta: 0:01:00  model_time: 0.0447 (0.0446)  evaluator_time: 0.0072 (0.0079)  time: 0.0582  data: 0.0035  max mem: 4734\n",
            "Test:  [1300/2220]  eta: 0:00:54  model_time: 0.0448 (0.0446)  evaluator_time: 0.0067 (0.0080)  time: 0.0586  data: 0.0040  max mem: 4734\n",
            "Test:  [1400/2220]  eta: 0:00:48  model_time: 0.0450 (0.0446)  evaluator_time: 0.0074 (0.0080)  time: 0.0595  data: 0.0035  max mem: 4734\n",
            "Test:  [1500/2220]  eta: 0:00:42  model_time: 0.0442 (0.0445)  evaluator_time: 0.0074 (0.0080)  time: 0.0581  data: 0.0039  max mem: 4734\n",
            "Test:  [1600/2220]  eta: 0:00:36  model_time: 0.0445 (0.0445)  evaluator_time: 0.0070 (0.0080)  time: 0.0592  data: 0.0040  max mem: 4734\n",
            "Test:  [1700/2220]  eta: 0:00:30  model_time: 0.0448 (0.0445)  evaluator_time: 0.0071 (0.0080)  time: 0.0602  data: 0.0037  max mem: 4734\n",
            "Test:  [1800/2220]  eta: 0:00:24  model_time: 0.0446 (0.0445)  evaluator_time: 0.0069 (0.0080)  time: 0.0589  data: 0.0036  max mem: 4734\n",
            "Test:  [1900/2220]  eta: 0:00:19  model_time: 0.0447 (0.0445)  evaluator_time: 0.0067 (0.0080)  time: 0.0587  data: 0.0041  max mem: 4734\n",
            "Test:  [2000/2220]  eta: 0:00:13  model_time: 0.0453 (0.0445)  evaluator_time: 0.0069 (0.0080)  time: 0.0592  data: 0.0040  max mem: 4734\n",
            "Test:  [2100/2220]  eta: 0:00:07  model_time: 0.0443 (0.0445)  evaluator_time: 0.0067 (0.0079)  time: 0.0578  data: 0.0038  max mem: 4734\n",
            "Test:  [2200/2220]  eta: 0:00:01  model_time: 0.0439 (0.0445)  evaluator_time: 0.0067 (0.0079)  time: 0.0586  data: 0.0040  max mem: 4734\n",
            "Test:  [2219/2220]  eta: 0:00:00  model_time: 0.0435 (0.0445)  evaluator_time: 0.0065 (0.0079)  time: 0.0594  data: 0.0037  max mem: 4734\n",
            "Test: Total time: 0:02:11 (0.0594 s / it)\n",
            "Averaged stats: model_time: 0.0435 (0.0445)  evaluator_time: 0.0065 (0.0079)\n",
            "Accumulating evaluation results...\n",
            "DONE (t=0.82s).\n",
            "IoU metric: bbox\n",
            " Average Precision  (AP) @[ IoU=0.50:0.95 | area=   all | maxDets=100 ] = 0.065\n",
            " Average Precision  (AP) @[ IoU=0.50      | area=   all | maxDets=100 ] = 0.147\n",
            " Average Precision  (AP) @[ IoU=0.75      | area=   all | maxDets=100 ] = 0.047\n",
            " Average Precision  (AP) @[ IoU=0.50:0.95 | area= small | maxDets=100 ] = 0.014\n",
            " Average Precision  (AP) @[ IoU=0.50:0.95 | area=medium | maxDets=100 ] = 0.059\n",
            " Average Precision  (AP) @[ IoU=0.50:0.95 | area= large | maxDets=100 ] = 0.100\n",
            " Average Recall     (AR) @[ IoU=0.50:0.95 | area=   all | maxDets=  1 ] = 0.076\n",
            " Average Recall     (AR) @[ IoU=0.50:0.95 | area=   all | maxDets= 10 ] = 0.186\n",
            " Average Recall     (AR) @[ IoU=0.50:0.95 | area=   all | maxDets=100 ] = 0.210\n",
            " Average Recall     (AR) @[ IoU=0.50:0.95 | area= small | maxDets=100 ] = 0.081\n",
            " Average Recall     (AR) @[ IoU=0.50:0.95 | area=medium | maxDets=100 ] = 0.184\n",
            " Average Recall     (AR) @[ IoU=0.50:0.95 | area= large | maxDets=100 ] = 0.291\n",
            "Epoch: [2]  [   0/4439]  eta: 0:39:19  lr: 0.001000  loss: 0.4012 (0.4012)  loss_classifier: 0.2045 (0.2045)  loss_box_reg: 0.1460 (0.1460)  loss_objectness: 0.0450 (0.0450)  loss_rpn_box_reg: 0.0057 (0.0057)  time: 0.5316  data: 0.3036  max mem: 4734\n",
            "Epoch: [2]  [ 100/4439]  eta: 0:16:02  lr: 0.001000  loss: 0.1997 (0.4132)  loss_classifier: 0.0784 (0.1078)  loss_box_reg: 0.0663 (0.0847)  loss_objectness: 0.0490 (0.0922)  loss_rpn_box_reg: 0.0118 (0.1286)  time: 0.2203  data: 0.0073  max mem: 4734\n",
            "Epoch: [2]  [ 200/4439]  eta: 0:15:19  lr: 0.001000  loss: 0.1865 (0.3650)  loss_classifier: 0.0696 (0.1092)  loss_box_reg: 0.0467 (0.0830)  loss_objectness: 0.0537 (0.0921)  loss_rpn_box_reg: 0.0167 (0.0807)  time: 0.2210  data: 0.0073  max mem: 4734\n",
            "Epoch: [2]  [ 300/4439]  eta: 0:14:52  lr: 0.001000  loss: 0.2378 (0.3403)  loss_classifier: 0.0871 (0.1091)  loss_box_reg: 0.0566 (0.0825)  loss_objectness: 0.0561 (0.0855)  loss_rpn_box_reg: 0.0193 (0.0632)  time: 0.2059  data: 0.0067  max mem: 4734\n",
            "Epoch: [2]  [ 400/4439]  eta: 0:14:29  lr: 0.001000  loss: 0.1992 (0.3662)  loss_classifier: 0.0797 (0.1099)  loss_box_reg: 0.0670 (0.0830)  loss_objectness: 0.0490 (0.0920)  loss_rpn_box_reg: 0.0126 (0.0812)  time: 0.2220  data: 0.0074  max mem: 4734\n",
            "Epoch: [2]  [ 500/4439]  eta: 0:14:02  lr: 0.001000  loss: 0.2602 (0.3588)  loss_classifier: 0.1112 (0.1104)  loss_box_reg: 0.0848 (0.0841)  loss_objectness: 0.0529 (0.0923)  loss_rpn_box_reg: 0.0171 (0.0719)  time: 0.2048  data: 0.0067  max mem: 4734\n",
            "Epoch: [2]  [ 600/4439]  eta: 0:13:35  lr: 0.001000  loss: 0.2067 (0.3492)  loss_classifier: 0.0780 (0.1084)  loss_box_reg: 0.0444 (0.0812)  loss_objectness: 0.0498 (0.0940)  loss_rpn_box_reg: 0.0185 (0.0656)  time: 0.1999  data: 0.0073  max mem: 4734\n",
            "Epoch: [2]  [ 700/4439]  eta: 0:13:15  lr: 0.001000  loss: 0.2319 (0.3444)  loss_classifier: 0.0820 (0.1078)  loss_box_reg: 0.0507 (0.0810)  loss_objectness: 0.0609 (0.0945)  loss_rpn_box_reg: 0.0123 (0.0611)  time: 0.2207  data: 0.0071  max mem: 4734\n",
            "Epoch: [2]  [ 800/4439]  eta: 0:12:59  lr: 0.001000  loss: 0.2466 (0.3575)  loss_classifier: 0.1000 (0.1085)  loss_box_reg: 0.0606 (0.0816)  loss_objectness: 0.0547 (0.0960)  loss_rpn_box_reg: 0.0103 (0.0714)  time: 0.2181  data: 0.0068  max mem: 4734\n",
            "Epoch: [2]  [ 900/4439]  eta: 0:12:38  lr: 0.001000  loss: 0.3171 (0.3524)  loss_classifier: 0.0979 (0.1086)  loss_box_reg: 0.0631 (0.0814)  loss_objectness: 0.0567 (0.0954)  loss_rpn_box_reg: 0.0307 (0.0670)  time: 0.2196  data: 0.0070  max mem: 4734\n",
            "Epoch: [2]  [1000/4439]  eta: 0:12:16  lr: 0.001000  loss: 0.2660 (0.3481)  loss_classifier: 0.0836 (0.1083)  loss_box_reg: 0.0774 (0.0810)  loss_objectness: 0.0413 (0.0948)  loss_rpn_box_reg: 0.0174 (0.0641)  time: 0.2144  data: 0.0066  max mem: 4734\n",
            "Epoch: [2]  [1100/4439]  eta: 0:11:54  lr: 0.001000  loss: 0.2294 (0.3498)  loss_classifier: 0.0853 (0.1085)  loss_box_reg: 0.0501 (0.0813)  loss_objectness: 0.0586 (0.0974)  loss_rpn_box_reg: 0.0153 (0.0627)  time: 0.2207  data: 0.0067  max mem: 4734\n",
            "Epoch: [2]  [1200/4439]  eta: 0:11:31  lr: 0.001000  loss: 0.1758 (0.3446)  loss_classifier: 0.0709 (0.1079)  loss_box_reg: 0.0558 (0.0806)  loss_objectness: 0.0338 (0.0961)  loss_rpn_box_reg: 0.0136 (0.0601)  time: 0.2098  data: 0.0064  max mem: 4734\n",
            "Epoch: [2]  [1300/4439]  eta: 0:11:09  lr: 0.001000  loss: 0.2602 (0.3414)  loss_classifier: 0.0883 (0.1071)  loss_box_reg: 0.0694 (0.0801)  loss_objectness: 0.0716 (0.0961)  loss_rpn_box_reg: 0.0187 (0.0581)  time: 0.2069  data: 0.0064  max mem: 4734\n",
            "Epoch: [2]  [1400/4439]  eta: 0:10:47  lr: 0.001000  loss: 0.2015 (0.3397)  loss_classifier: 0.0837 (0.1073)  loss_box_reg: 0.0338 (0.0799)  loss_objectness: 0.0641 (0.0965)  loss_rpn_box_reg: 0.0198 (0.0560)  time: 0.2095  data: 0.0064  max mem: 4734\n",
            "Epoch: [2]  [1500/4439]  eta: 0:10:26  lr: 0.001000  loss: 0.2961 (0.3472)  loss_classifier: 0.1186 (0.1079)  loss_box_reg: 0.0726 (0.0802)  loss_objectness: 0.0641 (0.0983)  loss_rpn_box_reg: 0.0251 (0.0608)  time: 0.2164  data: 0.0064  max mem: 4734\n",
            "Epoch: [2]  [1600/4439]  eta: 0:10:05  lr: 0.001000  loss: 0.2366 (0.3457)  loss_classifier: 0.0880 (0.1076)  loss_box_reg: 0.0575 (0.0804)  loss_objectness: 0.0480 (0.0986)  loss_rpn_box_reg: 0.0183 (0.0591)  time: 0.2171  data: 0.0072  max mem: 4734\n",
            "Epoch: [2]  [1700/4439]  eta: 0:09:44  lr: 0.001000  loss: 0.3053 (0.3497)  loss_classifier: 0.1018 (0.1079)  loss_box_reg: 0.0798 (0.0808)  loss_objectness: 0.0590 (0.0987)  loss_rpn_box_reg: 0.0303 (0.0623)  time: 0.2172  data: 0.0072  max mem: 4734\n",
            "Epoch: [2]  [1800/4439]  eta: 0:09:22  lr: 0.001000  loss: 0.1849 (0.3466)  loss_classifier: 0.0891 (0.1079)  loss_box_reg: 0.0620 (0.0811)  loss_objectness: 0.0376 (0.0974)  loss_rpn_box_reg: 0.0100 (0.0602)  time: 0.2122  data: 0.0069  max mem: 4734\n",
            "Epoch: [2]  [1900/4439]  eta: 0:09:01  lr: 0.001000  loss: 0.2419 (0.3535)  loss_classifier: 0.0881 (0.1082)  loss_box_reg: 0.0533 (0.0813)  loss_objectness: 0.0656 (0.0984)  loss_rpn_box_reg: 0.0164 (0.0655)  time: 0.2105  data: 0.0068  max mem: 4734\n",
            "Epoch: [2]  [2000/4439]  eta: 0:08:40  lr: 0.001000  loss: 0.1932 (0.3525)  loss_classifier: 0.0710 (0.1076)  loss_box_reg: 0.0429 (0.0807)  loss_objectness: 0.0557 (0.0993)  loss_rpn_box_reg: 0.0113 (0.0649)  time: 0.2156  data: 0.0066  max mem: 4734\n",
            "Epoch: [2]  [2100/4439]  eta: 0:08:18  lr: 0.001000  loss: 0.2739 (0.3578)  loss_classifier: 0.1094 (0.1076)  loss_box_reg: 0.0913 (0.0807)  loss_objectness: 0.0763 (0.1005)  loss_rpn_box_reg: 0.0240 (0.0690)  time: 0.2018  data: 0.0080  max mem: 4734\n",
            "Epoch: [2]  [2200/4439]  eta: 0:07:56  lr: 0.001000  loss: 0.2293 (0.3714)  loss_classifier: 0.0808 (0.1074)  loss_box_reg: 0.0710 (0.0805)  loss_objectness: 0.0479 (0.1007)  loss_rpn_box_reg: 0.0180 (0.0828)  time: 0.2084  data: 0.0076  max mem: 4734\n",
            "Epoch: [2]  [2300/4439]  eta: 0:07:35  lr: 0.001000  loss: 0.3345 (0.3705)  loss_classifier: 0.1070 (0.1073)  loss_box_reg: 0.0716 (0.0800)  loss_objectness: 0.0679 (0.1018)  loss_rpn_box_reg: 0.0282 (0.0815)  time: 0.2179  data: 0.0080  max mem: 4734\n",
            "Epoch: [2]  [2400/4439]  eta: 0:07:14  lr: 0.001000  loss: 0.2999 (0.3688)  loss_classifier: 0.0992 (0.1075)  loss_box_reg: 0.0879 (0.0802)  loss_objectness: 0.0767 (0.1016)  loss_rpn_box_reg: 0.0270 (0.0795)  time: 0.2222  data: 0.0070  max mem: 4734\n",
            "Epoch: [2]  [2500/4439]  eta: 0:06:52  lr: 0.001000  loss: 0.2501 (0.3660)  loss_classifier: 0.0904 (0.1077)  loss_box_reg: 0.0712 (0.0803)  loss_objectness: 0.0417 (0.1006)  loss_rpn_box_reg: 0.0184 (0.0775)  time: 0.2166  data: 0.0072  max mem: 4734\n",
            "Epoch: [2]  [2600/4439]  eta: 0:06:31  lr: 0.001000  loss: 0.2203 (0.3642)  loss_classifier: 0.0789 (0.1076)  loss_box_reg: 0.0619 (0.0803)  loss_objectness: 0.0449 (0.1005)  loss_rpn_box_reg: 0.0085 (0.0757)  time: 0.2070  data: 0.0068  max mem: 4734\n",
            "Epoch: [2]  [2700/4439]  eta: 0:06:10  lr: 0.001000  loss: 0.2417 (0.3628)  loss_classifier: 0.1079 (0.1078)  loss_box_reg: 0.0791 (0.0805)  loss_objectness: 0.0328 (0.1004)  loss_rpn_box_reg: 0.0088 (0.0742)  time: 0.2244  data: 0.0071  max mem: 4734\n",
            "Epoch: [2]  [2800/4439]  eta: 0:05:48  lr: 0.001000  loss: 0.2264 (0.3617)  loss_classifier: 0.0991 (0.1078)  loss_box_reg: 0.0764 (0.0807)  loss_objectness: 0.0469 (0.1002)  loss_rpn_box_reg: 0.0159 (0.0729)  time: 0.2197  data: 0.0074  max mem: 4734\n",
            "Epoch: [2]  [2900/4439]  eta: 0:05:27  lr: 0.001000  loss: 0.2223 (0.3600)  loss_classifier: 0.0957 (0.1079)  loss_box_reg: 0.0749 (0.0809)  loss_objectness: 0.0449 (0.0998)  loss_rpn_box_reg: 0.0202 (0.0714)  time: 0.2141  data: 0.0070  max mem: 4734\n",
            "Epoch: [2]  [3000/4439]  eta: 0:05:06  lr: 0.001000  loss: 0.2238 (0.3583)  loss_classifier: 0.0864 (0.1078)  loss_box_reg: 0.0656 (0.0808)  loss_objectness: 0.0558 (0.0996)  loss_rpn_box_reg: 0.0205 (0.0701)  time: 0.2120  data: 0.0075  max mem: 4734\n",
            "Epoch: [2]  [3100/4439]  eta: 0:04:44  lr: 0.001000  loss: 0.2363 (0.3570)  loss_classifier: 0.0847 (0.1078)  loss_box_reg: 0.0691 (0.0808)  loss_objectness: 0.0471 (0.0995)  loss_rpn_box_reg: 0.0130 (0.0689)  time: 0.2119  data: 0.0064  max mem: 4734\n",
            "Epoch: [2]  [3200/4439]  eta: 0:04:23  lr: 0.001000  loss: 0.1963 (0.3556)  loss_classifier: 0.0926 (0.1081)  loss_box_reg: 0.0604 (0.0812)  loss_objectness: 0.0329 (0.0987)  loss_rpn_box_reg: 0.0085 (0.0675)  time: 0.2103  data: 0.0070  max mem: 4734\n",
            "Epoch: [2]  [3300/4439]  eta: 0:04:02  lr: 0.001000  loss: 0.1943 (0.3613)  loss_classifier: 0.0739 (0.1081)  loss_box_reg: 0.0422 (0.0812)  loss_objectness: 0.0508 (0.0986)  loss_rpn_box_reg: 0.0062 (0.0734)  time: 0.2123  data: 0.0066  max mem: 4734\n",
            "Epoch: [2]  [3400/4439]  eta: 0:03:41  lr: 0.001000  loss: 0.2384 (0.3595)  loss_classifier: 0.0889 (0.1080)  loss_box_reg: 0.0710 (0.0812)  loss_objectness: 0.0458 (0.0983)  loss_rpn_box_reg: 0.0117 (0.0721)  time: 0.2171  data: 0.0075  max mem: 4734\n",
            "Epoch: [2]  [3500/4439]  eta: 0:03:19  lr: 0.001000  loss: 0.2044 (0.3580)  loss_classifier: 0.0925 (0.1079)  loss_box_reg: 0.0495 (0.0813)  loss_objectness: 0.0442 (0.0981)  loss_rpn_box_reg: 0.0129 (0.0707)  time: 0.2038  data: 0.0065  max mem: 4734\n",
            "Epoch: [2]  [3600/4439]  eta: 0:02:58  lr: 0.001000  loss: 0.2675 (0.3573)  loss_classifier: 0.0771 (0.1079)  loss_box_reg: 0.0628 (0.0815)  loss_objectness: 0.0584 (0.0981)  loss_rpn_box_reg: 0.0289 (0.0697)  time: 0.2124  data: 0.0075  max mem: 4734\n",
            "Epoch: [2]  [3700/4439]  eta: 0:02:37  lr: 0.001000  loss: 0.2191 (0.3564)  loss_classifier: 0.0949 (0.1078)  loss_box_reg: 0.0674 (0.0815)  loss_objectness: 0.0539 (0.0984)  loss_rpn_box_reg: 0.0067 (0.0686)  time: 0.2184  data: 0.0065  max mem: 4734\n",
            "Epoch: [2]  [3800/4439]  eta: 0:02:15  lr: 0.001000  loss: 0.2665 (0.3556)  loss_classifier: 0.0933 (0.1082)  loss_box_reg: 0.0744 (0.0817)  loss_objectness: 0.0528 (0.0980)  loss_rpn_box_reg: 0.0169 (0.0677)  time: 0.2115  data: 0.0077  max mem: 4734\n",
            "Epoch: [2]  [3900/4439]  eta: 0:01:54  lr: 0.001000  loss: 0.2148 (0.3551)  loss_classifier: 0.0975 (0.1086)  loss_box_reg: 0.0607 (0.0821)  loss_objectness: 0.0402 (0.0978)  loss_rpn_box_reg: 0.0116 (0.0666)  time: 0.2174  data: 0.0070  max mem: 4734\n",
            "Epoch: [2]  [4000/4439]  eta: 0:01:33  lr: 0.001000  loss: 0.1656 (0.3537)  loss_classifier: 0.0510 (0.1082)  loss_box_reg: 0.0476 (0.0819)  loss_objectness: 0.0498 (0.0978)  loss_rpn_box_reg: 0.0189 (0.0658)  time: 0.2220  data: 0.0077  max mem: 4734\n",
            "Epoch: [2]  [4100/4439]  eta: 0:01:12  lr: 0.001000  loss: 0.2483 (0.3531)  loss_classifier: 0.0805 (0.1084)  loss_box_reg: 0.0722 (0.0820)  loss_objectness: 0.0518 (0.0977)  loss_rpn_box_reg: 0.0189 (0.0651)  time: 0.2155  data: 0.0072  max mem: 4734\n",
            "Epoch: [2]  [4200/4439]  eta: 0:00:50  lr: 0.001000  loss: 0.2231 (0.3521)  loss_classifier: 0.0916 (0.1084)  loss_box_reg: 0.0519 (0.0820)  loss_objectness: 0.0527 (0.0975)  loss_rpn_box_reg: 0.0120 (0.0642)  time: 0.2132  data: 0.0065  max mem: 4734\n",
            "Epoch: [2]  [4300/4439]  eta: 0:00:29  lr: 0.001000  loss: 0.2350 (0.3505)  loss_classifier: 0.0767 (0.1080)  loss_box_reg: 0.0439 (0.0817)  loss_objectness: 0.0638 (0.0973)  loss_rpn_box_reg: 0.0201 (0.0635)  time: 0.2152  data: 0.0068  max mem: 4734\n",
            "Epoch: [2]  [4400/4439]  eta: 0:00:08  lr: 0.001000  loss: 0.2240 (0.3493)  loss_classifier: 0.0852 (0.1079)  loss_box_reg: 0.0727 (0.0817)  loss_objectness: 0.0378 (0.0969)  loss_rpn_box_reg: 0.0131 (0.0627)  time: 0.2162  data: 0.0069  max mem: 4734\n",
            "Epoch: [2]  [4438/4439]  eta: 0:00:00  lr: 0.001000  loss: 0.2462 (0.3490)  loss_classifier: 0.0871 (0.1080)  loss_box_reg: 0.0595 (0.0817)  loss_objectness: 0.0653 (0.0969)  loss_rpn_box_reg: 0.0127 (0.0624)  time: 0.1977  data: 0.0069  max mem: 4734\n",
            "Epoch: [2] Total time: 0:15:44 (0.2128 s / it)\n",
            "creating index...\n",
            "index created!\n",
            "Test:  [   0/2220]  eta: 0:11:50  model_time: 0.0601 (0.0601)  evaluator_time: 0.0177 (0.0177)  time: 0.3199  data: 0.2376  max mem: 4734\n",
            "Test:  [ 100/2220]  eta: 0:02:06  model_time: 0.0424 (0.0436)  evaluator_time: 0.0065 (0.0074)  time: 0.0561  data: 0.0034  max mem: 4734\n",
            "Test:  [ 200/2220]  eta: 0:01:58  model_time: 0.0444 (0.0439)  evaluator_time: 0.0055 (0.0069)  time: 0.0604  data: 0.0076  max mem: 4734\n",
            "Test:  [ 300/2220]  eta: 0:01:51  model_time: 0.0440 (0.0438)  evaluator_time: 0.0058 (0.0070)  time: 0.0572  data: 0.0036  max mem: 4734\n",
            "Test:  [ 400/2220]  eta: 0:01:45  model_time: 0.0449 (0.0439)  evaluator_time: 0.0055 (0.0068)  time: 0.0579  data: 0.0035  max mem: 4734\n",
            "Test:  [ 500/2220]  eta: 0:01:39  model_time: 0.0442 (0.0438)  evaluator_time: 0.0056 (0.0070)  time: 0.0564  data: 0.0037  max mem: 4734\n",
            "Test:  [ 600/2220]  eta: 0:01:33  model_time: 0.0436 (0.0438)  evaluator_time: 0.0054 (0.0069)  time: 0.0561  data: 0.0038  max mem: 4734\n",
            "Test:  [ 700/2220]  eta: 0:01:27  model_time: 0.0441 (0.0438)  evaluator_time: 0.0057 (0.0068)  time: 0.0570  data: 0.0034  max mem: 4734\n",
            "Test:  [ 800/2220]  eta: 0:01:21  model_time: 0.0437 (0.0438)  evaluator_time: 0.0056 (0.0067)  time: 0.0568  data: 0.0035  max mem: 4734\n",
            "Test:  [ 900/2220]  eta: 0:01:16  model_time: 0.0445 (0.0438)  evaluator_time: 0.0055 (0.0067)  time: 0.0562  data: 0.0035  max mem: 4734\n",
            "Test:  [1000/2220]  eta: 0:01:10  model_time: 0.0445 (0.0438)  evaluator_time: 0.0053 (0.0067)  time: 0.0560  data: 0.0035  max mem: 4734\n",
            "Test:  [1100/2220]  eta: 0:01:04  model_time: 0.0445 (0.0438)  evaluator_time: 0.0054 (0.0067)  time: 0.0561  data: 0.0037  max mem: 4734\n",
            "Test:  [1200/2220]  eta: 0:00:58  model_time: 0.0440 (0.0439)  evaluator_time: 0.0055 (0.0067)  time: 0.0564  data: 0.0036  max mem: 4734\n",
            "Test:  [1300/2220]  eta: 0:00:52  model_time: 0.0445 (0.0439)  evaluator_time: 0.0056 (0.0067)  time: 0.0560  data: 0.0035  max mem: 4734\n",
            "Test:  [1400/2220]  eta: 0:00:47  model_time: 0.0444 (0.0439)  evaluator_time: 0.0062 (0.0067)  time: 0.0579  data: 0.0037  max mem: 4734\n",
            "Test:  [1500/2220]  eta: 0:00:41  model_time: 0.0438 (0.0439)  evaluator_time: 0.0054 (0.0067)  time: 0.0557  data: 0.0036  max mem: 4734\n",
            "Test:  [1600/2220]  eta: 0:00:35  model_time: 0.0441 (0.0439)  evaluator_time: 0.0055 (0.0067)  time: 0.0566  data: 0.0032  max mem: 4734\n",
            "Test:  [1700/2220]  eta: 0:00:29  model_time: 0.0442 (0.0439)  evaluator_time: 0.0064 (0.0066)  time: 0.0569  data: 0.0033  max mem: 4734\n",
            "Test:  [1800/2220]  eta: 0:00:24  model_time: 0.0439 (0.0438)  evaluator_time: 0.0055 (0.0067)  time: 0.0567  data: 0.0035  max mem: 4734\n",
            "Test:  [1900/2220]  eta: 0:00:18  model_time: 0.0442 (0.0438)  evaluator_time: 0.0054 (0.0066)  time: 0.0562  data: 0.0037  max mem: 4734\n",
            "Test:  [2000/2220]  eta: 0:00:12  model_time: 0.0435 (0.0438)  evaluator_time: 0.0053 (0.0066)  time: 0.0560  data: 0.0034  max mem: 4734\n",
            "Test:  [2100/2220]  eta: 0:00:06  model_time: 0.0438 (0.0438)  evaluator_time: 0.0052 (0.0066)  time: 0.0549  data: 0.0034  max mem: 4734\n",
            "Test:  [2200/2220]  eta: 0:00:01  model_time: 0.0436 (0.0438)  evaluator_time: 0.0059 (0.0066)  time: 0.0560  data: 0.0035  max mem: 4734\n",
            "Test:  [2219/2220]  eta: 0:00:00  model_time: 0.0429 (0.0438)  evaluator_time: 0.0054 (0.0066)  time: 0.0578  data: 0.0032  max mem: 4734\n",
            "Test: Total time: 0:02:06 (0.0572 s / it)\n",
            "Averaged stats: model_time: 0.0429 (0.0438)  evaluator_time: 0.0054 (0.0066)\n",
            "Accumulating evaluation results...\n",
            "DONE (t=0.85s).\n",
            "IoU metric: bbox\n",
            " Average Precision  (AP) @[ IoU=0.50:0.95 | area=   all | maxDets=100 ] = 0.064\n",
            " Average Precision  (AP) @[ IoU=0.50      | area=   all | maxDets=100 ] = 0.148\n",
            " Average Precision  (AP) @[ IoU=0.75      | area=   all | maxDets=100 ] = 0.041\n",
            " Average Precision  (AP) @[ IoU=0.50:0.95 | area= small | maxDets=100 ] = 0.012\n",
            " Average Precision  (AP) @[ IoU=0.50:0.95 | area=medium | maxDets=100 ] = 0.059\n",
            " Average Precision  (AP) @[ IoU=0.50:0.95 | area= large | maxDets=100 ] = 0.095\n",
            " Average Recall     (AR) @[ IoU=0.50:0.95 | area=   all | maxDets=  1 ] = 0.074\n",
            " Average Recall     (AR) @[ IoU=0.50:0.95 | area=   all | maxDets= 10 ] = 0.186\n",
            " Average Recall     (AR) @[ IoU=0.50:0.95 | area=   all | maxDets=100 ] = 0.217\n",
            " Average Recall     (AR) @[ IoU=0.50:0.95 | area= small | maxDets=100 ] = 0.084\n",
            " Average Recall     (AR) @[ IoU=0.50:0.95 | area=medium | maxDets=100 ] = 0.198\n",
            " Average Recall     (AR) @[ IoU=0.50:0.95 | area= large | maxDets=100 ] = 0.292\n",
            "Epoch: [3]  [   0/4439]  eta: 0:39:29  lr: 0.000100  loss: 0.2238 (0.2238)  loss_classifier: 0.0640 (0.0640)  loss_box_reg: 0.0523 (0.0523)  loss_objectness: 0.0923 (0.0923)  loss_rpn_box_reg: 0.0152 (0.0152)  time: 0.5338  data: 0.3284  max mem: 4734\n",
            "Epoch: [3]  [ 100/4439]  eta: 0:15:31  lr: 0.000100  loss: 0.1974 (0.3025)  loss_classifier: 0.0867 (0.1007)  loss_box_reg: 0.0545 (0.0783)  loss_objectness: 0.0385 (0.0946)  loss_rpn_box_reg: 0.0175 (0.0289)  time: 0.2088  data: 0.0069  max mem: 4734\n",
            "Epoch: [3]  [ 200/4439]  eta: 0:14:59  lr: 0.000100  loss: 0.2105 (0.3226)  loss_classifier: 0.0782 (0.1097)  loss_box_reg: 0.0477 (0.0882)  loss_objectness: 0.0489 (0.0907)  loss_rpn_box_reg: 0.0135 (0.0340)  time: 0.2068  data: 0.0062  max mem: 4734\n",
            "Epoch: [3]  [ 300/4439]  eta: 0:14:32  lr: 0.000100  loss: 0.2303 (0.3930)  loss_classifier: 0.0772 (0.1099)  loss_box_reg: 0.0718 (0.0869)  loss_objectness: 0.0463 (0.1018)  loss_rpn_box_reg: 0.0148 (0.0944)  time: 0.2083  data: 0.0064  max mem: 4734\n",
            "Epoch: [3]  [ 400/4439]  eta: 0:14:10  lr: 0.000100  loss: 0.2205 (0.3811)  loss_classifier: 0.0758 (0.1134)  loss_box_reg: 0.0595 (0.0893)  loss_objectness: 0.0497 (0.0983)  loss_rpn_box_reg: 0.0144 (0.0800)  time: 0.2074  data: 0.0061  max mem: 4734\n",
            "Epoch: [3]  [ 500/4439]  eta: 0:13:49  lr: 0.000100  loss: 0.2519 (0.3637)  loss_classifier: 0.0909 (0.1126)  loss_box_reg: 0.0698 (0.0882)  loss_objectness: 0.0471 (0.0932)  loss_rpn_box_reg: 0.0168 (0.0697)  time: 0.2170  data: 0.0068  max mem: 4734\n",
            "Epoch: [3]  [ 600/4439]  eta: 0:13:30  lr: 0.000100  loss: 0.2447 (0.3574)  loss_classifier: 0.0839 (0.1134)  loss_box_reg: 0.0582 (0.0875)  loss_objectness: 0.0459 (0.0926)  loss_rpn_box_reg: 0.0120 (0.0640)  time: 0.2138  data: 0.0066  max mem: 4734\n",
            "Epoch: [3]  [ 700/4439]  eta: 0:13:10  lr: 0.000100  loss: 0.2249 (0.3467)  loss_classifier: 0.0999 (0.1117)  loss_box_reg: 0.0743 (0.0868)  loss_objectness: 0.0357 (0.0899)  loss_rpn_box_reg: 0.0102 (0.0582)  time: 0.2100  data: 0.0064  max mem: 4734\n",
            "Epoch: [3]  [ 800/4439]  eta: 0:12:48  lr: 0.000100  loss: 0.1806 (0.3379)  loss_classifier: 0.0718 (0.1105)  loss_box_reg: 0.0608 (0.0861)  loss_objectness: 0.0364 (0.0870)  loss_rpn_box_reg: 0.0088 (0.0543)  time: 0.2019  data: 0.0060  max mem: 4734\n",
            "Epoch: [3]  [ 900/4439]  eta: 0:12:27  lr: 0.000100  loss: 0.2332 (0.3348)  loss_classifier: 0.0760 (0.1100)  loss_box_reg: 0.0674 (0.0853)  loss_objectness: 0.0430 (0.0873)  loss_rpn_box_reg: 0.0189 (0.0521)  time: 0.2129  data: 0.0061  max mem: 4734\n",
            "Epoch: [3]  [1000/4439]  eta: 0:12:06  lr: 0.000100  loss: 0.1979 (0.3296)  loss_classifier: 0.0745 (0.1090)  loss_box_reg: 0.0691 (0.0843)  loss_objectness: 0.0322 (0.0864)  loss_rpn_box_reg: 0.0155 (0.0499)  time: 0.2173  data: 0.0062  max mem: 4734\n",
            "Epoch: [3]  [1100/4439]  eta: 0:11:44  lr: 0.000100  loss: 0.2046 (0.3391)  loss_classifier: 0.0877 (0.1072)  loss_box_reg: 0.0529 (0.0830)  loss_objectness: 0.0415 (0.0875)  loss_rpn_box_reg: 0.0125 (0.0614)  time: 0.2082  data: 0.0067  max mem: 4734\n",
            "Epoch: [3]  [1200/4439]  eta: 0:11:23  lr: 0.000100  loss: 0.2722 (0.3482)  loss_classifier: 0.1117 (0.1078)  loss_box_reg: 0.1005 (0.0833)  loss_objectness: 0.0419 (0.0899)  loss_rpn_box_reg: 0.0095 (0.0671)  time: 0.2102  data: 0.0064  max mem: 4734\n",
            "Epoch: [3]  [1300/4439]  eta: 0:11:00  lr: 0.000100  loss: 0.2505 (0.3466)  loss_classifier: 0.0877 (0.1079)  loss_box_reg: 0.0635 (0.0834)  loss_objectness: 0.0560 (0.0905)  loss_rpn_box_reg: 0.0179 (0.0649)  time: 0.2020  data: 0.0067  max mem: 4734\n",
            "Epoch: [3]  [1400/4439]  eta: 0:10:40  lr: 0.000100  loss: 0.2065 (0.3413)  loss_classifier: 0.0711 (0.1070)  loss_box_reg: 0.0564 (0.0830)  loss_objectness: 0.0437 (0.0892)  loss_rpn_box_reg: 0.0091 (0.0621)  time: 0.2129  data: 0.0068  max mem: 4734\n",
            "Epoch: [3]  [1500/4439]  eta: 0:10:18  lr: 0.000100  loss: 0.2042 (0.3392)  loss_classifier: 0.0832 (0.1070)  loss_box_reg: 0.0638 (0.0827)  loss_objectness: 0.0367 (0.0892)  loss_rpn_box_reg: 0.0094 (0.0602)  time: 0.2086  data: 0.0067  max mem: 4734\n",
            "Epoch: [3]  [1600/4439]  eta: 0:09:57  lr: 0.000100  loss: 0.1622 (0.3373)  loss_classifier: 0.0622 (0.1067)  loss_box_reg: 0.0490 (0.0822)  loss_objectness: 0.0479 (0.0898)  loss_rpn_box_reg: 0.0108 (0.0586)  time: 0.2146  data: 0.0063  max mem: 4734\n",
            "Epoch: [3]  [1700/4439]  eta: 0:09:36  lr: 0.000100  loss: 0.2241 (0.3349)  loss_classifier: 0.0891 (0.1072)  loss_box_reg: 0.0661 (0.0826)  loss_objectness: 0.0405 (0.0886)  loss_rpn_box_reg: 0.0098 (0.0564)  time: 0.2090  data: 0.0068  max mem: 4734\n",
            "Epoch: [3]  [1800/4439]  eta: 0:09:15  lr: 0.000100  loss: 0.2225 (0.3335)  loss_classifier: 0.0838 (0.1071)  loss_box_reg: 0.0618 (0.0825)  loss_objectness: 0.0473 (0.0884)  loss_rpn_box_reg: 0.0207 (0.0555)  time: 0.2154  data: 0.0063  max mem: 4734\n",
            "Epoch: [3]  [1900/4439]  eta: 0:08:54  lr: 0.000100  loss: 0.2652 (0.3406)  loss_classifier: 0.0973 (0.1078)  loss_box_reg: 0.0784 (0.0835)  loss_objectness: 0.0446 (0.0896)  loss_rpn_box_reg: 0.0113 (0.0596)  time: 0.2070  data: 0.0061  max mem: 4734\n",
            "Epoch: [3]  [2000/4439]  eta: 0:08:33  lr: 0.000100  loss: 0.2637 (0.3413)  loss_classifier: 0.0894 (0.1081)  loss_box_reg: 0.0619 (0.0832)  loss_objectness: 0.0531 (0.0915)  loss_rpn_box_reg: 0.0136 (0.0585)  time: 0.2092  data: 0.0073  max mem: 4734\n",
            "Epoch: [3]  [2100/4439]  eta: 0:08:12  lr: 0.000100  loss: 0.1701 (0.3370)  loss_classifier: 0.0588 (0.1071)  loss_box_reg: 0.0485 (0.0825)  loss_objectness: 0.0460 (0.0900)  loss_rpn_box_reg: 0.0068 (0.0574)  time: 0.1988  data: 0.0064  max mem: 4734\n",
            "Epoch: [3]  [2200/4439]  eta: 0:07:50  lr: 0.000100  loss: 0.1910 (0.3390)  loss_classifier: 0.0745 (0.1068)  loss_box_reg: 0.0440 (0.0823)  loss_objectness: 0.0542 (0.0895)  loss_rpn_box_reg: 0.0172 (0.0604)  time: 0.2032  data: 0.0071  max mem: 4734\n",
            "Epoch: [3]  [2300/4439]  eta: 0:07:29  lr: 0.000100  loss: 0.1857 (0.3368)  loss_classifier: 0.0622 (0.1067)  loss_box_reg: 0.0469 (0.0823)  loss_objectness: 0.0461 (0.0889)  loss_rpn_box_reg: 0.0132 (0.0589)  time: 0.2084  data: 0.0064  max mem: 4734\n",
            "Epoch: [3]  [2400/4439]  eta: 0:07:08  lr: 0.000100  loss: 0.2155 (0.3437)  loss_classifier: 0.0875 (0.1069)  loss_box_reg: 0.0656 (0.0829)  loss_objectness: 0.0339 (0.0897)  loss_rpn_box_reg: 0.0211 (0.0641)  time: 0.2107  data: 0.0061  max mem: 4734\n",
            "Epoch: [3]  [2500/4439]  eta: 0:06:47  lr: 0.000100  loss: 0.2193 (0.3407)  loss_classifier: 0.0754 (0.1067)  loss_box_reg: 0.0507 (0.0824)  loss_objectness: 0.0554 (0.0890)  loss_rpn_box_reg: 0.0189 (0.0626)  time: 0.2165  data: 0.0067  max mem: 4734\n",
            "Epoch: [3]  [2600/4439]  eta: 0:06:26  lr: 0.000100  loss: 0.1826 (0.3380)  loss_classifier: 0.0724 (0.1064)  loss_box_reg: 0.0466 (0.0820)  loss_objectness: 0.0387 (0.0884)  loss_rpn_box_reg: 0.0130 (0.0612)  time: 0.2125  data: 0.0066  max mem: 4734\n",
            "Epoch: [3]  [2700/4439]  eta: 0:06:05  lr: 0.000100  loss: 0.2193 (0.3352)  loss_classifier: 0.0778 (0.1061)  loss_box_reg: 0.0615 (0.0820)  loss_objectness: 0.0384 (0.0874)  loss_rpn_box_reg: 0.0141 (0.0597)  time: 0.2053  data: 0.0068  max mem: 4734\n",
            "Epoch: [3]  [2800/4439]  eta: 0:05:44  lr: 0.000100  loss: 0.2167 (0.3334)  loss_classifier: 0.0774 (0.1059)  loss_box_reg: 0.0446 (0.0817)  loss_objectness: 0.0369 (0.0874)  loss_rpn_box_reg: 0.0171 (0.0584)  time: 0.2070  data: 0.0066  max mem: 4734\n",
            "Epoch: [3]  [2900/4439]  eta: 0:05:23  lr: 0.000100  loss: 0.2692 (0.3341)  loss_classifier: 0.0985 (0.1064)  loss_box_reg: 0.0775 (0.0820)  loss_objectness: 0.0532 (0.0881)  loss_rpn_box_reg: 0.0182 (0.0576)  time: 0.2099  data: 0.0074  max mem: 4734\n",
            "Epoch: [3]  [3000/4439]  eta: 0:05:02  lr: 0.000100  loss: 0.2454 (0.3409)  loss_classifier: 0.0900 (0.1064)  loss_box_reg: 0.0602 (0.0820)  loss_objectness: 0.0560 (0.0891)  loss_rpn_box_reg: 0.0149 (0.0633)  time: 0.2125  data: 0.0061  max mem: 4734\n",
            "Epoch: [3]  [3100/4439]  eta: 0:04:41  lr: 0.000100  loss: 0.2354 (0.3402)  loss_classifier: 0.0810 (0.1067)  loss_box_reg: 0.0559 (0.0823)  loss_objectness: 0.0589 (0.0890)  loss_rpn_box_reg: 0.0165 (0.0621)  time: 0.2125  data: 0.0074  max mem: 4734\n",
            "Epoch: [3]  [3200/4439]  eta: 0:04:20  lr: 0.000100  loss: 0.2345 (0.3401)  loss_classifier: 0.0868 (0.1070)  loss_box_reg: 0.0665 (0.0826)  loss_objectness: 0.0597 (0.0893)  loss_rpn_box_reg: 0.0182 (0.0612)  time: 0.2080  data: 0.0061  max mem: 4734\n",
            "Epoch: [3]  [3300/4439]  eta: 0:03:59  lr: 0.000100  loss: 0.1964 (0.3390)  loss_classifier: 0.0759 (0.1072)  loss_box_reg: 0.0590 (0.0826)  loss_objectness: 0.0608 (0.0891)  loss_rpn_box_reg: 0.0171 (0.0601)  time: 0.2159  data: 0.0069  max mem: 4734\n",
            "Epoch: [3]  [3400/4439]  eta: 0:03:38  lr: 0.000100  loss: 0.2058 (0.3377)  loss_classifier: 0.0722 (0.1071)  loss_box_reg: 0.0517 (0.0827)  loss_objectness: 0.0378 (0.0889)  loss_rpn_box_reg: 0.0114 (0.0592)  time: 0.2063  data: 0.0067  max mem: 4734\n",
            "Epoch: [3]  [3500/4439]  eta: 0:03:17  lr: 0.000100  loss: 0.2691 (0.3475)  loss_classifier: 0.1022 (0.1071)  loss_box_reg: 0.0618 (0.0825)  loss_objectness: 0.0867 (0.0896)  loss_rpn_box_reg: 0.0342 (0.0683)  time: 0.2224  data: 0.0069  max mem: 4734\n",
            "Epoch: [3]  [3600/4439]  eta: 0:02:56  lr: 0.000100  loss: 0.3653 (0.3471)  loss_classifier: 0.1172 (0.1076)  loss_box_reg: 0.0891 (0.0829)  loss_objectness: 0.0467 (0.0895)  loss_rpn_box_reg: 0.0186 (0.0671)  time: 0.2113  data: 0.0063  max mem: 4734\n",
            "Epoch: [3]  [3700/4439]  eta: 0:02:35  lr: 0.000100  loss: 0.2888 (0.3453)  loss_classifier: 0.1137 (0.1074)  loss_box_reg: 0.0834 (0.0828)  loss_objectness: 0.0463 (0.0891)  loss_rpn_box_reg: 0.0098 (0.0660)  time: 0.2116  data: 0.0063  max mem: 4734\n",
            "Epoch: [3]  [3800/4439]  eta: 0:02:14  lr: 0.000100  loss: 0.2428 (0.3450)  loss_classifier: 0.1006 (0.1075)  loss_box_reg: 0.0646 (0.0828)  loss_objectness: 0.0597 (0.0894)  loss_rpn_box_reg: 0.0150 (0.0652)  time: 0.2003  data: 0.0067  max mem: 4734\n",
            "Epoch: [3]  [3900/4439]  eta: 0:01:53  lr: 0.000100  loss: 0.2140 (0.3442)  loss_classifier: 0.0753 (0.1074)  loss_box_reg: 0.0579 (0.0827)  loss_objectness: 0.0396 (0.0896)  loss_rpn_box_reg: 0.0122 (0.0645)  time: 0.2182  data: 0.0065  max mem: 4734\n",
            "Epoch: [3]  [4000/4439]  eta: 0:01:32  lr: 0.000100  loss: 0.3125 (0.3429)  loss_classifier: 0.0914 (0.1072)  loss_box_reg: 0.0728 (0.0826)  loss_objectness: 0.0589 (0.0893)  loss_rpn_box_reg: 0.0334 (0.0638)  time: 0.2071  data: 0.0068  max mem: 4734\n",
            "Epoch: [3]  [4100/4439]  eta: 0:01:11  lr: 0.000100  loss: 0.2841 (0.3459)  loss_classifier: 0.1190 (0.1072)  loss_box_reg: 0.0824 (0.0828)  loss_objectness: 0.0530 (0.0897)  loss_rpn_box_reg: 0.0161 (0.0663)  time: 0.2066  data: 0.0071  max mem: 4734\n",
            "Epoch: [3]  [4200/4439]  eta: 0:00:50  lr: 0.000100  loss: 0.1887 (0.3443)  loss_classifier: 0.0702 (0.1070)  loss_box_reg: 0.0409 (0.0826)  loss_objectness: 0.0450 (0.0893)  loss_rpn_box_reg: 0.0101 (0.0653)  time: 0.2074  data: 0.0066  max mem: 4734\n",
            "Epoch: [3]  [4300/4439]  eta: 0:00:29  lr: 0.000100  loss: 0.1800 (0.3433)  loss_classifier: 0.0753 (0.1070)  loss_box_reg: 0.0446 (0.0826)  loss_objectness: 0.0409 (0.0892)  loss_rpn_box_reg: 0.0081 (0.0645)  time: 0.2096  data: 0.0063  max mem: 4734\n",
            "Epoch: [3]  [4400/4439]  eta: 0:00:08  lr: 0.000100  loss: 0.1739 (0.3468)  loss_classifier: 0.0676 (0.1070)  loss_box_reg: 0.0432 (0.0827)  loss_objectness: 0.0402 (0.0894)  loss_rpn_box_reg: 0.0084 (0.0677)  time: 0.2071  data: 0.0061  max mem: 4734\n",
            "Epoch: [3]  [4438/4439]  eta: 0:00:00  lr: 0.000100  loss: 0.2180 (0.3462)  loss_classifier: 0.0778 (0.1070)  loss_box_reg: 0.0693 (0.0828)  loss_objectness: 0.0376 (0.0891)  loss_rpn_box_reg: 0.0201 (0.0673)  time: 0.1994  data: 0.0065  max mem: 4734\n",
            "Epoch: [3] Total time: 0:15:35 (0.2108 s / it)\n",
            "creating index...\n",
            "index created!\n",
            "Test:  [   0/2220]  eta: 0:13:20  model_time: 0.0570 (0.0570)  evaluator_time: 0.0145 (0.0145)  time: 0.3608  data: 0.2859  max mem: 4734\n",
            "Test:  [ 100/2220]  eta: 0:02:10  model_time: 0.0434 (0.0442)  evaluator_time: 0.0068 (0.0080)  time: 0.0580  data: 0.0036  max mem: 4734\n",
            "Test:  [ 200/2220]  eta: 0:02:00  model_time: 0.0446 (0.0444)  evaluator_time: 0.0064 (0.0073)  time: 0.0576  data: 0.0037  max mem: 4734\n",
            "Test:  [ 300/2220]  eta: 0:01:53  model_time: 0.0448 (0.0443)  evaluator_time: 0.0065 (0.0075)  time: 0.0596  data: 0.0036  max mem: 4734\n",
            "Test:  [ 400/2220]  eta: 0:01:47  model_time: 0.0448 (0.0444)  evaluator_time: 0.0062 (0.0074)  time: 0.0588  data: 0.0036  max mem: 4734\n",
            "Test:  [ 500/2220]  eta: 0:01:41  model_time: 0.0448 (0.0444)  evaluator_time: 0.0064 (0.0074)  time: 0.0577  data: 0.0039  max mem: 4734\n",
            "Test:  [ 600/2220]  eta: 0:01:35  model_time: 0.0443 (0.0444)  evaluator_time: 0.0061 (0.0073)  time: 0.0578  data: 0.0037  max mem: 4734\n",
            "Test:  [ 700/2220]  eta: 0:01:29  model_time: 0.0447 (0.0444)  evaluator_time: 0.0065 (0.0073)  time: 0.0583  data: 0.0036  max mem: 4734\n",
            "Test:  [ 800/2220]  eta: 0:01:23  model_time: 0.0433 (0.0446)  evaluator_time: 0.0064 (0.0073)  time: 0.0658  data: 0.0036  max mem: 4734\n",
            "Test:  [ 900/2220]  eta: 0:01:18  model_time: 0.0453 (0.0446)  evaluator_time: 0.0061 (0.0072)  time: 0.0583  data: 0.0038  max mem: 4734\n",
            "Test:  [1000/2220]  eta: 0:01:12  model_time: 0.0450 (0.0446)  evaluator_time: 0.0062 (0.0073)  time: 0.0569  data: 0.0037  max mem: 4734\n",
            "Test:  [1100/2220]  eta: 0:01:06  model_time: 0.0452 (0.0445)  evaluator_time: 0.0062 (0.0073)  time: 0.0582  data: 0.0040  max mem: 4734\n",
            "Test:  [1200/2220]  eta: 0:01:00  model_time: 0.0445 (0.0446)  evaluator_time: 0.0061 (0.0073)  time: 0.0576  data: 0.0039  max mem: 4734\n",
            "Test:  [1300/2220]  eta: 0:00:54  model_time: 0.0447 (0.0446)  evaluator_time: 0.0064 (0.0073)  time: 0.0579  data: 0.0037  max mem: 4734\n",
            "Test:  [1400/2220]  eta: 0:00:48  model_time: 0.0448 (0.0446)  evaluator_time: 0.0065 (0.0073)  time: 0.0594  data: 0.0040  max mem: 4734\n",
            "Test:  [1500/2220]  eta: 0:00:42  model_time: 0.0433 (0.0445)  evaluator_time: 0.0060 (0.0073)  time: 0.0571  data: 0.0040  max mem: 4734\n",
            "Test:  [1600/2220]  eta: 0:00:36  model_time: 0.0446 (0.0445)  evaluator_time: 0.0062 (0.0073)  time: 0.0601  data: 0.0038  max mem: 4734\n",
            "Test:  [1700/2220]  eta: 0:00:30  model_time: 0.0449 (0.0445)  evaluator_time: 0.0065 (0.0073)  time: 0.0589  data: 0.0037  max mem: 4734\n",
            "Test:  [1800/2220]  eta: 0:00:24  model_time: 0.0444 (0.0445)  evaluator_time: 0.0067 (0.0073)  time: 0.0584  data: 0.0038  max mem: 4734\n",
            "Test:  [1900/2220]  eta: 0:00:18  model_time: 0.0450 (0.0445)  evaluator_time: 0.0061 (0.0073)  time: 0.0572  data: 0.0037  max mem: 4734\n",
            "Test:  [2000/2220]  eta: 0:00:12  model_time: 0.0441 (0.0445)  evaluator_time: 0.0062 (0.0073)  time: 0.0575  data: 0.0038  max mem: 4734\n",
            "Test:  [2100/2220]  eta: 0:00:07  model_time: 0.0449 (0.0445)  evaluator_time: 0.0062 (0.0073)  time: 0.0579  data: 0.0040  max mem: 4734\n",
            "Test:  [2200/2220]  eta: 0:00:01  model_time: 0.0445 (0.0444)  evaluator_time: 0.0066 (0.0072)  time: 0.0579  data: 0.0039  max mem: 4734\n",
            "Test:  [2219/2220]  eta: 0:00:00  model_time: 0.0442 (0.0444)  evaluator_time: 0.0061 (0.0073)  time: 0.0605  data: 0.0037  max mem: 4734\n",
            "Test: Total time: 0:02:10 (0.0588 s / it)\n",
            "Averaged stats: model_time: 0.0442 (0.0444)  evaluator_time: 0.0061 (0.0073)\n",
            "Accumulating evaluation results...\n",
            "DONE (t=0.74s).\n",
            "IoU metric: bbox\n",
            " Average Precision  (AP) @[ IoU=0.50:0.95 | area=   all | maxDets=100 ] = 0.074\n",
            " Average Precision  (AP) @[ IoU=0.50      | area=   all | maxDets=100 ] = 0.160\n",
            " Average Precision  (AP) @[ IoU=0.75      | area=   all | maxDets=100 ] = 0.056\n",
            " Average Precision  (AP) @[ IoU=0.50:0.95 | area= small | maxDets=100 ] = 0.018\n",
            " Average Precision  (AP) @[ IoU=0.50:0.95 | area=medium | maxDets=100 ] = 0.065\n",
            " Average Precision  (AP) @[ IoU=0.50:0.95 | area= large | maxDets=100 ] = 0.112\n",
            " Average Recall     (AR) @[ IoU=0.50:0.95 | area=   all | maxDets=  1 ] = 0.083\n",
            " Average Recall     (AR) @[ IoU=0.50:0.95 | area=   all | maxDets= 10 ] = 0.197\n",
            " Average Recall     (AR) @[ IoU=0.50:0.95 | area=   all | maxDets=100 ] = 0.225\n",
            " Average Recall     (AR) @[ IoU=0.50:0.95 | area= small | maxDets=100 ] = 0.100\n",
            " Average Recall     (AR) @[ IoU=0.50:0.95 | area=medium | maxDets=100 ] = 0.201\n",
            " Average Recall     (AR) @[ IoU=0.50:0.95 | area= large | maxDets=100 ] = 0.304\n",
            "Epoch: [4]  [   0/4439]  eta: 0:39:41  lr: 0.000100  loss: 0.1688 (0.1688)  loss_classifier: 0.0959 (0.0959)  loss_box_reg: 0.0290 (0.0290)  loss_objectness: 0.0419 (0.0419)  loss_rpn_box_reg: 0.0021 (0.0021)  time: 0.5365  data: 0.3251  max mem: 4734\n",
            "Epoch: [4]  [ 100/4439]  eta: 0:15:13  lr: 0.000100  loss: 0.1832 (0.2536)  loss_classifier: 0.0707 (0.0949)  loss_box_reg: 0.0476 (0.0723)  loss_objectness: 0.0401 (0.0639)  loss_rpn_box_reg: 0.0104 (0.0225)  time: 0.2119  data: 0.0065  max mem: 4734\n",
            "Epoch: [4]  [ 200/4439]  eta: 0:14:47  lr: 0.000100  loss: 0.1814 (0.2710)  loss_classifier: 0.0723 (0.1010)  loss_box_reg: 0.0423 (0.0764)  loss_objectness: 0.0479 (0.0699)  loss_rpn_box_reg: 0.0098 (0.0236)  time: 0.2104  data: 0.0065  max mem: 4734\n",
            "Epoch: [4]  [ 300/4439]  eta: 0:14:31  lr: 0.000100  loss: 0.2833 (0.2863)  loss_classifier: 0.0872 (0.1013)  loss_box_reg: 0.0615 (0.0784)  loss_objectness: 0.0504 (0.0781)  loss_rpn_box_reg: 0.0104 (0.0285)  time: 0.2094  data: 0.0074  max mem: 4734\n",
            "Epoch: [4]  [ 400/4439]  eta: 0:14:15  lr: 0.000100  loss: 0.2094 (0.2986)  loss_classifier: 0.0730 (0.1060)  loss_box_reg: 0.0575 (0.0830)  loss_objectness: 0.0461 (0.0807)  loss_rpn_box_reg: 0.0113 (0.0289)  time: 0.2203  data: 0.0065  max mem: 4734\n",
            "Epoch: [4]  [ 500/4439]  eta: 0:13:54  lr: 0.000100  loss: 0.2307 (0.3620)  loss_classifier: 0.0906 (0.1049)  loss_box_reg: 0.0827 (0.0833)  loss_objectness: 0.0331 (0.0825)  loss_rpn_box_reg: 0.0096 (0.0913)  time: 0.2113  data: 0.0067  max mem: 4734\n",
            "Epoch: [4]  [ 600/4439]  eta: 0:13:32  lr: 0.000100  loss: 0.2546 (0.3548)  loss_classifier: 0.0862 (0.1057)  loss_box_reg: 0.0608 (0.0841)  loss_objectness: 0.0628 (0.0833)  loss_rpn_box_reg: 0.0132 (0.0818)  time: 0.2038  data: 0.0069  max mem: 4734\n",
            "Epoch: [4]  [ 700/4439]  eta: 0:13:12  lr: 0.000100  loss: 0.2329 (0.3684)  loss_classifier: 0.0697 (0.1077)  loss_box_reg: 0.0502 (0.0849)  loss_objectness: 0.0564 (0.0870)  loss_rpn_box_reg: 0.0195 (0.0888)  time: 0.2079  data: 0.0070  max mem: 4734\n",
            "Epoch: [4]  [ 800/4439]  eta: 0:12:51  lr: 0.000100  loss: 0.1876 (0.3603)  loss_classifier: 0.0586 (0.1071)  loss_box_reg: 0.0440 (0.0842)  loss_objectness: 0.0401 (0.0871)  loss_rpn_box_reg: 0.0069 (0.0820)  time: 0.2120  data: 0.0070  max mem: 4734\n",
            "Epoch: [4]  [ 900/4439]  eta: 0:12:30  lr: 0.000100  loss: 0.2074 (0.3536)  loss_classifier: 0.0731 (0.1072)  loss_box_reg: 0.0424 (0.0842)  loss_objectness: 0.0561 (0.0857)  loss_rpn_box_reg: 0.0113 (0.0765)  time: 0.2161  data: 0.0067  max mem: 4734\n",
            "Epoch: [4]  [1000/4439]  eta: 0:12:09  lr: 0.000100  loss: 0.1574 (0.3476)  loss_classifier: 0.0702 (0.1068)  loss_box_reg: 0.0442 (0.0838)  loss_objectness: 0.0386 (0.0851)  loss_rpn_box_reg: 0.0085 (0.0719)  time: 0.2221  data: 0.0071  max mem: 4734\n",
            "Epoch: [4]  [1100/4439]  eta: 0:11:48  lr: 0.000100  loss: 0.2394 (0.3430)  loss_classifier: 0.0764 (0.1066)  loss_box_reg: 0.0821 (0.0841)  loss_objectness: 0.0544 (0.0843)  loss_rpn_box_reg: 0.0136 (0.0680)  time: 0.2043  data: 0.0075  max mem: 4734\n",
            "Epoch: [4]  [1200/4439]  eta: 0:11:27  lr: 0.000100  loss: 0.2110 (0.3388)  loss_classifier: 0.0808 (0.1065)  loss_box_reg: 0.0532 (0.0835)  loss_objectness: 0.0567 (0.0842)  loss_rpn_box_reg: 0.0098 (0.0645)  time: 0.2114  data: 0.0074  max mem: 4734\n",
            "Epoch: [4]  [1300/4439]  eta: 0:11:07  lr: 0.000100  loss: 0.2150 (0.3346)  loss_classifier: 0.0734 (0.1063)  loss_box_reg: 0.0555 (0.0834)  loss_objectness: 0.0442 (0.0833)  loss_rpn_box_reg: 0.0121 (0.0615)  time: 0.2182  data: 0.0070  max mem: 4734\n",
            "Epoch: [4]  [1400/4439]  eta: 0:10:45  lr: 0.000100  loss: 0.1982 (0.3311)  loss_classifier: 0.0903 (0.1067)  loss_box_reg: 0.0814 (0.0835)  loss_objectness: 0.0442 (0.0822)  loss_rpn_box_reg: 0.0105 (0.0587)  time: 0.2128  data: 0.0070  max mem: 4734\n",
            "Epoch: [4]  [1500/4439]  eta: 0:10:24  lr: 0.000100  loss: 0.1841 (0.3385)  loss_classifier: 0.0745 (0.1072)  loss_box_reg: 0.0449 (0.0841)  loss_objectness: 0.0525 (0.0835)  loss_rpn_box_reg: 0.0106 (0.0636)  time: 0.2214  data: 0.0074  max mem: 4734\n",
            "Epoch: [4]  [1600/4439]  eta: 0:10:03  lr: 0.000100  loss: 0.2253 (0.3356)  loss_classifier: 0.0833 (0.1070)  loss_box_reg: 0.0508 (0.0835)  loss_objectness: 0.0493 (0.0835)  loss_rpn_box_reg: 0.0145 (0.0615)  time: 0.2103  data: 0.0066  max mem: 4734\n",
            "Epoch: [4]  [1700/4439]  eta: 0:09:41  lr: 0.000100  loss: 0.2451 (0.3332)  loss_classifier: 0.0909 (0.1068)  loss_box_reg: 0.0610 (0.0834)  loss_objectness: 0.0428 (0.0835)  loss_rpn_box_reg: 0.0113 (0.0595)  time: 0.2070  data: 0.0079  max mem: 4734\n",
            "Epoch: [4]  [1800/4439]  eta: 0:09:20  lr: 0.000100  loss: 0.2178 (0.3325)  loss_classifier: 0.0705 (0.1070)  loss_box_reg: 0.0472 (0.0833)  loss_objectness: 0.0402 (0.0840)  loss_rpn_box_reg: 0.0116 (0.0582)  time: 0.2174  data: 0.0068  max mem: 4734\n",
            "Epoch: [4]  [1900/4439]  eta: 0:08:59  lr: 0.000100  loss: 0.1714 (0.3303)  loss_classifier: 0.0771 (0.1069)  loss_box_reg: 0.0557 (0.0830)  loss_objectness: 0.0413 (0.0837)  loss_rpn_box_reg: 0.0128 (0.0566)  time: 0.2133  data: 0.0070  max mem: 4734\n",
            "Epoch: [4]  [2000/4439]  eta: 0:08:37  lr: 0.000100  loss: 0.1931 (0.3286)  loss_classifier: 0.0695 (0.1067)  loss_box_reg: 0.0576 (0.0828)  loss_objectness: 0.0457 (0.0839)  loss_rpn_box_reg: 0.0127 (0.0552)  time: 0.2142  data: 0.0072  max mem: 4734\n",
            "Epoch: [4]  [2100/4439]  eta: 0:08:16  lr: 0.000100  loss: 0.2343 (0.3272)  loss_classifier: 0.0685 (0.1069)  loss_box_reg: 0.0508 (0.0827)  loss_objectness: 0.0493 (0.0836)  loss_rpn_box_reg: 0.0150 (0.0539)  time: 0.2136  data: 0.0068  max mem: 4734\n",
            "Epoch: [4]  [2200/4439]  eta: 0:07:55  lr: 0.000100  loss: 0.2199 (0.3409)  loss_classifier: 0.0770 (0.1077)  loss_box_reg: 0.0534 (0.0834)  loss_objectness: 0.0458 (0.0852)  loss_rpn_box_reg: 0.0127 (0.0646)  time: 0.2100  data: 0.0068  max mem: 4734\n",
            "Epoch: [4]  [2300/4439]  eta: 0:07:34  lr: 0.000100  loss: 0.2232 (0.3379)  loss_classifier: 0.0815 (0.1074)  loss_box_reg: 0.0574 (0.0833)  loss_objectness: 0.0407 (0.0844)  loss_rpn_box_reg: 0.0149 (0.0627)  time: 0.2083  data: 0.0064  max mem: 4734\n",
            "Epoch: [4]  [2400/4439]  eta: 0:07:12  lr: 0.000100  loss: 0.2459 (0.3371)  loss_classifier: 0.0835 (0.1075)  loss_box_reg: 0.0649 (0.0831)  loss_objectness: 0.0552 (0.0852)  loss_rpn_box_reg: 0.0195 (0.0615)  time: 0.1999  data: 0.0064  max mem: 4734\n",
            "Epoch: [4]  [2500/4439]  eta: 0:06:52  lr: 0.000100  loss: 0.2096 (0.3368)  loss_classifier: 0.0839 (0.1078)  loss_box_reg: 0.0639 (0.0833)  loss_objectness: 0.0488 (0.0857)  loss_rpn_box_reg: 0.0122 (0.0600)  time: 0.2159  data: 0.0067  max mem: 4734\n",
            "Epoch: [4]  [2600/4439]  eta: 0:06:30  lr: 0.000100  loss: 0.2147 (0.3333)  loss_classifier: 0.0803 (0.1072)  loss_box_reg: 0.0615 (0.0826)  loss_objectness: 0.0401 (0.0852)  loss_rpn_box_reg: 0.0072 (0.0584)  time: 0.2249  data: 0.0067  max mem: 4734\n",
            "Epoch: [4]  [2700/4439]  eta: 0:06:09  lr: 0.000100  loss: 0.2402 (0.3313)  loss_classifier: 0.0763 (0.1069)  loss_box_reg: 0.0623 (0.0825)  loss_objectness: 0.0514 (0.0847)  loss_rpn_box_reg: 0.0122 (0.0573)  time: 0.2223  data: 0.0066  max mem: 4734\n",
            "Epoch: [4]  [2800/4439]  eta: 0:05:48  lr: 0.000100  loss: 0.1867 (0.3304)  loss_classifier: 0.0713 (0.1069)  loss_box_reg: 0.0598 (0.0825)  loss_objectness: 0.0369 (0.0846)  loss_rpn_box_reg: 0.0175 (0.0564)  time: 0.2069  data: 0.0066  max mem: 4734\n",
            "Epoch: [4]  [2900/4439]  eta: 0:05:27  lr: 0.000100  loss: 0.2177 (0.3287)  loss_classifier: 0.0828 (0.1067)  loss_box_reg: 0.0574 (0.0824)  loss_objectness: 0.0466 (0.0843)  loss_rpn_box_reg: 0.0104 (0.0554)  time: 0.2183  data: 0.0072  max mem: 4734\n",
            "Epoch: [4]  [3000/4439]  eta: 0:05:06  lr: 0.000100  loss: 0.2137 (0.3267)  loss_classifier: 0.0921 (0.1062)  loss_box_reg: 0.0606 (0.0820)  loss_objectness: 0.0491 (0.0841)  loss_rpn_box_reg: 0.0179 (0.0544)  time: 0.2126  data: 0.0068  max mem: 4734\n",
            "Epoch: [4]  [3100/4439]  eta: 0:04:44  lr: 0.000100  loss: 0.2628 (0.3308)  loss_classifier: 0.0828 (0.1065)  loss_box_reg: 0.0667 (0.0822)  loss_objectness: 0.0508 (0.0851)  loss_rpn_box_reg: 0.0084 (0.0570)  time: 0.2078  data: 0.0069  max mem: 4734\n",
            "Epoch: [4]  [3200/4439]  eta: 0:04:23  lr: 0.000100  loss: 0.2266 (0.3337)  loss_classifier: 0.0669 (0.1064)  loss_box_reg: 0.0602 (0.0823)  loss_objectness: 0.0514 (0.0851)  loss_rpn_box_reg: 0.0219 (0.0599)  time: 0.2149  data: 0.0074  max mem: 4734\n",
            "Epoch: [4]  [3300/4439]  eta: 0:04:02  lr: 0.000100  loss: 0.2308 (0.3327)  loss_classifier: 0.0657 (0.1062)  loss_box_reg: 0.0588 (0.0823)  loss_objectness: 0.0483 (0.0851)  loss_rpn_box_reg: 0.0112 (0.0591)  time: 0.2174  data: 0.0074  max mem: 4734\n",
            "Epoch: [4]  [3400/4439]  eta: 0:03:41  lr: 0.000100  loss: 0.3086 (0.3369)  loss_classifier: 0.0933 (0.1062)  loss_box_reg: 0.0755 (0.0822)  loss_objectness: 0.0558 (0.0860)  loss_rpn_box_reg: 0.0189 (0.0625)  time: 0.2177  data: 0.0067  max mem: 4734\n",
            "Epoch: [4]  [3500/4439]  eta: 0:03:19  lr: 0.000100  loss: 0.3029 (0.3395)  loss_classifier: 0.1075 (0.1064)  loss_box_reg: 0.0601 (0.0822)  loss_objectness: 0.0637 (0.0865)  loss_rpn_box_reg: 0.0171 (0.0644)  time: 0.2151  data: 0.0079  max mem: 4734\n",
            "Epoch: [4]  [3600/4439]  eta: 0:02:58  lr: 0.000100  loss: 0.2027 (0.3443)  loss_classifier: 0.0735 (0.1063)  loss_box_reg: 0.0589 (0.0821)  loss_objectness: 0.0508 (0.0869)  loss_rpn_box_reg: 0.0116 (0.0690)  time: 0.2158  data: 0.0072  max mem: 4734\n",
            "Epoch: [4]  [3700/4439]  eta: 0:02:37  lr: 0.000100  loss: 0.1971 (0.3430)  loss_classifier: 0.0734 (0.1060)  loss_box_reg: 0.0536 (0.0819)  loss_objectness: 0.0638 (0.0870)  loss_rpn_box_reg: 0.0108 (0.0680)  time: 0.2114  data: 0.0071  max mem: 4734\n",
            "Epoch: [4]  [3800/4439]  eta: 0:02:16  lr: 0.000100  loss: 0.1871 (0.3423)  loss_classifier: 0.0873 (0.1061)  loss_box_reg: 0.0520 (0.0820)  loss_objectness: 0.0522 (0.0871)  loss_rpn_box_reg: 0.0094 (0.0671)  time: 0.2191  data: 0.0071  max mem: 4734\n",
            "Epoch: [4]  [3900/4439]  eta: 0:01:54  lr: 0.000100  loss: 0.1925 (0.3406)  loss_classifier: 0.0758 (0.1059)  loss_box_reg: 0.0520 (0.0819)  loss_objectness: 0.0587 (0.0867)  loss_rpn_box_reg: 0.0080 (0.0661)  time: 0.2137  data: 0.0069  max mem: 4734\n",
            "Epoch: [4]  [4000/4439]  eta: 0:01:33  lr: 0.000100  loss: 0.1761 (0.3393)  loss_classifier: 0.0832 (0.1059)  loss_box_reg: 0.0596 (0.0820)  loss_objectness: 0.0413 (0.0863)  loss_rpn_box_reg: 0.0100 (0.0651)  time: 0.2111  data: 0.0068  max mem: 4734\n",
            "Epoch: [4]  [4100/4439]  eta: 0:01:12  lr: 0.000100  loss: 0.1757 (0.3384)  loss_classifier: 0.0749 (0.1060)  loss_box_reg: 0.0492 (0.0822)  loss_objectness: 0.0385 (0.0860)  loss_rpn_box_reg: 0.0081 (0.0642)  time: 0.2122  data: 0.0075  max mem: 4734\n",
            "Epoch: [4]  [4200/4439]  eta: 0:00:50  lr: 0.000100  loss: 0.2198 (0.3371)  loss_classifier: 0.0561 (0.1056)  loss_box_reg: 0.0378 (0.0819)  loss_objectness: 0.0554 (0.0863)  loss_rpn_box_reg: 0.0144 (0.0633)  time: 0.2158  data: 0.0069  max mem: 4734\n",
            "Epoch: [4]  [4300/4439]  eta: 0:00:29  lr: 0.000100  loss: 0.2182 (0.3366)  loss_classifier: 0.0781 (0.1057)  loss_box_reg: 0.0519 (0.0819)  loss_objectness: 0.0447 (0.0863)  loss_rpn_box_reg: 0.0118 (0.0627)  time: 0.2146  data: 0.0078  max mem: 4734\n",
            "Epoch: [4]  [4400/4439]  eta: 0:00:08  lr: 0.000100  loss: 0.2454 (0.3362)  loss_classifier: 0.0855 (0.1059)  loss_box_reg: 0.0613 (0.0820)  loss_objectness: 0.0518 (0.0863)  loss_rpn_box_reg: 0.0211 (0.0620)  time: 0.2073  data: 0.0066  max mem: 4734\n",
            "Epoch: [4]  [4438/4439]  eta: 0:00:00  lr: 0.000100  loss: 0.2053 (0.3361)  loss_classifier: 0.0828 (0.1058)  loss_box_reg: 0.0690 (0.0820)  loss_objectness: 0.0438 (0.0864)  loss_rpn_box_reg: 0.0079 (0.0618)  time: 0.2018  data: 0.0070  max mem: 4734\n",
            "Epoch: [4] Total time: 0:15:43 (0.2127 s / it)\n",
            "creating index...\n",
            "index created!\n",
            "Test:  [   0/2220]  eta: 0:12:46  model_time: 0.0625 (0.0625)  evaluator_time: 0.0186 (0.0186)  time: 0.3454  data: 0.2608  max mem: 4734\n",
            "Test:  [ 100/2220]  eta: 0:02:13  model_time: 0.0437 (0.0446)  evaluator_time: 0.0078 (0.0091)  time: 0.0593  data: 0.0035  max mem: 4734\n",
            "Test:  [ 200/2220]  eta: 0:02:03  model_time: 0.0448 (0.0448)  evaluator_time: 0.0074 (0.0084)  time: 0.0589  data: 0.0036  max mem: 4734\n",
            "Test:  [ 300/2220]  eta: 0:01:56  model_time: 0.0454 (0.0446)  evaluator_time: 0.0074 (0.0085)  time: 0.0604  data: 0.0036  max mem: 4734\n",
            "Test:  [ 400/2220]  eta: 0:01:49  model_time: 0.0452 (0.0447)  evaluator_time: 0.0072 (0.0084)  time: 0.0607  data: 0.0038  max mem: 4734\n",
            "Test:  [ 500/2220]  eta: 0:01:43  model_time: 0.0450 (0.0447)  evaluator_time: 0.0072 (0.0083)  time: 0.0589  data: 0.0037  max mem: 4734\n",
            "Test:  [ 600/2220]  eta: 0:01:37  model_time: 0.0450 (0.0447)  evaluator_time: 0.0074 (0.0083)  time: 0.0599  data: 0.0041  max mem: 4734\n",
            "Test:  [ 700/2220]  eta: 0:01:31  model_time: 0.0444 (0.0447)  evaluator_time: 0.0073 (0.0083)  time: 0.0593  data: 0.0039  max mem: 4734\n",
            "Test:  [ 800/2220]  eta: 0:01:25  model_time: 0.0448 (0.0447)  evaluator_time: 0.0074 (0.0082)  time: 0.0597  data: 0.0038  max mem: 4734\n",
            "Test:  [ 900/2220]  eta: 0:01:19  model_time: 0.0452 (0.0447)  evaluator_time: 0.0071 (0.0082)  time: 0.0592  data: 0.0035  max mem: 4734\n",
            "Test:  [1000/2220]  eta: 0:01:13  model_time: 0.0453 (0.0447)  evaluator_time: 0.0070 (0.0082)  time: 0.0584  data: 0.0038  max mem: 4734\n",
            "Test:  [1100/2220]  eta: 0:01:07  model_time: 0.0451 (0.0446)  evaluator_time: 0.0071 (0.0082)  time: 0.0588  data: 0.0040  max mem: 4734\n",
            "Test:  [1200/2220]  eta: 0:01:01  model_time: 0.0431 (0.0446)  evaluator_time: 0.0073 (0.0082)  time: 0.0582  data: 0.0039  max mem: 4734\n",
            "Test:  [1300/2220]  eta: 0:00:55  model_time: 0.0446 (0.0446)  evaluator_time: 0.0070 (0.0082)  time: 0.0583  data: 0.0037  max mem: 4734\n",
            "Test:  [1400/2220]  eta: 0:00:49  model_time: 0.0448 (0.0446)  evaluator_time: 0.0076 (0.0082)  time: 0.0594  data: 0.0035  max mem: 4734\n",
            "Test:  [1500/2220]  eta: 0:00:43  model_time: 0.0447 (0.0446)  evaluator_time: 0.0072 (0.0082)  time: 0.0580  data: 0.0041  max mem: 4734\n",
            "Test:  [1600/2220]  eta: 0:00:37  model_time: 0.0448 (0.0446)  evaluator_time: 0.0070 (0.0082)  time: 0.0605  data: 0.0039  max mem: 4734\n",
            "Test:  [1700/2220]  eta: 0:00:31  model_time: 0.0452 (0.0446)  evaluator_time: 0.0077 (0.0082)  time: 0.0600  data: 0.0035  max mem: 4734\n",
            "Test:  [1800/2220]  eta: 0:00:25  model_time: 0.0435 (0.0446)  evaluator_time: 0.0069 (0.0082)  time: 0.0593  data: 0.0036  max mem: 4734\n",
            "Test:  [1900/2220]  eta: 0:00:19  model_time: 0.0446 (0.0445)  evaluator_time: 0.0070 (0.0082)  time: 0.0583  data: 0.0037  max mem: 4734\n",
            "Test:  [2000/2220]  eta: 0:00:13  model_time: 0.0450 (0.0445)  evaluator_time: 0.0068 (0.0081)  time: 0.0586  data: 0.0036  max mem: 4734\n",
            "Test:  [2100/2220]  eta: 0:00:07  model_time: 0.0432 (0.0445)  evaluator_time: 0.0070 (0.0081)  time: 0.0579  data: 0.0039  max mem: 4734\n",
            "Test:  [2200/2220]  eta: 0:00:01  model_time: 0.0441 (0.0446)  evaluator_time: 0.0074 (0.0081)  time: 0.0662  data: 0.0039  max mem: 4734\n",
            "Test:  [2219/2220]  eta: 0:00:00  model_time: 0.0436 (0.0445)  evaluator_time: 0.0067 (0.0081)  time: 0.0610  data: 0.0041  max mem: 4734\n",
            "Test: Total time: 0:02:12 (0.0598 s / it)\n",
            "Averaged stats: model_time: 0.0436 (0.0445)  evaluator_time: 0.0067 (0.0081)\n",
            "Accumulating evaluation results...\n",
            "DONE (t=0.79s).\n",
            "IoU metric: bbox\n",
            " Average Precision  (AP) @[ IoU=0.50:0.95 | area=   all | maxDets=100 ] = 0.075\n",
            " Average Precision  (AP) @[ IoU=0.50      | area=   all | maxDets=100 ] = 0.164\n",
            " Average Precision  (AP) @[ IoU=0.75      | area=   all | maxDets=100 ] = 0.056\n",
            " Average Precision  (AP) @[ IoU=0.50:0.95 | area= small | maxDets=100 ] = 0.019\n",
            " Average Precision  (AP) @[ IoU=0.50:0.95 | area=medium | maxDets=100 ] = 0.064\n",
            " Average Precision  (AP) @[ IoU=0.50:0.95 | area= large | maxDets=100 ] = 0.114\n",
            " Average Recall     (AR) @[ IoU=0.50:0.95 | area=   all | maxDets=  1 ] = 0.083\n",
            " Average Recall     (AR) @[ IoU=0.50:0.95 | area=   all | maxDets= 10 ] = 0.198\n",
            " Average Recall     (AR) @[ IoU=0.50:0.95 | area=   all | maxDets=100 ] = 0.226\n",
            " Average Recall     (AR) @[ IoU=0.50:0.95 | area= small | maxDets=100 ] = 0.099\n",
            " Average Recall     (AR) @[ IoU=0.50:0.95 | area=medium | maxDets=100 ] = 0.203\n",
            " Average Recall     (AR) @[ IoU=0.50:0.95 | area= large | maxDets=100 ] = 0.305\n",
            "Epoch: [5]  [   0/4439]  eta: 0:38:46  lr: 0.000100  loss: 0.2129 (0.2129)  loss_classifier: 0.0957 (0.0957)  loss_box_reg: 0.0681 (0.0681)  loss_objectness: 0.0476 (0.0476)  loss_rpn_box_reg: 0.0015 (0.0015)  time: 0.5240  data: 0.3196  max mem: 4734\n",
            "Epoch: [5]  [ 100/4439]  eta: 0:15:45  lr: 0.000100  loss: 0.2265 (0.3047)  loss_classifier: 0.0789 (0.1109)  loss_box_reg: 0.0477 (0.0873)  loss_objectness: 0.0554 (0.0794)  loss_rpn_box_reg: 0.0145 (0.0271)  time: 0.2104  data: 0.0068  max mem: 4734\n",
            "Epoch: [5]  [ 200/4439]  eta: 0:15:10  lr: 0.000100  loss: 0.2255 (0.3057)  loss_classifier: 0.0839 (0.1104)  loss_box_reg: 0.0678 (0.0879)  loss_objectness: 0.0489 (0.0789)  loss_rpn_box_reg: 0.0124 (0.0284)  time: 0.2170  data: 0.0066  max mem: 4734\n",
            "Epoch: [5]  [ 300/4439]  eta: 0:14:47  lr: 0.000100  loss: 0.1879 (0.3155)  loss_classifier: 0.0756 (0.1118)  loss_box_reg: 0.0542 (0.0897)  loss_objectness: 0.0449 (0.0853)  loss_rpn_box_reg: 0.0129 (0.0287)  time: 0.2076  data: 0.0071  max mem: 4734\n",
            "Epoch: [5]  [ 400/4439]  eta: 0:14:23  lr: 0.000100  loss: 0.1629 (0.3034)  loss_classifier: 0.0686 (0.1077)  loss_box_reg: 0.0463 (0.0874)  loss_objectness: 0.0382 (0.0807)  loss_rpn_box_reg: 0.0060 (0.0276)  time: 0.2064  data: 0.0066  max mem: 4734\n",
            "Epoch: [5]  [ 500/4439]  eta: 0:14:02  lr: 0.000100  loss: 0.1862 (0.3029)  loss_classifier: 0.0612 (0.1073)  loss_box_reg: 0.0305 (0.0870)  loss_objectness: 0.0547 (0.0809)  loss_rpn_box_reg: 0.0095 (0.0277)  time: 0.2134  data: 0.0067  max mem: 4734\n",
            "Epoch: [5]  [ 600/4439]  eta: 0:13:39  lr: 0.000100  loss: 0.2270 (0.3050)  loss_classifier: 0.0803 (0.1090)  loss_box_reg: 0.0653 (0.0879)  loss_objectness: 0.0452 (0.0798)  loss_rpn_box_reg: 0.0119 (0.0282)  time: 0.2084  data: 0.0064  max mem: 4734\n",
            "Epoch: [5]  [ 700/4439]  eta: 0:13:19  lr: 0.000100  loss: 0.2197 (0.3047)  loss_classifier: 0.0760 (0.1087)  loss_box_reg: 0.0528 (0.0868)  loss_objectness: 0.0356 (0.0803)  loss_rpn_box_reg: 0.0263 (0.0290)  time: 0.2174  data: 0.0066  max mem: 4734\n",
            "Epoch: [5]  [ 800/4439]  eta: 0:12:54  lr: 0.000100  loss: 0.2157 (0.3018)  loss_classifier: 0.0775 (0.1077)  loss_box_reg: 0.0387 (0.0856)  loss_objectness: 0.0472 (0.0798)  loss_rpn_box_reg: 0.0107 (0.0287)  time: 0.2097  data: 0.0064  max mem: 4734\n",
            "Epoch: [5]  [ 900/4439]  eta: 0:12:32  lr: 0.000100  loss: 0.1662 (0.3049)  loss_classifier: 0.0558 (0.1078)  loss_box_reg: 0.0493 (0.0848)  loss_objectness: 0.0421 (0.0823)  loss_rpn_box_reg: 0.0123 (0.0299)  time: 0.2060  data: 0.0062  max mem: 4734\n",
            "Epoch: [5]  [1000/4439]  eta: 0:12:12  lr: 0.000100  loss: 0.2193 (0.3263)  loss_classifier: 0.0729 (0.1077)  loss_box_reg: 0.0600 (0.0839)  loss_objectness: 0.0475 (0.0867)  loss_rpn_box_reg: 0.0115 (0.0480)  time: 0.2123  data: 0.0064  max mem: 4734\n",
            "Epoch: [5]  [1100/4439]  eta: 0:11:51  lr: 0.000100  loss: 0.1865 (0.3340)  loss_classifier: 0.0741 (0.1078)  loss_box_reg: 0.0634 (0.0842)  loss_objectness: 0.0414 (0.0871)  loss_rpn_box_reg: 0.0161 (0.0549)  time: 0.2091  data: 0.0072  max mem: 4734\n",
            "Epoch: [5]  [1200/4439]  eta: 0:11:29  lr: 0.000100  loss: 0.2269 (0.3322)  loss_classifier: 0.0807 (0.1078)  loss_box_reg: 0.0572 (0.0843)  loss_objectness: 0.0546 (0.0876)  loss_rpn_box_reg: 0.0127 (0.0525)  time: 0.2130  data: 0.0069  max mem: 4734\n",
            "Epoch: [5]  [1300/4439]  eta: 0:11:06  lr: 0.000100  loss: 0.1903 (0.3292)  loss_classifier: 0.0752 (0.1071)  loss_box_reg: 0.0534 (0.0835)  loss_objectness: 0.0464 (0.0873)  loss_rpn_box_reg: 0.0064 (0.0513)  time: 0.2034  data: 0.0065  max mem: 4734\n",
            "Epoch: [5]  [1400/4439]  eta: 0:10:45  lr: 0.000100  loss: 0.1939 (0.3549)  loss_classifier: 0.0699 (0.1080)  loss_box_reg: 0.0653 (0.0840)  loss_objectness: 0.0573 (0.0885)  loss_rpn_box_reg: 0.0169 (0.0744)  time: 0.2118  data: 0.0070  max mem: 4734\n",
            "Epoch: [5]  [1500/4439]  eta: 0:10:23  lr: 0.000100  loss: 0.2448 (0.3590)  loss_classifier: 0.0865 (0.1072)  loss_box_reg: 0.0699 (0.0836)  loss_objectness: 0.0365 (0.0883)  loss_rpn_box_reg: 0.0068 (0.0799)  time: 0.2050  data: 0.0067  max mem: 4734\n",
            "Epoch: [5]  [1600/4439]  eta: 0:10:02  lr: 0.000100  loss: 0.2311 (0.3558)  loss_classifier: 0.0794 (0.1070)  loss_box_reg: 0.0662 (0.0832)  loss_objectness: 0.0479 (0.0885)  loss_rpn_box_reg: 0.0202 (0.0770)  time: 0.2315  data: 0.0075  max mem: 4734\n",
            "Epoch: [5]  [1700/4439]  eta: 0:09:41  lr: 0.000100  loss: 0.1825 (0.3507)  loss_classifier: 0.0649 (0.1064)  loss_box_reg: 0.0398 (0.0826)  loss_objectness: 0.0429 (0.0877)  loss_rpn_box_reg: 0.0120 (0.0740)  time: 0.2175  data: 0.0065  max mem: 4734\n",
            "Epoch: [5]  [1800/4439]  eta: 0:09:20  lr: 0.000100  loss: 0.2749 (0.3478)  loss_classifier: 0.1076 (0.1065)  loss_box_reg: 0.0838 (0.0829)  loss_objectness: 0.0464 (0.0867)  loss_rpn_box_reg: 0.0150 (0.0717)  time: 0.2269  data: 0.0071  max mem: 4734\n",
            "Epoch: [5]  [1900/4439]  eta: 0:08:59  lr: 0.000100  loss: 0.2354 (0.3475)  loss_classifier: 0.0880 (0.1073)  loss_box_reg: 0.0647 (0.0835)  loss_objectness: 0.0401 (0.0870)  loss_rpn_box_reg: 0.0186 (0.0697)  time: 0.2114  data: 0.0070  max mem: 4734\n",
            "Epoch: [5]  [2000/4439]  eta: 0:08:37  lr: 0.000100  loss: 0.1976 (0.3460)  loss_classifier: 0.0572 (0.1072)  loss_box_reg: 0.0473 (0.0833)  loss_objectness: 0.0526 (0.0875)  loss_rpn_box_reg: 0.0131 (0.0680)  time: 0.2033  data: 0.0063  max mem: 4734\n",
            "Epoch: [5]  [2100/4439]  eta: 0:08:17  lr: 0.000100  loss: 0.2471 (0.3432)  loss_classifier: 0.0802 (0.1068)  loss_box_reg: 0.0582 (0.0830)  loss_objectness: 0.0414 (0.0875)  loss_rpn_box_reg: 0.0166 (0.0659)  time: 0.2195  data: 0.0071  max mem: 4734\n",
            "Epoch: [5]  [2200/4439]  eta: 0:07:55  lr: 0.000100  loss: 0.2987 (0.3495)  loss_classifier: 0.0954 (0.1071)  loss_box_reg: 0.0757 (0.0832)  loss_objectness: 0.0599 (0.0885)  loss_rpn_box_reg: 0.0194 (0.0707)  time: 0.2116  data: 0.0069  max mem: 4734\n",
            "Epoch: [5]  [2300/4439]  eta: 0:07:34  lr: 0.000100  loss: 0.2381 (0.3482)  loss_classifier: 0.0960 (0.1070)  loss_box_reg: 0.0896 (0.0830)  loss_objectness: 0.0592 (0.0889)  loss_rpn_box_reg: 0.0121 (0.0693)  time: 0.2021  data: 0.0071  max mem: 4734\n",
            "Epoch: [5]  [2400/4439]  eta: 0:07:13  lr: 0.000100  loss: 0.2049 (0.3464)  loss_classifier: 0.0789 (0.1071)  loss_box_reg: 0.0395 (0.0831)  loss_objectness: 0.0535 (0.0888)  loss_rpn_box_reg: 0.0175 (0.0674)  time: 0.2167  data: 0.0069  max mem: 4734\n",
            "Epoch: [5]  [2500/4439]  eta: 0:06:52  lr: 0.000100  loss: 0.2167 (0.3449)  loss_classifier: 0.0878 (0.1073)  loss_box_reg: 0.0512 (0.0831)  loss_objectness: 0.0529 (0.0887)  loss_rpn_box_reg: 0.0098 (0.0658)  time: 0.2085  data: 0.0069  max mem: 4734\n",
            "Epoch: [5]  [2600/4439]  eta: 0:06:30  lr: 0.000100  loss: 0.1661 (0.3417)  loss_classifier: 0.0676 (0.1065)  loss_box_reg: 0.0509 (0.0826)  loss_objectness: 0.0337 (0.0882)  loss_rpn_box_reg: 0.0083 (0.0643)  time: 0.2062  data: 0.0066  max mem: 4734\n",
            "Epoch: [5]  [2700/4439]  eta: 0:06:09  lr: 0.000100  loss: 0.1885 (0.3394)  loss_classifier: 0.0544 (0.1064)  loss_box_reg: 0.0644 (0.0825)  loss_objectness: 0.0430 (0.0877)  loss_rpn_box_reg: 0.0122 (0.0629)  time: 0.2081  data: 0.0071  max mem: 4734\n",
            "Epoch: [5]  [2800/4439]  eta: 0:05:47  lr: 0.000100  loss: 0.1953 (0.3368)  loss_classifier: 0.0793 (0.1062)  loss_box_reg: 0.0534 (0.0824)  loss_objectness: 0.0379 (0.0868)  loss_rpn_box_reg: 0.0102 (0.0614)  time: 0.2098  data: 0.0065  max mem: 4734\n",
            "Epoch: [5]  [2900/4439]  eta: 0:05:26  lr: 0.000100  loss: 0.3462 (0.3349)  loss_classifier: 0.1076 (0.1059)  loss_box_reg: 0.0902 (0.0821)  loss_objectness: 0.0641 (0.0865)  loss_rpn_box_reg: 0.0217 (0.0603)  time: 0.2149  data: 0.0073  max mem: 4734\n",
            "Epoch: [5]  [3000/4439]  eta: 0:05:05  lr: 0.000100  loss: 0.1954 (0.3381)  loss_classifier: 0.0787 (0.1055)  loss_box_reg: 0.0546 (0.0817)  loss_objectness: 0.0553 (0.0867)  loss_rpn_box_reg: 0.0115 (0.0643)  time: 0.2284  data: 0.0068  max mem: 4734\n",
            "Epoch: [5]  [3100/4439]  eta: 0:04:44  lr: 0.000100  loss: 0.1772 (0.3363)  loss_classifier: 0.0752 (0.1052)  loss_box_reg: 0.0568 (0.0815)  loss_objectness: 0.0449 (0.0866)  loss_rpn_box_reg: 0.0128 (0.0630)  time: 0.2120  data: 0.0071  max mem: 4734\n",
            "Epoch: [5]  [3200/4439]  eta: 0:04:23  lr: 0.000100  loss: 0.2312 (0.3359)  loss_classifier: 0.0812 (0.1055)  loss_box_reg: 0.0585 (0.0816)  loss_objectness: 0.0627 (0.0867)  loss_rpn_box_reg: 0.0227 (0.0622)  time: 0.2128  data: 0.0071  max mem: 4734\n",
            "Epoch: [5]  [3300/4439]  eta: 0:04:01  lr: 0.000100  loss: 0.2086 (0.3405)  loss_classifier: 0.0729 (0.1055)  loss_box_reg: 0.0494 (0.0818)  loss_objectness: 0.0439 (0.0865)  loss_rpn_box_reg: 0.0120 (0.0668)  time: 0.2187  data: 0.0064  max mem: 4734\n",
            "Epoch: [5]  [3400/4439]  eta: 0:03:40  lr: 0.000100  loss: 0.2063 (0.3433)  loss_classifier: 0.0741 (0.1054)  loss_box_reg: 0.0530 (0.0817)  loss_objectness: 0.0525 (0.0874)  loss_rpn_box_reg: 0.0172 (0.0687)  time: 0.2206  data: 0.0069  max mem: 4734\n",
            "Epoch: [5]  [3500/4439]  eta: 0:03:19  lr: 0.000100  loss: 0.2766 (0.3421)  loss_classifier: 0.0971 (0.1055)  loss_box_reg: 0.0754 (0.0818)  loss_objectness: 0.0596 (0.0871)  loss_rpn_box_reg: 0.0201 (0.0676)  time: 0.2121  data: 0.0066  max mem: 4734\n",
            "Epoch: [5]  [3600/4439]  eta: 0:02:58  lr: 0.000100  loss: 0.1759 (0.3404)  loss_classifier: 0.0669 (0.1054)  loss_box_reg: 0.0528 (0.0817)  loss_objectness: 0.0479 (0.0867)  loss_rpn_box_reg: 0.0142 (0.0666)  time: 0.2088  data: 0.0070  max mem: 4734\n",
            "Epoch: [5]  [3700/4439]  eta: 0:02:36  lr: 0.000100  loss: 0.1995 (0.3390)  loss_classifier: 0.0666 (0.1052)  loss_box_reg: 0.0510 (0.0817)  loss_objectness: 0.0555 (0.0865)  loss_rpn_box_reg: 0.0133 (0.0655)  time: 0.2000  data: 0.0073  max mem: 4734\n",
            "Epoch: [5]  [3800/4439]  eta: 0:02:15  lr: 0.000100  loss: 0.2116 (0.3368)  loss_classifier: 0.0679 (0.1050)  loss_box_reg: 0.0554 (0.0815)  loss_objectness: 0.0427 (0.0859)  loss_rpn_box_reg: 0.0094 (0.0644)  time: 0.2145  data: 0.0069  max mem: 4734\n",
            "Epoch: [5]  [3900/4439]  eta: 0:01:54  lr: 0.000100  loss: 0.2562 (0.3360)  loss_classifier: 0.0883 (0.1051)  loss_box_reg: 0.0785 (0.0816)  loss_objectness: 0.0499 (0.0857)  loss_rpn_box_reg: 0.0177 (0.0635)  time: 0.2111  data: 0.0071  max mem: 4734\n",
            "Epoch: [5]  [4000/4439]  eta: 0:01:33  lr: 0.000100  loss: 0.1845 (0.3383)  loss_classifier: 0.0754 (0.1048)  loss_box_reg: 0.0553 (0.0814)  loss_objectness: 0.0416 (0.0860)  loss_rpn_box_reg: 0.0096 (0.0661)  time: 0.2258  data: 0.0068  max mem: 4734\n",
            "Epoch: [5]  [4100/4439]  eta: 0:01:12  lr: 0.000100  loss: 0.1913 (0.3381)  loss_classifier: 0.0872 (0.1052)  loss_box_reg: 0.0485 (0.0817)  loss_objectness: 0.0541 (0.0860)  loss_rpn_box_reg: 0.0093 (0.0653)  time: 0.2121  data: 0.0069  max mem: 4734\n",
            "Epoch: [5]  [4200/4439]  eta: 0:00:50  lr: 0.000100  loss: 0.2052 (0.3362)  loss_classifier: 0.0939 (0.1049)  loss_box_reg: 0.0699 (0.0815)  loss_objectness: 0.0384 (0.0855)  loss_rpn_box_reg: 0.0179 (0.0644)  time: 0.2125  data: 0.0069  max mem: 4734\n",
            "Epoch: [5]  [4300/4439]  eta: 0:00:29  lr: 0.000100  loss: 0.2149 (0.3348)  loss_classifier: 0.0851 (0.1047)  loss_box_reg: 0.0549 (0.0812)  loss_objectness: 0.0487 (0.0852)  loss_rpn_box_reg: 0.0122 (0.0636)  time: 0.2098  data: 0.0071  max mem: 4734\n",
            "Epoch: [5]  [4400/4439]  eta: 0:00:08  lr: 0.000100  loss: 0.2088 (0.3366)  loss_classifier: 0.0769 (0.1046)  loss_box_reg: 0.0565 (0.0812)  loss_objectness: 0.0389 (0.0854)  loss_rpn_box_reg: 0.0117 (0.0653)  time: 0.2076  data: 0.0068  max mem: 4734\n",
            "Epoch: [5]  [4438/4439]  eta: 0:00:00  lr: 0.000100  loss: 0.2313 (0.3362)  loss_classifier: 0.1001 (0.1046)  loss_box_reg: 0.0608 (0.0812)  loss_objectness: 0.0380 (0.0853)  loss_rpn_box_reg: 0.0087 (0.0651)  time: 0.2034  data: 0.0067  max mem: 4734\n",
            "Epoch: [5] Total time: 0:15:42 (0.2124 s / it)\n",
            "creating index...\n",
            "index created!\n",
            "Test:  [   0/2220]  eta: 0:12:38  model_time: 0.0596 (0.0596)  evaluator_time: 0.0169 (0.0169)  time: 0.3416  data: 0.2622  max mem: 4734\n",
            "Test:  [ 100/2220]  eta: 0:02:13  model_time: 0.0443 (0.0449)  evaluator_time: 0.0077 (0.0089)  time: 0.0595  data: 0.0039  max mem: 4734\n",
            "Test:  [ 200/2220]  eta: 0:02:03  model_time: 0.0454 (0.0450)  evaluator_time: 0.0074 (0.0083)  time: 0.0599  data: 0.0039  max mem: 4734\n",
            "Test:  [ 300/2220]  eta: 0:01:56  model_time: 0.0441 (0.0446)  evaluator_time: 0.0073 (0.0084)  time: 0.0598  data: 0.0041  max mem: 4734\n",
            "Test:  [ 400/2220]  eta: 0:01:49  model_time: 0.0449 (0.0447)  evaluator_time: 0.0071 (0.0082)  time: 0.0602  data: 0.0037  max mem: 4734\n",
            "Test:  [ 500/2220]  eta: 0:01:43  model_time: 0.0450 (0.0447)  evaluator_time: 0.0070 (0.0082)  time: 0.0594  data: 0.0037  max mem: 4734\n",
            "Test:  [ 600/2220]  eta: 0:01:36  model_time: 0.0430 (0.0446)  evaluator_time: 0.0071 (0.0081)  time: 0.0580  data: 0.0037  max mem: 4734\n",
            "Test:  [ 700/2220]  eta: 0:01:30  model_time: 0.0453 (0.0447)  evaluator_time: 0.0076 (0.0081)  time: 0.0611  data: 0.0036  max mem: 4734\n",
            "Test:  [ 800/2220]  eta: 0:01:24  model_time: 0.0446 (0.0447)  evaluator_time: 0.0072 (0.0081)  time: 0.0598  data: 0.0041  max mem: 4734\n",
            "Test:  [ 900/2220]  eta: 0:01:19  model_time: 0.0449 (0.0446)  evaluator_time: 0.0070 (0.0080)  time: 0.0579  data: 0.0035  max mem: 4734\n",
            "Test:  [1000/2220]  eta: 0:01:13  model_time: 0.0452 (0.0446)  evaluator_time: 0.0070 (0.0081)  time: 0.0578  data: 0.0036  max mem: 4734\n",
            "Test:  [1100/2220]  eta: 0:01:07  model_time: 0.0453 (0.0445)  evaluator_time: 0.0069 (0.0081)  time: 0.0580  data: 0.0036  max mem: 4734\n",
            "Test:  [1200/2220]  eta: 0:01:01  model_time: 0.0441 (0.0446)  evaluator_time: 0.0071 (0.0081)  time: 0.0579  data: 0.0037  max mem: 4734\n",
            "Test:  [1300/2220]  eta: 0:00:55  model_time: 0.0450 (0.0446)  evaluator_time: 0.0069 (0.0081)  time: 0.0594  data: 0.0041  max mem: 4734\n",
            "Test:  [1400/2220]  eta: 0:00:49  model_time: 0.0447 (0.0446)  evaluator_time: 0.0075 (0.0081)  time: 0.0590  data: 0.0036  max mem: 4734\n",
            "Test:  [1500/2220]  eta: 0:00:43  model_time: 0.0444 (0.0446)  evaluator_time: 0.0070 (0.0081)  time: 0.0582  data: 0.0037  max mem: 4734\n",
            "Test:  [1600/2220]  eta: 0:00:37  model_time: 0.0443 (0.0445)  evaluator_time: 0.0069 (0.0081)  time: 0.0602  data: 0.0038  max mem: 4734\n",
            "Test:  [1700/2220]  eta: 0:00:31  model_time: 0.0446 (0.0446)  evaluator_time: 0.0075 (0.0080)  time: 0.0600  data: 0.0039  max mem: 4734\n",
            "Test:  [1800/2220]  eta: 0:00:25  model_time: 0.0442 (0.0445)  evaluator_time: 0.0070 (0.0081)  time: 0.0590  data: 0.0038  max mem: 4734\n",
            "Test:  [1900/2220]  eta: 0:00:19  model_time: 0.0448 (0.0445)  evaluator_time: 0.0070 (0.0081)  time: 0.0584  data: 0.0040  max mem: 4734\n",
            "Test:  [2000/2220]  eta: 0:00:13  model_time: 0.0444 (0.0445)  evaluator_time: 0.0068 (0.0080)  time: 0.0587  data: 0.0037  max mem: 4734\n",
            "Test:  [2100/2220]  eta: 0:00:07  model_time: 0.0450 (0.0445)  evaluator_time: 0.0071 (0.0080)  time: 0.0584  data: 0.0038  max mem: 4734\n",
            "Test:  [2200/2220]  eta: 0:00:01  model_time: 0.0438 (0.0445)  evaluator_time: 0.0071 (0.0080)  time: 0.0584  data: 0.0042  max mem: 4734\n",
            "Test:  [2219/2220]  eta: 0:00:00  model_time: 0.0444 (0.0445)  evaluator_time: 0.0069 (0.0080)  time: 0.0614  data: 0.0040  max mem: 4734\n",
            "Test: Total time: 0:02:12 (0.0596 s / it)\n",
            "Averaged stats: model_time: 0.0444 (0.0445)  evaluator_time: 0.0069 (0.0080)\n",
            "Accumulating evaluation results...\n",
            "DONE (t=0.90s).\n",
            "IoU metric: bbox\n",
            " Average Precision  (AP) @[ IoU=0.50:0.95 | area=   all | maxDets=100 ] = 0.074\n",
            " Average Precision  (AP) @[ IoU=0.50      | area=   all | maxDets=100 ] = 0.163\n",
            " Average Precision  (AP) @[ IoU=0.75      | area=   all | maxDets=100 ] = 0.053\n",
            " Average Precision  (AP) @[ IoU=0.50:0.95 | area= small | maxDets=100 ] = 0.019\n",
            " Average Precision  (AP) @[ IoU=0.50:0.95 | area=medium | maxDets=100 ] = 0.065\n",
            " Average Precision  (AP) @[ IoU=0.50:0.95 | area= large | maxDets=100 ] = 0.113\n",
            " Average Recall     (AR) @[ IoU=0.50:0.95 | area=   all | maxDets=  1 ] = 0.083\n",
            " Average Recall     (AR) @[ IoU=0.50:0.95 | area=   all | maxDets= 10 ] = 0.197\n",
            " Average Recall     (AR) @[ IoU=0.50:0.95 | area=   all | maxDets=100 ] = 0.225\n",
            " Average Recall     (AR) @[ IoU=0.50:0.95 | area= small | maxDets=100 ] = 0.098\n",
            " Average Recall     (AR) @[ IoU=0.50:0.95 | area=medium | maxDets=100 ] = 0.202\n",
            " Average Recall     (AR) @[ IoU=0.50:0.95 | area= large | maxDets=100 ] = 0.302\n",
            "Epoch: [6]  [   0/4439]  eta: 0:40:49  lr: 0.000010  loss: 0.2389 (0.2389)  loss_classifier: 0.0920 (0.0920)  loss_box_reg: 0.0544 (0.0544)  loss_objectness: 0.0841 (0.0841)  loss_rpn_box_reg: 0.0084 (0.0084)  time: 0.5518  data: 0.3103  max mem: 4734\n",
            "Epoch: [6]  [ 100/4439]  eta: 0:15:40  lr: 0.000010  loss: 0.1959 (0.3075)  loss_classifier: 0.0765 (0.1032)  loss_box_reg: 0.0493 (0.0715)  loss_objectness: 0.0463 (0.1043)  loss_rpn_box_reg: 0.0156 (0.0285)  time: 0.2144  data: 0.0067  max mem: 4734\n",
            "Epoch: [6]  [ 200/4439]  eta: 0:15:08  lr: 0.000010  loss: 0.2135 (0.3083)  loss_classifier: 0.0722 (0.1056)  loss_box_reg: 0.0560 (0.0802)  loss_objectness: 0.0419 (0.0938)  loss_rpn_box_reg: 0.0149 (0.0286)  time: 0.2055  data: 0.0062  max mem: 4734\n",
            "Epoch: [6]  [ 300/4439]  eta: 0:14:43  lr: 0.000010  loss: 0.1883 (0.3525)  loss_classifier: 0.0700 (0.1054)  loss_box_reg: 0.0540 (0.0829)  loss_objectness: 0.0322 (0.0953)  loss_rpn_box_reg: 0.0096 (0.0689)  time: 0.2186  data: 0.0062  max mem: 4734\n",
            "Epoch: [6]  [ 400/4439]  eta: 0:14:17  lr: 0.000010  loss: 0.1611 (0.3318)  loss_classifier: 0.0533 (0.1049)  loss_box_reg: 0.0514 (0.0842)  loss_objectness: 0.0375 (0.0854)  loss_rpn_box_reg: 0.0080 (0.0573)  time: 0.2130  data: 0.0065  max mem: 4734\n",
            "Epoch: [6]  [ 500/4439]  eta: 0:13:54  lr: 0.000010  loss: 0.2254 (0.3267)  loss_classifier: 0.0746 (0.1051)  loss_box_reg: 0.0500 (0.0837)  loss_objectness: 0.0454 (0.0859)  loss_rpn_box_reg: 0.0124 (0.0518)  time: 0.2076  data: 0.0063  max mem: 4734\n",
            "Epoch: [6]  [ 600/4439]  eta: 0:13:34  lr: 0.000010  loss: 0.1883 (0.3247)  loss_classifier: 0.0729 (0.1061)  loss_box_reg: 0.0651 (0.0841)  loss_objectness: 0.0385 (0.0856)  loss_rpn_box_reg: 0.0127 (0.0488)  time: 0.2256  data: 0.0069  max mem: 4734\n",
            "Epoch: [6]  [ 700/4439]  eta: 0:13:14  lr: 0.000010  loss: 0.2551 (0.3387)  loss_classifier: 0.0756 (0.1054)  loss_box_reg: 0.0531 (0.0835)  loss_objectness: 0.0501 (0.0882)  loss_rpn_box_reg: 0.0219 (0.0616)  time: 0.2154  data: 0.0069  max mem: 4734\n",
            "Epoch: [6]  [ 800/4439]  eta: 0:12:52  lr: 0.000010  loss: 0.2220 (0.3475)  loss_classifier: 0.0856 (0.1040)  loss_box_reg: 0.0764 (0.0818)  loss_objectness: 0.0434 (0.0885)  loss_rpn_box_reg: 0.0174 (0.0732)  time: 0.2128  data: 0.0069  max mem: 4734\n",
            "Epoch: [6]  [ 900/4439]  eta: 0:12:32  lr: 0.000010  loss: 0.1998 (0.3419)  loss_classifier: 0.0841 (0.1045)  loss_box_reg: 0.0615 (0.0823)  loss_objectness: 0.0391 (0.0869)  loss_rpn_box_reg: 0.0109 (0.0682)  time: 0.2176  data: 0.0072  max mem: 4734\n",
            "Epoch: [6]  [1000/4439]  eta: 0:12:10  lr: 0.000010  loss: 0.1969 (0.3518)  loss_classifier: 0.0693 (0.1045)  loss_box_reg: 0.0419 (0.0815)  loss_objectness: 0.0564 (0.0893)  loss_rpn_box_reg: 0.0137 (0.0766)  time: 0.2141  data: 0.0071  max mem: 4734\n",
            "Epoch: [6]  [1100/4439]  eta: 0:11:49  lr: 0.000010  loss: 0.2005 (0.3459)  loss_classifier: 0.0810 (0.1047)  loss_box_reg: 0.0520 (0.0823)  loss_objectness: 0.0386 (0.0869)  loss_rpn_box_reg: 0.0081 (0.0719)  time: 0.2127  data: 0.0072  max mem: 4734\n",
            "Epoch: [6]  [1200/4439]  eta: 0:11:27  lr: 0.000010  loss: 0.1907 (0.3389)  loss_classifier: 0.0644 (0.1038)  loss_box_reg: 0.0586 (0.0813)  loss_objectness: 0.0454 (0.0855)  loss_rpn_box_reg: 0.0105 (0.0682)  time: 0.2140  data: 0.0066  max mem: 4734\n",
            "Epoch: [6]  [1300/4439]  eta: 0:11:06  lr: 0.000010  loss: 0.2323 (0.3374)  loss_classifier: 0.1017 (0.1051)  loss_box_reg: 0.0551 (0.0824)  loss_objectness: 0.0644 (0.0849)  loss_rpn_box_reg: 0.0165 (0.0651)  time: 0.2040  data: 0.0067  max mem: 4734\n",
            "Epoch: [6]  [1400/4439]  eta: 0:10:45  lr: 0.000010  loss: 0.1789 (0.3330)  loss_classifier: 0.0654 (0.1047)  loss_box_reg: 0.0592 (0.0817)  loss_objectness: 0.0395 (0.0842)  loss_rpn_box_reg: 0.0158 (0.0624)  time: 0.2158  data: 0.0064  max mem: 4734\n",
            "Epoch: [6]  [1500/4439]  eta: 0:10:25  lr: 0.000010  loss: 0.1970 (0.3465)  loss_classifier: 0.0850 (0.1044)  loss_box_reg: 0.0534 (0.0812)  loss_objectness: 0.0365 (0.0852)  loss_rpn_box_reg: 0.0137 (0.0756)  time: 0.2086  data: 0.0077  max mem: 4734\n",
            "Epoch: [6]  [1600/4439]  eta: 0:10:03  lr: 0.000010  loss: 0.1780 (0.3516)  loss_classifier: 0.0723 (0.1048)  loss_box_reg: 0.0556 (0.0818)  loss_objectness: 0.0376 (0.0861)  loss_rpn_box_reg: 0.0116 (0.0790)  time: 0.2123  data: 0.0069  max mem: 4734\n",
            "Epoch: [6]  [1700/4439]  eta: 0:09:43  lr: 0.000010  loss: 0.3260 (0.3473)  loss_classifier: 0.1143 (0.1044)  loss_box_reg: 0.1082 (0.0815)  loss_objectness: 0.0617 (0.0853)  loss_rpn_box_reg: 0.0243 (0.0760)  time: 0.2236  data: 0.0066  max mem: 4734\n",
            "Epoch: [6]  [1800/4439]  eta: 0:09:22  lr: 0.000010  loss: 0.2266 (0.3439)  loss_classifier: 0.0798 (0.1044)  loss_box_reg: 0.0587 (0.0812)  loss_objectness: 0.0426 (0.0851)  loss_rpn_box_reg: 0.0154 (0.0732)  time: 0.2166  data: 0.0073  max mem: 4734\n",
            "Epoch: [6]  [1900/4439]  eta: 0:09:00  lr: 0.000010  loss: 0.1729 (0.3390)  loss_classifier: 0.0608 (0.1038)  loss_box_reg: 0.0324 (0.0807)  loss_objectness: 0.0484 (0.0837)  loss_rpn_box_reg: 0.0119 (0.0707)  time: 0.2143  data: 0.0069  max mem: 4734\n",
            "Epoch: [6]  [2000/4439]  eta: 0:08:39  lr: 0.000010  loss: 0.1996 (0.3358)  loss_classifier: 0.0749 (0.1033)  loss_box_reg: 0.0700 (0.0802)  loss_objectness: 0.0401 (0.0837)  loss_rpn_box_reg: 0.0175 (0.0687)  time: 0.2185  data: 0.0071  max mem: 4734\n",
            "Epoch: [6]  [2100/4439]  eta: 0:08:17  lr: 0.000010  loss: 0.2541 (0.3344)  loss_classifier: 0.0895 (0.1038)  loss_box_reg: 0.0853 (0.0809)  loss_objectness: 0.0389 (0.0830)  loss_rpn_box_reg: 0.0121 (0.0668)  time: 0.2061  data: 0.0072  max mem: 4734\n",
            "Epoch: [6]  [2200/4439]  eta: 0:07:56  lr: 0.000010  loss: 0.1679 (0.3301)  loss_classifier: 0.0670 (0.1031)  loss_box_reg: 0.0531 (0.0803)  loss_objectness: 0.0444 (0.0820)  loss_rpn_box_reg: 0.0086 (0.0647)  time: 0.2075  data: 0.0075  max mem: 4734\n",
            "Epoch: [6]  [2300/4439]  eta: 0:07:35  lr: 0.000010  loss: 0.2216 (0.3354)  loss_classifier: 0.0878 (0.1039)  loss_box_reg: 0.0733 (0.0809)  loss_objectness: 0.0399 (0.0834)  loss_rpn_box_reg: 0.0176 (0.0672)  time: 0.2110  data: 0.0073  max mem: 4734\n",
            "Epoch: [6]  [2400/4439]  eta: 0:07:14  lr: 0.000010  loss: 0.2239 (0.3385)  loss_classifier: 0.0822 (0.1042)  loss_box_reg: 0.0774 (0.0813)  loss_objectness: 0.0393 (0.0838)  loss_rpn_box_reg: 0.0140 (0.0693)  time: 0.2176  data: 0.0066  max mem: 4734\n",
            "Epoch: [6]  [2500/4439]  eta: 0:06:53  lr: 0.000010  loss: 0.2211 (0.3365)  loss_classifier: 0.0884 (0.1041)  loss_box_reg: 0.0418 (0.0813)  loss_objectness: 0.0404 (0.0836)  loss_rpn_box_reg: 0.0126 (0.0676)  time: 0.2320  data: 0.0071  max mem: 4734\n",
            "Epoch: [6]  [2600/4439]  eta: 0:06:32  lr: 0.000010  loss: 0.2009 (0.3336)  loss_classifier: 0.0678 (0.1037)  loss_box_reg: 0.0596 (0.0809)  loss_objectness: 0.0403 (0.0831)  loss_rpn_box_reg: 0.0196 (0.0660)  time: 0.2077  data: 0.0075  max mem: 4734\n",
            "Epoch: [6]  [2700/4439]  eta: 0:06:10  lr: 0.000010  loss: 0.2140 (0.3332)  loss_classifier: 0.0732 (0.1041)  loss_box_reg: 0.0553 (0.0811)  loss_objectness: 0.0435 (0.0833)  loss_rpn_box_reg: 0.0151 (0.0647)  time: 0.2072  data: 0.0072  max mem: 4734\n",
            "Epoch: [6]  [2800/4439]  eta: 0:05:49  lr: 0.000010  loss: 0.2054 (0.3371)  loss_classifier: 0.0831 (0.1043)  loss_box_reg: 0.0584 (0.0812)  loss_objectness: 0.0620 (0.0838)  loss_rpn_box_reg: 0.0185 (0.0677)  time: 0.2109  data: 0.0064  max mem: 4734\n",
            "Epoch: [6]  [2900/4439]  eta: 0:05:28  lr: 0.000010  loss: 0.2407 (0.3407)  loss_classifier: 0.0720 (0.1041)  loss_box_reg: 0.0566 (0.0811)  loss_objectness: 0.0491 (0.0841)  loss_rpn_box_reg: 0.0228 (0.0715)  time: 0.2148  data: 0.0066  max mem: 4734\n",
            "Epoch: [6]  [3000/4439]  eta: 0:05:06  lr: 0.000010  loss: 0.2501 (0.3382)  loss_classifier: 0.0897 (0.1041)  loss_box_reg: 0.0617 (0.0810)  loss_objectness: 0.0476 (0.0833)  loss_rpn_box_reg: 0.0132 (0.0698)  time: 0.2081  data: 0.0069  max mem: 4734\n",
            "Epoch: [6]  [3100/4439]  eta: 0:04:45  lr: 0.000010  loss: 0.2642 (0.3366)  loss_classifier: 0.1044 (0.1041)  loss_box_reg: 0.0742 (0.0811)  loss_objectness: 0.0608 (0.0830)  loss_rpn_box_reg: 0.0169 (0.0683)  time: 0.2173  data: 0.0076  max mem: 4734\n",
            "Epoch: [6]  [3200/4439]  eta: 0:04:23  lr: 0.000010  loss: 0.2207 (0.3346)  loss_classifier: 0.0793 (0.1039)  loss_box_reg: 0.0563 (0.0808)  loss_objectness: 0.0437 (0.0829)  loss_rpn_box_reg: 0.0105 (0.0670)  time: 0.2034  data: 0.0074  max mem: 4734\n",
            "Epoch: [6]  [3300/4439]  eta: 0:04:02  lr: 0.000010  loss: 0.2442 (0.3337)  loss_classifier: 0.0909 (0.1040)  loss_box_reg: 0.0642 (0.0808)  loss_objectness: 0.0548 (0.0832)  loss_rpn_box_reg: 0.0178 (0.0658)  time: 0.2052  data: 0.0065  max mem: 4734\n",
            "Epoch: [6]  [3400/4439]  eta: 0:03:41  lr: 0.000010  loss: 0.2830 (0.3370)  loss_classifier: 0.0744 (0.1042)  loss_box_reg: 0.0498 (0.0810)  loss_objectness: 0.0564 (0.0837)  loss_rpn_box_reg: 0.0172 (0.0681)  time: 0.2103  data: 0.0073  max mem: 4734\n",
            "Epoch: [6]  [3500/4439]  eta: 0:03:19  lr: 0.000010  loss: 0.2014 (0.3347)  loss_classifier: 0.0663 (0.1038)  loss_box_reg: 0.0406 (0.0808)  loss_objectness: 0.0475 (0.0833)  loss_rpn_box_reg: 0.0172 (0.0667)  time: 0.2122  data: 0.0069  max mem: 4734\n",
            "Epoch: [6]  [3600/4439]  eta: 0:02:58  lr: 0.000010  loss: 0.2762 (0.3342)  loss_classifier: 0.0931 (0.1040)  loss_box_reg: 0.0662 (0.0810)  loss_objectness: 0.0561 (0.0835)  loss_rpn_box_reg: 0.0142 (0.0658)  time: 0.2105  data: 0.0071  max mem: 4734\n",
            "Epoch: [6]  [3700/4439]  eta: 0:02:37  lr: 0.000010  loss: 0.2261 (0.3333)  loss_classifier: 0.0887 (0.1040)  loss_box_reg: 0.0802 (0.0809)  loss_objectness: 0.0382 (0.0836)  loss_rpn_box_reg: 0.0148 (0.0648)  time: 0.2125  data: 0.0096  max mem: 4734\n",
            "Epoch: [6]  [3800/4439]  eta: 0:02:16  lr: 0.000010  loss: 0.1968 (0.3350)  loss_classifier: 0.0837 (0.1040)  loss_box_reg: 0.0635 (0.0809)  loss_objectness: 0.0356 (0.0837)  loss_rpn_box_reg: 0.0122 (0.0665)  time: 0.2164  data: 0.0071  max mem: 4734\n",
            "Epoch: [6]  [3900/4439]  eta: 0:01:54  lr: 0.000010  loss: 0.2198 (0.3339)  loss_classifier: 0.0789 (0.1038)  loss_box_reg: 0.0555 (0.0807)  loss_objectness: 0.0477 (0.0835)  loss_rpn_box_reg: 0.0150 (0.0659)  time: 0.2205  data: 0.0071  max mem: 4734\n",
            "Epoch: [6]  [4000/4439]  eta: 0:01:33  lr: 0.000010  loss: 0.2349 (0.3334)  loss_classifier: 0.0906 (0.1040)  loss_box_reg: 0.0780 (0.0810)  loss_objectness: 0.0461 (0.0834)  loss_rpn_box_reg: 0.0194 (0.0650)  time: 0.2152  data: 0.0071  max mem: 4734\n",
            "Epoch: [6]  [4100/4439]  eta: 0:01:12  lr: 0.000010  loss: 0.2138 (0.3331)  loss_classifier: 0.0805 (0.1041)  loss_box_reg: 0.0544 (0.0811)  loss_objectness: 0.0466 (0.0838)  loss_rpn_box_reg: 0.0130 (0.0641)  time: 0.2096  data: 0.0070  max mem: 4734\n",
            "Epoch: [6]  [4200/4439]  eta: 0:00:50  lr: 0.000010  loss: 0.2440 (0.3408)  loss_classifier: 0.0761 (0.1044)  loss_box_reg: 0.0715 (0.0813)  loss_objectness: 0.0446 (0.0840)  loss_rpn_box_reg: 0.0163 (0.0712)  time: 0.2097  data: 0.0063  max mem: 4734\n",
            "Epoch: [6]  [4300/4439]  eta: 0:00:29  lr: 0.000010  loss: 0.2824 (0.3427)  loss_classifier: 0.1001 (0.1046)  loss_box_reg: 0.0649 (0.0814)  loss_objectness: 0.0507 (0.0850)  loss_rpn_box_reg: 0.0182 (0.0717)  time: 0.2140  data: 0.0071  max mem: 4734\n",
            "Epoch: [6]  [4400/4439]  eta: 0:00:08  lr: 0.000010  loss: 0.2171 (0.3436)  loss_classifier: 0.0688 (0.1047)  loss_box_reg: 0.0722 (0.0816)  loss_objectness: 0.0439 (0.0851)  loss_rpn_box_reg: 0.0114 (0.0722)  time: 0.2231  data: 0.0072  max mem: 4734\n",
            "Epoch: [6]  [4438/4439]  eta: 0:00:00  lr: 0.000010  loss: 0.3132 (0.3431)  loss_classifier: 0.1168 (0.1047)  loss_box_reg: 0.0963 (0.0817)  loss_objectness: 0.0567 (0.0849)  loss_rpn_box_reg: 0.0260 (0.0718)  time: 0.2044  data: 0.0078  max mem: 4734\n",
            "Epoch: [6] Total time: 0:15:45 (0.2131 s / it)\n",
            "creating index...\n",
            "index created!\n",
            "Test:  [   0/2220]  eta: 0:13:30  model_time: 0.0699 (0.0699)  evaluator_time: 0.0163 (0.0163)  time: 0.3651  data: 0.2747  max mem: 4734\n",
            "Test:  [ 100/2220]  eta: 0:02:14  model_time: 0.0436 (0.0449)  evaluator_time: 0.0074 (0.0092)  time: 0.0596  data: 0.0039  max mem: 4734\n",
            "Test:  [ 200/2220]  eta: 0:02:03  model_time: 0.0451 (0.0449)  evaluator_time: 0.0074 (0.0085)  time: 0.0590  data: 0.0038  max mem: 4734\n",
            "Test:  [ 300/2220]  eta: 0:01:56  model_time: 0.0451 (0.0447)  evaluator_time: 0.0075 (0.0086)  time: 0.0607  data: 0.0037  max mem: 4734\n",
            "Test:  [ 400/2220]  eta: 0:01:50  model_time: 0.0453 (0.0449)  evaluator_time: 0.0070 (0.0084)  time: 0.0605  data: 0.0036  max mem: 4734\n",
            "Test:  [ 500/2220]  eta: 0:01:43  model_time: 0.0449 (0.0449)  evaluator_time: 0.0073 (0.0083)  time: 0.0589  data: 0.0037  max mem: 4734\n",
            "Test:  [ 600/2220]  eta: 0:01:37  model_time: 0.0448 (0.0448)  evaluator_time: 0.0073 (0.0083)  time: 0.0585  data: 0.0036  max mem: 4734\n",
            "Test:  [ 700/2220]  eta: 0:01:31  model_time: 0.0456 (0.0448)  evaluator_time: 0.0075 (0.0083)  time: 0.0606  data: 0.0036  max mem: 4734\n",
            "Test:  [ 800/2220]  eta: 0:01:25  model_time: 0.0446 (0.0448)  evaluator_time: 0.0074 (0.0082)  time: 0.0601  data: 0.0037  max mem: 4734\n",
            "Test:  [ 900/2220]  eta: 0:01:19  model_time: 0.0452 (0.0447)  evaluator_time: 0.0069 (0.0082)  time: 0.0584  data: 0.0034  max mem: 4734\n",
            "Test:  [1000/2220]  eta: 0:01:13  model_time: 0.0450 (0.0447)  evaluator_time: 0.0069 (0.0082)  time: 0.0582  data: 0.0035  max mem: 4734\n",
            "Test:  [1100/2220]  eta: 0:01:07  model_time: 0.0447 (0.0446)  evaluator_time: 0.0068 (0.0083)  time: 0.0575  data: 0.0036  max mem: 4734\n",
            "Test:  [1200/2220]  eta: 0:01:01  model_time: 0.0444 (0.0446)  evaluator_time: 0.0073 (0.0083)  time: 0.0583  data: 0.0037  max mem: 4734\n",
            "Test:  [1300/2220]  eta: 0:00:55  model_time: 0.0450 (0.0446)  evaluator_time: 0.0072 (0.0082)  time: 0.0597  data: 0.0041  max mem: 4734\n",
            "Test:  [1400/2220]  eta: 0:00:49  model_time: 0.0451 (0.0447)  evaluator_time: 0.0077 (0.0082)  time: 0.0603  data: 0.0039  max mem: 4734\n",
            "Test:  [1500/2220]  eta: 0:00:43  model_time: 0.0444 (0.0447)  evaluator_time: 0.0074 (0.0082)  time: 0.0582  data: 0.0037  max mem: 4734\n",
            "Test:  [1600/2220]  eta: 0:00:37  model_time: 0.0451 (0.0447)  evaluator_time: 0.0071 (0.0082)  time: 0.0611  data: 0.0042  max mem: 4734\n",
            "Test:  [1700/2220]  eta: 0:00:31  model_time: 0.0452 (0.0447)  evaluator_time: 0.0075 (0.0082)  time: 0.0605  data: 0.0042  max mem: 4734\n",
            "Test:  [1800/2220]  eta: 0:00:25  model_time: 0.0443 (0.0447)  evaluator_time: 0.0075 (0.0082)  time: 0.0601  data: 0.0040  max mem: 4734\n",
            "Test:  [1900/2220]  eta: 0:00:19  model_time: 0.0453 (0.0447)  evaluator_time: 0.0073 (0.0082)  time: 0.0597  data: 0.0038  max mem: 4734\n",
            "Test:  [2000/2220]  eta: 0:00:13  model_time: 0.0454 (0.0447)  evaluator_time: 0.0070 (0.0082)  time: 0.0598  data: 0.0043  max mem: 4734\n",
            "Test:  [2100/2220]  eta: 0:00:07  model_time: 0.0457 (0.0447)  evaluator_time: 0.0073 (0.0082)  time: 0.0598  data: 0.0040  max mem: 4734\n",
            "Test:  [2200/2220]  eta: 0:00:01  model_time: 0.0451 (0.0447)  evaluator_time: 0.0074 (0.0082)  time: 0.0594  data: 0.0041  max mem: 4734\n",
            "Test:  [2219/2220]  eta: 0:00:00  model_time: 0.0448 (0.0447)  evaluator_time: 0.0070 (0.0082)  time: 0.0621  data: 0.0040  max mem: 4734\n",
            "Test: Total time: 0:02:13 (0.0601 s / it)\n",
            "Averaged stats: model_time: 0.0448 (0.0447)  evaluator_time: 0.0070 (0.0082)\n",
            "Accumulating evaluation results...\n",
            "DONE (t=0.80s).\n",
            "IoU metric: bbox\n",
            " Average Precision  (AP) @[ IoU=0.50:0.95 | area=   all | maxDets=100 ] = 0.076\n",
            " Average Precision  (AP) @[ IoU=0.50      | area=   all | maxDets=100 ] = 0.166\n",
            " Average Precision  (AP) @[ IoU=0.75      | area=   all | maxDets=100 ] = 0.055\n",
            " Average Precision  (AP) @[ IoU=0.50:0.95 | area= small | maxDets=100 ] = 0.020\n",
            " Average Precision  (AP) @[ IoU=0.50:0.95 | area=medium | maxDets=100 ] = 0.064\n",
            " Average Precision  (AP) @[ IoU=0.50:0.95 | area= large | maxDets=100 ] = 0.115\n",
            " Average Recall     (AR) @[ IoU=0.50:0.95 | area=   all | maxDets=  1 ] = 0.083\n",
            " Average Recall     (AR) @[ IoU=0.50:0.95 | area=   all | maxDets= 10 ] = 0.198\n",
            " Average Recall     (AR) @[ IoU=0.50:0.95 | area=   all | maxDets=100 ] = 0.225\n",
            " Average Recall     (AR) @[ IoU=0.50:0.95 | area= small | maxDets=100 ] = 0.100\n",
            " Average Recall     (AR) @[ IoU=0.50:0.95 | area=medium | maxDets=100 ] = 0.200\n",
            " Average Recall     (AR) @[ IoU=0.50:0.95 | area= large | maxDets=100 ] = 0.306\n",
            "Epoch: [7]  [   0/4439]  eta: 0:45:43  lr: 0.000010  loss: 0.1562 (0.1562)  loss_classifier: 0.0470 (0.0470)  loss_box_reg: 0.0326 (0.0326)  loss_objectness: 0.0275 (0.0275)  loss_rpn_box_reg: 0.0492 (0.0492)  time: 0.6180  data: 0.3664  max mem: 4734\n",
            "Epoch: [7]  [ 100/4439]  eta: 0:15:27  lr: 0.000010  loss: 0.2268 (0.2746)  loss_classifier: 0.0765 (0.0985)  loss_box_reg: 0.0422 (0.0816)  loss_objectness: 0.0462 (0.0692)  loss_rpn_box_reg: 0.0130 (0.0254)  time: 0.2120  data: 0.0064  max mem: 4734\n",
            "Epoch: [7]  [ 200/4439]  eta: 0:15:02  lr: 0.000010  loss: 0.2207 (0.2646)  loss_classifier: 0.0832 (0.0919)  loss_box_reg: 0.0592 (0.0746)  loss_objectness: 0.0422 (0.0707)  loss_rpn_box_reg: 0.0153 (0.0274)  time: 0.2248  data: 0.0064  max mem: 4734\n",
            "Epoch: [7]  [ 300/4439]  eta: 0:14:39  lr: 0.000010  loss: 0.2386 (0.2732)  loss_classifier: 0.0845 (0.0934)  loss_box_reg: 0.0595 (0.0728)  loss_objectness: 0.0411 (0.0779)  loss_rpn_box_reg: 0.0199 (0.0290)  time: 0.2141  data: 0.0067  max mem: 4734\n",
            "Epoch: [7]  [ 400/4439]  eta: 0:14:17  lr: 0.000010  loss: 0.2219 (0.2784)  loss_classifier: 0.0761 (0.0955)  loss_box_reg: 0.0595 (0.0748)  loss_objectness: 0.0621 (0.0786)  loss_rpn_box_reg: 0.0132 (0.0294)  time: 0.2068  data: 0.0062  max mem: 4734\n",
            "Epoch: [7]  [ 500/4439]  eta: 0:13:58  lr: 0.000010  loss: 0.1757 (0.2862)  loss_classifier: 0.0699 (0.0992)  loss_box_reg: 0.0553 (0.0785)  loss_objectness: 0.0411 (0.0789)  loss_rpn_box_reg: 0.0080 (0.0297)  time: 0.2154  data: 0.0073  max mem: 4734\n",
            "Epoch: [7]  [ 600/4439]  eta: 0:13:36  lr: 0.000010  loss: 0.2896 (0.2896)  loss_classifier: 0.0896 (0.1010)  loss_box_reg: 0.0761 (0.0806)  loss_objectness: 0.0501 (0.0788)  loss_rpn_box_reg: 0.0213 (0.0293)  time: 0.2088  data: 0.0061  max mem: 4734\n",
            "Epoch: [7]  [ 700/4439]  eta: 0:13:14  lr: 0.000010  loss: 0.1943 (0.3076)  loss_classifier: 0.0983 (0.1012)  loss_box_reg: 0.0520 (0.0807)  loss_objectness: 0.0447 (0.0812)  loss_rpn_box_reg: 0.0117 (0.0444)  time: 0.2094  data: 0.0072  max mem: 4734\n",
            "Epoch: [7]  [ 800/4439]  eta: 0:12:52  lr: 0.000010  loss: 0.2470 (0.3036)  loss_classifier: 0.0840 (0.1010)  loss_box_reg: 0.0777 (0.0802)  loss_objectness: 0.0272 (0.0802)  loss_rpn_box_reg: 0.0150 (0.0421)  time: 0.2083  data: 0.0066  max mem: 4734\n",
            "Epoch: [7]  [ 900/4439]  eta: 0:12:31  lr: 0.000010  loss: 0.2713 (0.3075)  loss_classifier: 0.0922 (0.1028)  loss_box_reg: 0.0734 (0.0817)  loss_objectness: 0.0513 (0.0823)  loss_rpn_box_reg: 0.0125 (0.0406)  time: 0.2089  data: 0.0068  max mem: 4734\n",
            "Epoch: [7]  [1000/4439]  eta: 0:12:09  lr: 0.000010  loss: 0.2108 (0.3138)  loss_classifier: 0.0826 (0.1022)  loss_box_reg: 0.0545 (0.0809)  loss_objectness: 0.0417 (0.0836)  loss_rpn_box_reg: 0.0113 (0.0472)  time: 0.2061  data: 0.0075  max mem: 4734\n",
            "Epoch: [7]  [1100/4439]  eta: 0:11:48  lr: 0.000010  loss: 0.2330 (0.3094)  loss_classifier: 0.0842 (0.1015)  loss_box_reg: 0.0485 (0.0802)  loss_objectness: 0.0489 (0.0824)  loss_rpn_box_reg: 0.0132 (0.0452)  time: 0.2203  data: 0.0068  max mem: 4734\n",
            "Epoch: [7]  [1200/4439]  eta: 0:11:27  lr: 0.000010  loss: 0.2197 (0.3092)  loss_classifier: 0.0870 (0.1023)  loss_box_reg: 0.0745 (0.0814)  loss_objectness: 0.0342 (0.0814)  loss_rpn_box_reg: 0.0149 (0.0440)  time: 0.2234  data: 0.0063  max mem: 4734\n",
            "Epoch: [7]  [1300/4439]  eta: 0:11:05  lr: 0.000010  loss: 0.2415 (0.3092)  loss_classifier: 0.0921 (0.1025)  loss_box_reg: 0.0628 (0.0812)  loss_objectness: 0.0477 (0.0819)  loss_rpn_box_reg: 0.0105 (0.0435)  time: 0.2050  data: 0.0072  max mem: 4734\n",
            "Epoch: [7]  [1400/4439]  eta: 0:10:43  lr: 0.000010  loss: 0.2314 (0.3080)  loss_classifier: 0.0909 (0.1025)  loss_box_reg: 0.0738 (0.0812)  loss_objectness: 0.0451 (0.0817)  loss_rpn_box_reg: 0.0179 (0.0427)  time: 0.2139  data: 0.0078  max mem: 4734\n",
            "Epoch: [7]  [1500/4439]  eta: 0:10:22  lr: 0.000010  loss: 0.1902 (0.3185)  loss_classifier: 0.0888 (0.1038)  loss_box_reg: 0.0559 (0.0826)  loss_objectness: 0.0414 (0.0820)  loss_rpn_box_reg: 0.0075 (0.0500)  time: 0.2109  data: 0.0074  max mem: 4734\n",
            "Epoch: [7]  [1600/4439]  eta: 0:10:02  lr: 0.000010  loss: 0.3141 (0.3184)  loss_classifier: 0.1107 (0.1043)  loss_box_reg: 0.0744 (0.0826)  loss_objectness: 0.0492 (0.0827)  loss_rpn_box_reg: 0.0116 (0.0488)  time: 0.2135  data: 0.0062  max mem: 4734\n",
            "Epoch: [7]  [1700/4439]  eta: 0:09:41  lr: 0.000010  loss: 0.2873 (0.3195)  loss_classifier: 0.1012 (0.1049)  loss_box_reg: 0.0673 (0.0826)  loss_objectness: 0.0501 (0.0837)  loss_rpn_box_reg: 0.0174 (0.0483)  time: 0.2095  data: 0.0062  max mem: 4734\n",
            "Epoch: [7]  [1800/4439]  eta: 0:09:19  lr: 0.000010  loss: 0.2219 (0.3369)  loss_classifier: 0.0850 (0.1041)  loss_box_reg: 0.0644 (0.0820)  loss_objectness: 0.0481 (0.0836)  loss_rpn_box_reg: 0.0154 (0.0672)  time: 0.2041  data: 0.0063  max mem: 4734\n",
            "Epoch: [7]  [1900/4439]  eta: 0:08:58  lr: 0.000010  loss: 0.2434 (0.3343)  loss_classifier: 0.0890 (0.1043)  loss_box_reg: 0.0552 (0.0819)  loss_objectness: 0.0521 (0.0831)  loss_rpn_box_reg: 0.0127 (0.0650)  time: 0.2077  data: 0.0073  max mem: 4734\n",
            "Epoch: [7]  [2000/4439]  eta: 0:08:38  lr: 0.000010  loss: 0.1882 (0.3321)  loss_classifier: 0.0748 (0.1043)  loss_box_reg: 0.0555 (0.0818)  loss_objectness: 0.0394 (0.0830)  loss_rpn_box_reg: 0.0096 (0.0630)  time: 0.2244  data: 0.0067  max mem: 4734\n",
            "Epoch: [7]  [2100/4439]  eta: 0:08:17  lr: 0.000010  loss: 0.2218 (0.3309)  loss_classifier: 0.0706 (0.1045)  loss_box_reg: 0.0493 (0.0819)  loss_objectness: 0.0538 (0.0833)  loss_rpn_box_reg: 0.0117 (0.0612)  time: 0.2264  data: 0.0070  max mem: 4734\n",
            "Epoch: [7]  [2200/4439]  eta: 0:07:55  lr: 0.000010  loss: 0.2086 (0.3341)  loss_classifier: 0.0812 (0.1049)  loss_box_reg: 0.0625 (0.0825)  loss_objectness: 0.0490 (0.0836)  loss_rpn_box_reg: 0.0179 (0.0631)  time: 0.2079  data: 0.0065  max mem: 4734\n",
            "Epoch: [7]  [2300/4439]  eta: 0:07:35  lr: 0.000010  loss: 0.2131 (0.3324)  loss_classifier: 0.0808 (0.1047)  loss_box_reg: 0.0636 (0.0824)  loss_objectness: 0.0447 (0.0836)  loss_rpn_box_reg: 0.0283 (0.0617)  time: 0.2172  data: 0.0075  max mem: 4734\n",
            "Epoch: [7]  [2400/4439]  eta: 0:07:13  lr: 0.000010  loss: 0.1865 (0.3303)  loss_classifier: 0.0715 (0.1044)  loss_box_reg: 0.0468 (0.0821)  loss_objectness: 0.0416 (0.0834)  loss_rpn_box_reg: 0.0101 (0.0604)  time: 0.2086  data: 0.0062  max mem: 4734\n",
            "Epoch: [7]  [2500/4439]  eta: 0:06:52  lr: 0.000010  loss: 0.2015 (0.3287)  loss_classifier: 0.0854 (0.1043)  loss_box_reg: 0.0491 (0.0816)  loss_objectness: 0.0410 (0.0837)  loss_rpn_box_reg: 0.0122 (0.0591)  time: 0.2061  data: 0.0068  max mem: 4734\n",
            "Epoch: [7]  [2600/4439]  eta: 0:06:31  lr: 0.000010  loss: 0.2169 (0.3326)  loss_classifier: 0.0934 (0.1044)  loss_box_reg: 0.0737 (0.0816)  loss_objectness: 0.0464 (0.0843)  loss_rpn_box_reg: 0.0129 (0.0623)  time: 0.2132  data: 0.0068  max mem: 4734\n",
            "Epoch: [7]  [2700/4439]  eta: 0:06:10  lr: 0.000010  loss: 0.2056 (0.3298)  loss_classifier: 0.0682 (0.1039)  loss_box_reg: 0.0440 (0.0814)  loss_objectness: 0.0513 (0.0837)  loss_rpn_box_reg: 0.0097 (0.0608)  time: 0.2212  data: 0.0070  max mem: 4734\n",
            "Epoch: [7]  [2800/4439]  eta: 0:05:48  lr: 0.000010  loss: 0.1673 (0.3284)  loss_classifier: 0.0687 (0.1041)  loss_box_reg: 0.0526 (0.0814)  loss_objectness: 0.0307 (0.0835)  loss_rpn_box_reg: 0.0121 (0.0595)  time: 0.2125  data: 0.0069  max mem: 4734\n",
            "Epoch: [7]  [2900/4439]  eta: 0:05:27  lr: 0.000010  loss: 0.3061 (0.3362)  loss_classifier: 0.0946 (0.1039)  loss_box_reg: 0.0748 (0.0813)  loss_objectness: 0.0655 (0.0846)  loss_rpn_box_reg: 0.0177 (0.0664)  time: 0.2094  data: 0.0081  max mem: 4734\n",
            "Epoch: [7]  [3000/4439]  eta: 0:05:06  lr: 0.000010  loss: 0.2009 (0.3344)  loss_classifier: 0.0724 (0.1038)  loss_box_reg: 0.0645 (0.0813)  loss_objectness: 0.0433 (0.0842)  loss_rpn_box_reg: 0.0129 (0.0651)  time: 0.2086  data: 0.0073  max mem: 4734\n",
            "Epoch: [7]  [3100/4439]  eta: 0:04:44  lr: 0.000010  loss: 0.2179 (0.3330)  loss_classifier: 0.0801 (0.1037)  loss_box_reg: 0.0497 (0.0812)  loss_objectness: 0.0448 (0.0843)  loss_rpn_box_reg: 0.0096 (0.0638)  time: 0.2106  data: 0.0070  max mem: 4734\n",
            "Epoch: [7]  [3200/4439]  eta: 0:04:23  lr: 0.000010  loss: 0.2411 (0.3313)  loss_classifier: 0.1057 (0.1038)  loss_box_reg: 0.0717 (0.0812)  loss_objectness: 0.0498 (0.0837)  loss_rpn_box_reg: 0.0127 (0.0626)  time: 0.2121  data: 0.0068  max mem: 4734\n",
            "Epoch: [7]  [3300/4439]  eta: 0:04:02  lr: 0.000010  loss: 0.2269 (0.3299)  loss_classifier: 0.0792 (0.1038)  loss_box_reg: 0.0762 (0.0814)  loss_objectness: 0.0364 (0.0834)  loss_rpn_box_reg: 0.0115 (0.0614)  time: 0.2131  data: 0.0069  max mem: 4734\n",
            "Epoch: [7]  [3400/4439]  eta: 0:03:40  lr: 0.000010  loss: 0.2055 (0.3292)  loss_classifier: 0.0936 (0.1042)  loss_box_reg: 0.0764 (0.0818)  loss_objectness: 0.0428 (0.0828)  loss_rpn_box_reg: 0.0102 (0.0604)  time: 0.2121  data: 0.0075  max mem: 4734\n",
            "Epoch: [7]  [3500/4439]  eta: 0:03:19  lr: 0.000010  loss: 0.2114 (0.3293)  loss_classifier: 0.0775 (0.1047)  loss_box_reg: 0.0658 (0.0823)  loss_objectness: 0.0387 (0.0828)  loss_rpn_box_reg: 0.0158 (0.0594)  time: 0.2146  data: 0.0070  max mem: 4739\n",
            "Epoch: [7]  [3600/4439]  eta: 0:02:58  lr: 0.000010  loss: 0.2114 (0.3290)  loss_classifier: 0.0919 (0.1048)  loss_box_reg: 0.0599 (0.0823)  loss_objectness: 0.0381 (0.0830)  loss_rpn_box_reg: 0.0164 (0.0589)  time: 0.2179  data: 0.0069  max mem: 4739\n",
            "Epoch: [7]  [3700/4439]  eta: 0:02:37  lr: 0.000010  loss: 0.2582 (0.3291)  loss_classifier: 0.0805 (0.1049)  loss_box_reg: 0.0706 (0.0823)  loss_objectness: 0.0410 (0.0837)  loss_rpn_box_reg: 0.0140 (0.0583)  time: 0.2193  data: 0.0075  max mem: 4739\n",
            "Epoch: [7]  [3800/4439]  eta: 0:02:15  lr: 0.000010  loss: 0.2707 (0.3284)  loss_classifier: 0.1092 (0.1050)  loss_box_reg: 0.0722 (0.0822)  loss_objectness: 0.0421 (0.0838)  loss_rpn_box_reg: 0.0128 (0.0575)  time: 0.2119  data: 0.0073  max mem: 4739\n",
            "Epoch: [7]  [3900/4439]  eta: 0:01:54  lr: 0.000010  loss: 0.1827 (0.3329)  loss_classifier: 0.0692 (0.1049)  loss_box_reg: 0.0439 (0.0821)  loss_objectness: 0.0428 (0.0842)  loss_rpn_box_reg: 0.0123 (0.0616)  time: 0.2140  data: 0.0070  max mem: 4739\n",
            "Epoch: [7]  [4000/4439]  eta: 0:01:33  lr: 0.000010  loss: 0.2149 (0.3326)  loss_classifier: 0.0875 (0.1051)  loss_box_reg: 0.0543 (0.0822)  loss_objectness: 0.0480 (0.0844)  loss_rpn_box_reg: 0.0133 (0.0610)  time: 0.2237  data: 0.0066  max mem: 4739\n",
            "Epoch: [7]  [4100/4439]  eta: 0:01:12  lr: 0.000010  loss: 0.1557 (0.3311)  loss_classifier: 0.0676 (0.1049)  loss_box_reg: 0.0418 (0.0819)  loss_objectness: 0.0395 (0.0841)  loss_rpn_box_reg: 0.0095 (0.0601)  time: 0.2143  data: 0.0064  max mem: 4739\n",
            "Epoch: [7]  [4200/4439]  eta: 0:00:50  lr: 0.000010  loss: 0.2135 (0.3300)  loss_classifier: 0.0559 (0.1046)  loss_box_reg: 0.0405 (0.0816)  loss_objectness: 0.0419 (0.0843)  loss_rpn_box_reg: 0.0110 (0.0596)  time: 0.2028  data: 0.0066  max mem: 4739\n",
            "Epoch: [7]  [4300/4439]  eta: 0:00:29  lr: 0.000010  loss: 0.1921 (0.3289)  loss_classifier: 0.0788 (0.1045)  loss_box_reg: 0.0698 (0.0816)  loss_objectness: 0.0382 (0.0840)  loss_rpn_box_reg: 0.0086 (0.0587)  time: 0.2157  data: 0.0072  max mem: 4739\n",
            "Epoch: [7]  [4400/4439]  eta: 0:00:08  lr: 0.000010  loss: 0.2569 (0.3279)  loss_classifier: 0.0631 (0.1045)  loss_box_reg: 0.0493 (0.0816)  loss_objectness: 0.0484 (0.0838)  loss_rpn_box_reg: 0.0132 (0.0580)  time: 0.2135  data: 0.0067  max mem: 4739\n",
            "Epoch: [7]  [4438/4439]  eta: 0:00:00  lr: 0.000010  loss: 0.2438 (0.3279)  loss_classifier: 0.0884 (0.1045)  loss_box_reg: 0.0630 (0.0816)  loss_objectness: 0.0747 (0.0839)  loss_rpn_box_reg: 0.0270 (0.0579)  time: 0.2078  data: 0.0063  max mem: 4739\n",
            "Epoch: [7] Total time: 0:15:43 (0.2127 s / it)\n",
            "creating index...\n",
            "index created!\n",
            "Test:  [   0/2220]  eta: 0:12:49  model_time: 0.0677 (0.0677)  evaluator_time: 0.0183 (0.0183)  time: 0.3467  data: 0.2577  max mem: 4739\n",
            "Test:  [ 100/2220]  eta: 0:02:13  model_time: 0.0440 (0.0449)  evaluator_time: 0.0076 (0.0089)  time: 0.0598  data: 0.0040  max mem: 4739\n",
            "Test:  [ 200/2220]  eta: 0:02:03  model_time: 0.0450 (0.0450)  evaluator_time: 0.0073 (0.0083)  time: 0.0592  data: 0.0040  max mem: 4739\n",
            "Test:  [ 300/2220]  eta: 0:01:56  model_time: 0.0446 (0.0447)  evaluator_time: 0.0071 (0.0084)  time: 0.0591  data: 0.0037  max mem: 4739\n",
            "Test:  [ 400/2220]  eta: 0:01:49  model_time: 0.0453 (0.0447)  evaluator_time: 0.0072 (0.0082)  time: 0.0603  data: 0.0038  max mem: 4739\n",
            "Test:  [ 500/2220]  eta: 0:01:43  model_time: 0.0449 (0.0447)  evaluator_time: 0.0071 (0.0081)  time: 0.0590  data: 0.0038  max mem: 4739\n",
            "Test:  [ 600/2220]  eta: 0:01:36  model_time: 0.0439 (0.0447)  evaluator_time: 0.0071 (0.0081)  time: 0.0580  data: 0.0036  max mem: 4739\n",
            "Test:  [ 700/2220]  eta: 0:01:30  model_time: 0.0449 (0.0446)  evaluator_time: 0.0073 (0.0081)  time: 0.0594  data: 0.0038  max mem: 4739\n",
            "Test:  [ 800/2220]  eta: 0:01:24  model_time: 0.0443 (0.0446)  evaluator_time: 0.0072 (0.0080)  time: 0.0590  data: 0.0037  max mem: 4739\n",
            "Test:  [ 900/2220]  eta: 0:01:19  model_time: 0.0450 (0.0446)  evaluator_time: 0.0071 (0.0080)  time: 0.0587  data: 0.0036  max mem: 4739\n",
            "Test:  [1000/2220]  eta: 0:01:13  model_time: 0.0451 (0.0446)  evaluator_time: 0.0070 (0.0080)  time: 0.0587  data: 0.0039  max mem: 4739\n",
            "Test:  [1100/2220]  eta: 0:01:07  model_time: 0.0451 (0.0445)  evaluator_time: 0.0069 (0.0081)  time: 0.0583  data: 0.0038  max mem: 4739\n",
            "Test:  [1200/2220]  eta: 0:01:01  model_time: 0.0446 (0.0446)  evaluator_time: 0.0070 (0.0081)  time: 0.0584  data: 0.0036  max mem: 4739\n",
            "Test:  [1300/2220]  eta: 0:00:55  model_time: 0.0450 (0.0446)  evaluator_time: 0.0071 (0.0080)  time: 0.0590  data: 0.0039  max mem: 4739\n",
            "Test:  [1400/2220]  eta: 0:00:49  model_time: 0.0449 (0.0446)  evaluator_time: 0.0074 (0.0080)  time: 0.0594  data: 0.0038  max mem: 4739\n",
            "Test:  [1500/2220]  eta: 0:00:43  model_time: 0.0444 (0.0446)  evaluator_time: 0.0074 (0.0080)  time: 0.0579  data: 0.0039  max mem: 4739\n",
            "Test:  [1600/2220]  eta: 0:00:37  model_time: 0.0445 (0.0446)  evaluator_time: 0.0071 (0.0080)  time: 0.0605  data: 0.0039  max mem: 4739\n",
            "Test:  [1700/2220]  eta: 0:00:31  model_time: 0.0452 (0.0446)  evaluator_time: 0.0075 (0.0080)  time: 0.0601  data: 0.0041  max mem: 4739\n",
            "Test:  [1800/2220]  eta: 0:00:25  model_time: 0.0449 (0.0446)  evaluator_time: 0.0072 (0.0080)  time: 0.0596  data: 0.0038  max mem: 4739\n",
            "Test:  [1900/2220]  eta: 0:00:19  model_time: 0.0449 (0.0446)  evaluator_time: 0.0069 (0.0080)  time: 0.0585  data: 0.0035  max mem: 4739\n",
            "Test:  [2000/2220]  eta: 0:00:13  model_time: 0.0442 (0.0446)  evaluator_time: 0.0068 (0.0080)  time: 0.0589  data: 0.0037  max mem: 4739\n",
            "Test:  [2100/2220]  eta: 0:00:07  model_time: 0.0445 (0.0446)  evaluator_time: 0.0070 (0.0080)  time: 0.0583  data: 0.0039  max mem: 4739\n",
            "Test:  [2200/2220]  eta: 0:00:01  model_time: 0.0451 (0.0445)  evaluator_time: 0.0074 (0.0080)  time: 0.0590  data: 0.0039  max mem: 4739\n",
            "Test:  [2219/2220]  eta: 0:00:00  model_time: 0.0429 (0.0445)  evaluator_time: 0.0066 (0.0080)  time: 0.0604  data: 0.0036  max mem: 4739\n",
            "Test: Total time: 0:02:12 (0.0596 s / it)\n",
            "Averaged stats: model_time: 0.0429 (0.0445)  evaluator_time: 0.0066 (0.0080)\n",
            "Accumulating evaluation results...\n",
            "DONE (t=0.76s).\n",
            "IoU metric: bbox\n",
            " Average Precision  (AP) @[ IoU=0.50:0.95 | area=   all | maxDets=100 ] = 0.075\n",
            " Average Precision  (AP) @[ IoU=0.50      | area=   all | maxDets=100 ] = 0.165\n",
            " Average Precision  (AP) @[ IoU=0.75      | area=   all | maxDets=100 ] = 0.055\n",
            " Average Precision  (AP) @[ IoU=0.50:0.95 | area= small | maxDets=100 ] = 0.020\n",
            " Average Precision  (AP) @[ IoU=0.50:0.95 | area=medium | maxDets=100 ] = 0.065\n",
            " Average Precision  (AP) @[ IoU=0.50:0.95 | area= large | maxDets=100 ] = 0.114\n",
            " Average Recall     (AR) @[ IoU=0.50:0.95 | area=   all | maxDets=  1 ] = 0.082\n",
            " Average Recall     (AR) @[ IoU=0.50:0.95 | area=   all | maxDets= 10 ] = 0.198\n",
            " Average Recall     (AR) @[ IoU=0.50:0.95 | area=   all | maxDets=100 ] = 0.224\n",
            " Average Recall     (AR) @[ IoU=0.50:0.95 | area= small | maxDets=100 ] = 0.098\n",
            " Average Recall     (AR) @[ IoU=0.50:0.95 | area=medium | maxDets=100 ] = 0.199\n",
            " Average Recall     (AR) @[ IoU=0.50:0.95 | area= large | maxDets=100 ] = 0.303\n",
            "Epoch: [8]  [   0/4439]  eta: 0:42:34  lr: 0.000010  loss: 0.4245 (0.4245)  loss_classifier: 0.1860 (0.1860)  loss_box_reg: 0.1851 (0.1851)  loss_objectness: 0.0414 (0.0414)  loss_rpn_box_reg: 0.0121 (0.0121)  time: 0.5755  data: 0.3482  max mem: 4739\n",
            "Epoch: [8]  [ 100/4439]  eta: 0:15:24  lr: 0.000010  loss: 0.2029 (0.3102)  loss_classifier: 0.0731 (0.1136)  loss_box_reg: 0.0537 (0.0899)  loss_objectness: 0.0465 (0.0775)  loss_rpn_box_reg: 0.0149 (0.0291)  time: 0.2145  data: 0.0064  max mem: 4739\n",
            "Epoch: [8]  [ 200/4439]  eta: 0:14:54  lr: 0.000010  loss: 0.2759 (0.3031)  loss_classifier: 0.0975 (0.1092)  loss_box_reg: 0.0860 (0.0875)  loss_objectness: 0.0363 (0.0781)  loss_rpn_box_reg: 0.0161 (0.0284)  time: 0.2068  data: 0.0072  max mem: 4739\n",
            "Epoch: [8]  [ 300/4439]  eta: 0:14:40  lr: 0.000010  loss: 0.2087 (0.2994)  loss_classifier: 0.0633 (0.1080)  loss_box_reg: 0.0511 (0.0871)  loss_objectness: 0.0467 (0.0768)  loss_rpn_box_reg: 0.0119 (0.0275)  time: 0.2096  data: 0.0066  max mem: 4739\n",
            "Epoch: [8]  [ 400/4439]  eta: 0:14:22  lr: 0.000010  loss: 0.2023 (0.3312)  loss_classifier: 0.0779 (0.1074)  loss_box_reg: 0.0722 (0.0852)  loss_objectness: 0.0505 (0.0831)  loss_rpn_box_reg: 0.0153 (0.0555)  time: 0.2207  data: 0.0068  max mem: 4739\n",
            "Epoch: [8]  [ 500/4439]  eta: 0:13:59  lr: 0.000010  loss: 0.2126 (0.3380)  loss_classifier: 0.0688 (0.1054)  loss_box_reg: 0.0554 (0.0829)  loss_objectness: 0.0469 (0.0843)  loss_rpn_box_reg: 0.0170 (0.0653)  time: 0.2104  data: 0.0067  max mem: 4739\n",
            "Epoch: [8]  [ 600/4439]  eta: 0:13:37  lr: 0.000010  loss: 0.1997 (0.3336)  loss_classifier: 0.0748 (0.1057)  loss_box_reg: 0.0481 (0.0826)  loss_objectness: 0.0506 (0.0844)  loss_rpn_box_reg: 0.0165 (0.0608)  time: 0.2074  data: 0.0068  max mem: 4739\n",
            "Epoch: [8]  [ 700/4439]  eta: 0:13:15  lr: 0.000010  loss: 0.2076 (0.3270)  loss_classifier: 0.0828 (0.1058)  loss_box_reg: 0.0498 (0.0821)  loss_objectness: 0.0448 (0.0830)  loss_rpn_box_reg: 0.0148 (0.0562)  time: 0.2094  data: 0.0075  max mem: 4739\n",
            "Epoch: [8]  [ 800/4439]  eta: 0:12:53  lr: 0.000010  loss: 0.2415 (0.3219)  loss_classifier: 0.0927 (0.1058)  loss_box_reg: 0.0730 (0.0826)  loss_objectness: 0.0391 (0.0806)  loss_rpn_box_reg: 0.0159 (0.0530)  time: 0.2156  data: 0.0069  max mem: 4739\n",
            "Epoch: [8]  [ 900/4439]  eta: 0:12:32  lr: 0.000010  loss: 0.1869 (0.3461)  loss_classifier: 0.0788 (0.1063)  loss_box_reg: 0.0531 (0.0828)  loss_objectness: 0.0330 (0.0820)  loss_rpn_box_reg: 0.0074 (0.0750)  time: 0.2107  data: 0.0072  max mem: 4739\n",
            "Epoch: [8]  [1000/4439]  eta: 0:12:10  lr: 0.000010  loss: 0.2021 (0.3369)  loss_classifier: 0.0904 (0.1043)  loss_box_reg: 0.0549 (0.0814)  loss_objectness: 0.0505 (0.0814)  loss_rpn_box_reg: 0.0238 (0.0698)  time: 0.2100  data: 0.0068  max mem: 4739\n",
            "Epoch: [8]  [1100/4439]  eta: 0:11:48  lr: 0.000010  loss: 0.1836 (0.3347)  loss_classifier: 0.0770 (0.1048)  loss_box_reg: 0.0490 (0.0817)  loss_objectness: 0.0366 (0.0816)  loss_rpn_box_reg: 0.0095 (0.0665)  time: 0.2047  data: 0.0072  max mem: 4739\n",
            "Epoch: [8]  [1200/4439]  eta: 0:11:27  lr: 0.000010  loss: 0.1815 (0.3288)  loss_classifier: 0.0823 (0.1041)  loss_box_reg: 0.0542 (0.0813)  loss_objectness: 0.0497 (0.0804)  loss_rpn_box_reg: 0.0100 (0.0630)  time: 0.2051  data: 0.0065  max mem: 4739\n",
            "Epoch: [8]  [1300/4439]  eta: 0:11:05  lr: 0.000010  loss: 0.1652 (0.3264)  loss_classifier: 0.0625 (0.1037)  loss_box_reg: 0.0468 (0.0805)  loss_objectness: 0.0449 (0.0817)  loss_rpn_box_reg: 0.0092 (0.0606)  time: 0.2053  data: 0.0072  max mem: 4739\n",
            "Epoch: [8]  [1400/4439]  eta: 0:10:44  lr: 0.000010  loss: 0.2232 (0.3476)  loss_classifier: 0.0722 (0.1038)  loss_box_reg: 0.0602 (0.0811)  loss_objectness: 0.0422 (0.0823)  loss_rpn_box_reg: 0.0187 (0.0804)  time: 0.2100  data: 0.0063  max mem: 4739\n",
            "Epoch: [8]  [1500/4439]  eta: 0:10:23  lr: 0.000010  loss: 0.2348 (0.3410)  loss_classifier: 0.0833 (0.1027)  loss_box_reg: 0.0572 (0.0805)  loss_objectness: 0.0438 (0.0810)  loss_rpn_box_reg: 0.0112 (0.0768)  time: 0.2221  data: 0.0070  max mem: 4739\n",
            "Epoch: [8]  [1600/4439]  eta: 0:10:02  lr: 0.000010  loss: 0.1791 (0.3386)  loss_classifier: 0.0702 (0.1029)  loss_box_reg: 0.0469 (0.0806)  loss_objectness: 0.0329 (0.0812)  loss_rpn_box_reg: 0.0070 (0.0739)  time: 0.2132  data: 0.0068  max mem: 4739\n",
            "Epoch: [8]  [1700/4439]  eta: 0:09:41  lr: 0.000010  loss: 0.1933 (0.3449)  loss_classifier: 0.0763 (0.1030)  loss_box_reg: 0.0491 (0.0808)  loss_objectness: 0.0498 (0.0824)  loss_rpn_box_reg: 0.0101 (0.0787)  time: 0.2147  data: 0.0064  max mem: 4739\n",
            "Epoch: [8]  [1800/4439]  eta: 0:09:20  lr: 0.000010  loss: 0.2263 (0.3412)  loss_classifier: 0.0809 (0.1029)  loss_box_reg: 0.0500 (0.0804)  loss_objectness: 0.0396 (0.0821)  loss_rpn_box_reg: 0.0111 (0.0758)  time: 0.2136  data: 0.0068  max mem: 4739\n",
            "Epoch: [8]  [1900/4439]  eta: 0:09:00  lr: 0.000010  loss: 0.2260 (0.3439)  loss_classifier: 0.0823 (0.1025)  loss_box_reg: 0.0758 (0.0803)  loss_objectness: 0.0463 (0.0822)  loss_rpn_box_reg: 0.0182 (0.0789)  time: 0.2267  data: 0.0066  max mem: 4739\n",
            "Epoch: [8]  [2000/4439]  eta: 0:08:38  lr: 0.000010  loss: 0.2027 (0.3398)  loss_classifier: 0.0801 (0.1022)  loss_box_reg: 0.0583 (0.0803)  loss_objectness: 0.0460 (0.0813)  loss_rpn_box_reg: 0.0133 (0.0760)  time: 0.2138  data: 0.0068  max mem: 4739\n",
            "Epoch: [8]  [2100/4439]  eta: 0:08:17  lr: 0.000010  loss: 0.2060 (0.3453)  loss_classifier: 0.0885 (0.1031)  loss_box_reg: 0.0633 (0.0809)  loss_objectness: 0.0407 (0.0830)  loss_rpn_box_reg: 0.0122 (0.0783)  time: 0.2055  data: 0.0069  max mem: 4739\n",
            "Epoch: [8]  [2200/4439]  eta: 0:07:56  lr: 0.000010  loss: 0.1922 (0.3423)  loss_classifier: 0.0701 (0.1030)  loss_box_reg: 0.0415 (0.0810)  loss_objectness: 0.0466 (0.0822)  loss_rpn_box_reg: 0.0072 (0.0762)  time: 0.2094  data: 0.0070  max mem: 4739\n",
            "Epoch: [8]  [2300/4439]  eta: 0:07:35  lr: 0.000010  loss: 0.2571 (0.3393)  loss_classifier: 0.0815 (0.1027)  loss_box_reg: 0.0627 (0.0809)  loss_objectness: 0.0478 (0.0816)  loss_rpn_box_reg: 0.0124 (0.0741)  time: 0.2148  data: 0.0070  max mem: 4739\n",
            "Epoch: [8]  [2400/4439]  eta: 0:07:13  lr: 0.000010  loss: 0.2354 (0.3366)  loss_classifier: 0.0789 (0.1027)  loss_box_reg: 0.0472 (0.0809)  loss_objectness: 0.0449 (0.0811)  loss_rpn_box_reg: 0.0197 (0.0720)  time: 0.2142  data: 0.0076  max mem: 4739\n",
            "Epoch: [8]  [2500/4439]  eta: 0:06:52  lr: 0.000010  loss: 0.2751 (0.3400)  loss_classifier: 0.0859 (0.1029)  loss_box_reg: 0.0703 (0.0812)  loss_objectness: 0.0517 (0.0816)  loss_rpn_box_reg: 0.0210 (0.0743)  time: 0.2185  data: 0.0080  max mem: 4739\n",
            "Epoch: [8]  [2600/4439]  eta: 0:06:31  lr: 0.000010  loss: 0.2017 (0.3394)  loss_classifier: 0.0843 (0.1029)  loss_box_reg: 0.0543 (0.0810)  loss_objectness: 0.0450 (0.0825)  loss_rpn_box_reg: 0.0107 (0.0729)  time: 0.1993  data: 0.0067  max mem: 4739\n",
            "Epoch: [8]  [2700/4439]  eta: 0:06:09  lr: 0.000010  loss: 0.2024 (0.3421)  loss_classifier: 0.0759 (0.1031)  loss_box_reg: 0.0525 (0.0808)  loss_objectness: 0.0374 (0.0839)  loss_rpn_box_reg: 0.0068 (0.0743)  time: 0.2091  data: 0.0065  max mem: 4739\n",
            "Epoch: [8]  [2800/4439]  eta: 0:05:48  lr: 0.000010  loss: 0.2053 (0.3402)  loss_classifier: 0.0772 (0.1031)  loss_box_reg: 0.0493 (0.0809)  loss_objectness: 0.0385 (0.0835)  loss_rpn_box_reg: 0.0108 (0.0727)  time: 0.2224  data: 0.0083  max mem: 4739\n",
            "Epoch: [8]  [2900/4439]  eta: 0:05:27  lr: 0.000010  loss: 0.2015 (0.3385)  loss_classifier: 0.0615 (0.1031)  loss_box_reg: 0.0460 (0.0811)  loss_objectness: 0.0424 (0.0832)  loss_rpn_box_reg: 0.0121 (0.0710)  time: 0.2077  data: 0.0071  max mem: 4739\n",
            "Epoch: [8]  [3000/4439]  eta: 0:05:05  lr: 0.000010  loss: 0.1901 (0.3371)  loss_classifier: 0.0731 (0.1032)  loss_box_reg: 0.0578 (0.0812)  loss_objectness: 0.0460 (0.0832)  loss_rpn_box_reg: 0.0105 (0.0695)  time: 0.2150  data: 0.0070  max mem: 4739\n",
            "Epoch: [8]  [3100/4439]  eta: 0:04:44  lr: 0.000010  loss: 0.1875 (0.3348)  loss_classifier: 0.0713 (0.1031)  loss_box_reg: 0.0633 (0.0810)  loss_objectness: 0.0401 (0.0827)  loss_rpn_box_reg: 0.0119 (0.0680)  time: 0.2209  data: 0.0069  max mem: 4739\n",
            "Epoch: [8]  [3200/4439]  eta: 0:04:23  lr: 0.000010  loss: 0.2685 (0.3345)  loss_classifier: 0.1144 (0.1035)  loss_box_reg: 0.0814 (0.0813)  loss_objectness: 0.0427 (0.0827)  loss_rpn_box_reg: 0.0141 (0.0670)  time: 0.2036  data: 0.0073  max mem: 4739\n",
            "Epoch: [8]  [3300/4439]  eta: 0:04:01  lr: 0.000010  loss: 0.2647 (0.3431)  loss_classifier: 0.1112 (0.1037)  loss_box_reg: 0.0623 (0.0815)  loss_objectness: 0.0481 (0.0837)  loss_rpn_box_reg: 0.0174 (0.0741)  time: 0.2162  data: 0.0070  max mem: 4739\n",
            "Epoch: [8]  [3400/4439]  eta: 0:03:40  lr: 0.000010  loss: 0.1803 (0.3408)  loss_classifier: 0.0803 (0.1035)  loss_box_reg: 0.0503 (0.0812)  loss_objectness: 0.0349 (0.0834)  loss_rpn_box_reg: 0.0090 (0.0726)  time: 0.2216  data: 0.0069  max mem: 4739\n",
            "Epoch: [8]  [3500/4439]  eta: 0:03:19  lr: 0.000010  loss: 0.1911 (0.3400)  loss_classifier: 0.0694 (0.1037)  loss_box_reg: 0.0543 (0.0814)  loss_objectness: 0.0407 (0.0835)  loss_rpn_box_reg: 0.0127 (0.0714)  time: 0.2064  data: 0.0071  max mem: 4739\n",
            "Epoch: [8]  [3600/4439]  eta: 0:02:58  lr: 0.000010  loss: 0.2164 (0.3384)  loss_classifier: 0.0853 (0.1037)  loss_box_reg: 0.0675 (0.0812)  loss_objectness: 0.0437 (0.0834)  loss_rpn_box_reg: 0.0110 (0.0701)  time: 0.2197  data: 0.0072  max mem: 4739\n",
            "Epoch: [8]  [3700/4439]  eta: 0:02:37  lr: 0.000010  loss: 0.2641 (0.3378)  loss_classifier: 0.1160 (0.1039)  loss_box_reg: 0.0787 (0.0813)  loss_objectness: 0.0477 (0.0836)  loss_rpn_box_reg: 0.0167 (0.0690)  time: 0.2148  data: 0.0071  max mem: 4739\n",
            "Epoch: [8]  [3800/4439]  eta: 0:02:15  lr: 0.000010  loss: 0.2756 (0.3368)  loss_classifier: 0.0769 (0.1038)  loss_box_reg: 0.0741 (0.0812)  loss_objectness: 0.0356 (0.0837)  loss_rpn_box_reg: 0.0122 (0.0681)  time: 0.2051  data: 0.0067  max mem: 4739\n",
            "Epoch: [8]  [3900/4439]  eta: 0:01:54  lr: 0.000010  loss: 0.1838 (0.3399)  loss_classifier: 0.0717 (0.1041)  loss_box_reg: 0.0470 (0.0814)  loss_objectness: 0.0385 (0.0840)  loss_rpn_box_reg: 0.0140 (0.0704)  time: 0.2072  data: 0.0072  max mem: 4739\n",
            "Epoch: [8]  [4000/4439]  eta: 0:01:33  lr: 0.000010  loss: 0.1608 (0.3384)  loss_classifier: 0.0677 (0.1041)  loss_box_reg: 0.0515 (0.0814)  loss_objectness: 0.0368 (0.0836)  loss_rpn_box_reg: 0.0066 (0.0693)  time: 0.2088  data: 0.0070  max mem: 4739\n",
            "Epoch: [8]  [4100/4439]  eta: 0:01:12  lr: 0.000010  loss: 0.2733 (0.3373)  loss_classifier: 0.1113 (0.1041)  loss_box_reg: 0.0806 (0.0815)  loss_objectness: 0.0537 (0.0834)  loss_rpn_box_reg: 0.0205 (0.0683)  time: 0.2181  data: 0.0070  max mem: 4739\n",
            "Epoch: [8]  [4200/4439]  eta: 0:00:50  lr: 0.000010  loss: 0.2234 (0.3361)  loss_classifier: 0.0778 (0.1041)  loss_box_reg: 0.0621 (0.0814)  loss_objectness: 0.0394 (0.0833)  loss_rpn_box_reg: 0.0178 (0.0672)  time: 0.2068  data: 0.0071  max mem: 4739\n",
            "Epoch: [8]  [4300/4439]  eta: 0:00:29  lr: 0.000010  loss: 0.2117 (0.3351)  loss_classifier: 0.0792 (0.1040)  loss_box_reg: 0.0597 (0.0811)  loss_objectness: 0.0372 (0.0836)  loss_rpn_box_reg: 0.0141 (0.0664)  time: 0.2118  data: 0.0071  max mem: 4739\n",
            "Epoch: [8]  [4400/4439]  eta: 0:00:08  lr: 0.000010  loss: 0.2011 (0.3349)  loss_classifier: 0.0834 (0.1044)  loss_box_reg: 0.0616 (0.0815)  loss_objectness: 0.0372 (0.0834)  loss_rpn_box_reg: 0.0094 (0.0656)  time: 0.2165  data: 0.0071  max mem: 4739\n",
            "Epoch: [8]  [4438/4439]  eta: 0:00:00  lr: 0.000010  loss: 0.2040 (0.3347)  loss_classifier: 0.0844 (0.1044)  loss_box_reg: 0.0515 (0.0815)  loss_objectness: 0.0469 (0.0834)  loss_rpn_box_reg: 0.0141 (0.0654)  time: 0.2118  data: 0.0066  max mem: 4739\n",
            "Epoch: [8] Total time: 0:15:42 (0.2124 s / it)\n",
            "creating index...\n",
            "index created!\n",
            "Test:  [   0/2220]  eta: 0:13:04  model_time: 0.0649 (0.0649)  evaluator_time: 0.0185 (0.0185)  time: 0.3535  data: 0.2668  max mem: 4739\n",
            "Test:  [ 100/2220]  eta: 0:02:14  model_time: 0.0445 (0.0448)  evaluator_time: 0.0079 (0.0091)  time: 0.0604  data: 0.0037  max mem: 4739\n",
            "Test:  [ 200/2220]  eta: 0:02:04  model_time: 0.0453 (0.0450)  evaluator_time: 0.0074 (0.0085)  time: 0.0604  data: 0.0041  max mem: 4739\n",
            "Test:  [ 300/2220]  eta: 0:01:57  model_time: 0.0452 (0.0448)  evaluator_time: 0.0075 (0.0086)  time: 0.0611  data: 0.0037  max mem: 4739\n",
            "Test:  [ 400/2220]  eta: 0:01:50  model_time: 0.0451 (0.0449)  evaluator_time: 0.0071 (0.0084)  time: 0.0599  data: 0.0037  max mem: 4739\n",
            "Test:  [ 500/2220]  eta: 0:01:43  model_time: 0.0449 (0.0448)  evaluator_time: 0.0073 (0.0083)  time: 0.0588  data: 0.0037  max mem: 4739\n",
            "Test:  [ 600/2220]  eta: 0:01:37  model_time: 0.0435 (0.0447)  evaluator_time: 0.0072 (0.0082)  time: 0.0586  data: 0.0041  max mem: 4739\n",
            "Test:  [ 700/2220]  eta: 0:01:31  model_time: 0.0449 (0.0447)  evaluator_time: 0.0074 (0.0083)  time: 0.0596  data: 0.0036  max mem: 4739\n",
            "Test:  [ 800/2220]  eta: 0:01:25  model_time: 0.0443 (0.0446)  evaluator_time: 0.0074 (0.0082)  time: 0.0599  data: 0.0037  max mem: 4739\n",
            "Test:  [ 900/2220]  eta: 0:01:19  model_time: 0.0455 (0.0446)  evaluator_time: 0.0072 (0.0082)  time: 0.0595  data: 0.0037  max mem: 4739\n",
            "Test:  [1000/2220]  eta: 0:01:13  model_time: 0.0448 (0.0447)  evaluator_time: 0.0070 (0.0082)  time: 0.0586  data: 0.0040  max mem: 4739\n",
            "Test:  [1100/2220]  eta: 0:01:07  model_time: 0.0453 (0.0446)  evaluator_time: 0.0069 (0.0082)  time: 0.0584  data: 0.0036  max mem: 4739\n",
            "Test:  [1200/2220]  eta: 0:01:01  model_time: 0.0450 (0.0446)  evaluator_time: 0.0070 (0.0082)  time: 0.0581  data: 0.0035  max mem: 4739\n",
            "Test:  [1300/2220]  eta: 0:00:55  model_time: 0.0445 (0.0446)  evaluator_time: 0.0070 (0.0082)  time: 0.0590  data: 0.0041  max mem: 4739\n",
            "Test:  [1400/2220]  eta: 0:00:49  model_time: 0.0451 (0.0447)  evaluator_time: 0.0075 (0.0082)  time: 0.0602  data: 0.0040  max mem: 4739\n",
            "Test:  [1500/2220]  eta: 0:00:43  model_time: 0.0442 (0.0446)  evaluator_time: 0.0075 (0.0082)  time: 0.0591  data: 0.0042  max mem: 4739\n",
            "Test:  [1600/2220]  eta: 0:00:37  model_time: 0.0449 (0.0446)  evaluator_time: 0.0071 (0.0082)  time: 0.0604  data: 0.0034  max mem: 4739\n",
            "Test:  [1700/2220]  eta: 0:00:31  model_time: 0.0452 (0.0446)  evaluator_time: 0.0075 (0.0082)  time: 0.0607  data: 0.0039  max mem: 4739\n",
            "Test:  [1800/2220]  eta: 0:00:25  model_time: 0.0445 (0.0446)  evaluator_time: 0.0076 (0.0082)  time: 0.0597  data: 0.0038  max mem: 4739\n",
            "Test:  [1900/2220]  eta: 0:00:19  model_time: 0.0448 (0.0446)  evaluator_time: 0.0070 (0.0082)  time: 0.0585  data: 0.0036  max mem: 4739\n",
            "Test:  [2000/2220]  eta: 0:00:13  model_time: 0.0447 (0.0446)  evaluator_time: 0.0068 (0.0082)  time: 0.0584  data: 0.0037  max mem: 4739\n",
            "Test:  [2100/2220]  eta: 0:00:07  model_time: 0.0433 (0.0446)  evaluator_time: 0.0071 (0.0081)  time: 0.0577  data: 0.0036  max mem: 4739\n",
            "Test:  [2200/2220]  eta: 0:00:01  model_time: 0.0446 (0.0446)  evaluator_time: 0.0073 (0.0081)  time: 0.0587  data: 0.0037  max mem: 4739\n",
            "Test:  [2219/2220]  eta: 0:00:00  model_time: 0.0443 (0.0445)  evaluator_time: 0.0069 (0.0081)  time: 0.0609  data: 0.0035  max mem: 4739\n",
            "Test: Total time: 0:02:12 (0.0598 s / it)\n",
            "Averaged stats: model_time: 0.0443 (0.0445)  evaluator_time: 0.0069 (0.0081)\n",
            "Accumulating evaluation results...\n",
            "DONE (t=0.77s).\n",
            "IoU metric: bbox\n",
            " Average Precision  (AP) @[ IoU=0.50:0.95 | area=   all | maxDets=100 ] = 0.075\n",
            " Average Precision  (AP) @[ IoU=0.50      | area=   all | maxDets=100 ] = 0.164\n",
            " Average Precision  (AP) @[ IoU=0.75      | area=   all | maxDets=100 ] = 0.055\n",
            " Average Precision  (AP) @[ IoU=0.50:0.95 | area= small | maxDets=100 ] = 0.020\n",
            " Average Precision  (AP) @[ IoU=0.50:0.95 | area=medium | maxDets=100 ] = 0.064\n",
            " Average Precision  (AP) @[ IoU=0.50:0.95 | area= large | maxDets=100 ] = 0.114\n",
            " Average Recall     (AR) @[ IoU=0.50:0.95 | area=   all | maxDets=  1 ] = 0.083\n",
            " Average Recall     (AR) @[ IoU=0.50:0.95 | area=   all | maxDets= 10 ] = 0.198\n",
            " Average Recall     (AR) @[ IoU=0.50:0.95 | area=   all | maxDets=100 ] = 0.225\n",
            " Average Recall     (AR) @[ IoU=0.50:0.95 | area= small | maxDets=100 ] = 0.100\n",
            " Average Recall     (AR) @[ IoU=0.50:0.95 | area=medium | maxDets=100 ] = 0.199\n",
            " Average Recall     (AR) @[ IoU=0.50:0.95 | area= large | maxDets=100 ] = 0.304\n",
            "Epoch: [9]  [   0/4439]  eta: 0:39:22  lr: 0.000001  loss: 0.2829 (0.2829)  loss_classifier: 0.1438 (0.1438)  loss_box_reg: 0.0761 (0.0761)  loss_objectness: 0.0407 (0.0407)  loss_rpn_box_reg: 0.0223 (0.0223)  time: 0.5322  data: 0.2898  max mem: 4739\n",
            "Epoch: [9]  [ 100/4439]  eta: 0:15:21  lr: 0.000001  loss: 0.1931 (0.2875)  loss_classifier: 0.0792 (0.1005)  loss_box_reg: 0.0457 (0.0759)  loss_objectness: 0.0363 (0.0797)  loss_rpn_box_reg: 0.0128 (0.0313)  time: 0.2155  data: 0.0111  max mem: 4739\n",
            "Epoch: [9]  [ 200/4439]  eta: 0:14:56  lr: 0.000001  loss: 0.2237 (0.3003)  loss_classifier: 0.0884 (0.1069)  loss_box_reg: 0.0541 (0.0814)  loss_objectness: 0.0524 (0.0817)  loss_rpn_box_reg: 0.0120 (0.0303)  time: 0.2059  data: 0.0069  max mem: 4739\n",
            "Epoch: [9]  [ 300/4439]  eta: 0:14:31  lr: 0.000001  loss: 0.2355 (0.2976)  loss_classifier: 0.0740 (0.1057)  loss_box_reg: 0.0633 (0.0819)  loss_objectness: 0.0371 (0.0780)  loss_rpn_box_reg: 0.0127 (0.0320)  time: 0.2014  data: 0.0072  max mem: 4739\n",
            "Epoch: [9]  [ 400/4439]  eta: 0:14:11  lr: 0.000001  loss: 0.1985 (0.3033)  loss_classifier: 0.0749 (0.1058)  loss_box_reg: 0.0623 (0.0822)  loss_objectness: 0.0446 (0.0825)  loss_rpn_box_reg: 0.0141 (0.0328)  time: 0.2204  data: 0.0067  max mem: 4739\n",
            "Epoch: [9]  [ 500/4439]  eta: 0:13:51  lr: 0.000001  loss: 0.1858 (0.2990)  loss_classifier: 0.0715 (0.1048)  loss_box_reg: 0.0576 (0.0815)  loss_objectness: 0.0380 (0.0814)  loss_rpn_box_reg: 0.0112 (0.0313)  time: 0.2071  data: 0.0066  max mem: 4739\n",
            "Epoch: [9]  [ 600/4439]  eta: 0:13:31  lr: 0.000001  loss: 0.1572 (0.2962)  loss_classifier: 0.0569 (0.1038)  loss_box_reg: 0.0488 (0.0820)  loss_objectness: 0.0341 (0.0795)  loss_rpn_box_reg: 0.0078 (0.0308)  time: 0.2079  data: 0.0072  max mem: 4739\n",
            "Epoch: [9]  [ 700/4439]  eta: 0:13:11  lr: 0.000001  loss: 0.1993 (0.2948)  loss_classifier: 0.0627 (0.1037)  loss_box_reg: 0.0369 (0.0821)  loss_objectness: 0.0572 (0.0787)  loss_rpn_box_reg: 0.0175 (0.0304)  time: 0.2193  data: 0.0067  max mem: 4739\n",
            "Epoch: [9]  [ 800/4439]  eta: 0:12:50  lr: 0.000001  loss: 0.1862 (0.2921)  loss_classifier: 0.0586 (0.1023)  loss_box_reg: 0.0557 (0.0810)  loss_objectness: 0.0487 (0.0784)  loss_rpn_box_reg: 0.0097 (0.0303)  time: 0.2075  data: 0.0066  max mem: 4739\n",
            "Epoch: [9]  [ 900/4439]  eta: 0:12:29  lr: 0.000001  loss: 0.2379 (0.2951)  loss_classifier: 0.0793 (0.1032)  loss_box_reg: 0.0848 (0.0815)  loss_objectness: 0.0510 (0.0790)  loss_rpn_box_reg: 0.0219 (0.0314)  time: 0.2095  data: 0.0070  max mem: 4739\n",
            "Epoch: [9]  [1000/4439]  eta: 0:12:07  lr: 0.000001  loss: 0.2108 (0.2965)  loss_classifier: 0.0803 (0.1040)  loss_box_reg: 0.0634 (0.0818)  loss_objectness: 0.0387 (0.0796)  loss_rpn_box_reg: 0.0121 (0.0310)  time: 0.2075  data: 0.0068  max mem: 4739\n",
            "Epoch: [9]  [1100/4439]  eta: 0:11:46  lr: 0.000001  loss: 0.1913 (0.2943)  loss_classifier: 0.0670 (0.1030)  loss_box_reg: 0.0481 (0.0811)  loss_objectness: 0.0455 (0.0794)  loss_rpn_box_reg: 0.0203 (0.0307)  time: 0.2130  data: 0.0070  max mem: 4739\n",
            "Epoch: [9]  [1200/4439]  eta: 0:11:26  lr: 0.000001  loss: 0.1404 (0.3262)  loss_classifier: 0.0597 (0.1039)  loss_box_reg: 0.0344 (0.0817)  loss_objectness: 0.0372 (0.0811)  loss_rpn_box_reg: 0.0080 (0.0595)  time: 0.2300  data: 0.0077  max mem: 4739\n",
            "Epoch: [9]  [1300/4439]  eta: 0:11:05  lr: 0.000001  loss: 0.2014 (0.3223)  loss_classifier: 0.0759 (0.1030)  loss_box_reg: 0.0469 (0.0804)  loss_objectness: 0.0501 (0.0819)  loss_rpn_box_reg: 0.0121 (0.0569)  time: 0.2106  data: 0.0068  max mem: 4739\n",
            "Epoch: [9]  [1400/4439]  eta: 0:10:45  lr: 0.000001  loss: 0.2414 (0.3185)  loss_classifier: 0.0828 (0.1024)  loss_box_reg: 0.0579 (0.0802)  loss_objectness: 0.0472 (0.0812)  loss_rpn_box_reg: 0.0142 (0.0546)  time: 0.2270  data: 0.0068  max mem: 4739\n",
            "Epoch: [9]  [1500/4439]  eta: 0:10:24  lr: 0.000001  loss: 0.2498 (0.3171)  loss_classifier: 0.0945 (0.1031)  loss_box_reg: 0.0845 (0.0811)  loss_objectness: 0.0306 (0.0802)  loss_rpn_box_reg: 0.0106 (0.0527)  time: 0.2210  data: 0.0069  max mem: 4739\n",
            "Epoch: [9]  [1600/4439]  eta: 0:10:02  lr: 0.000001  loss: 0.1977 (0.3146)  loss_classifier: 0.0766 (0.1029)  loss_box_reg: 0.0525 (0.0811)  loss_objectness: 0.0383 (0.0796)  loss_rpn_box_reg: 0.0134 (0.0510)  time: 0.2121  data: 0.0072  max mem: 4739\n",
            "Epoch: [9]  [1700/4439]  eta: 0:09:41  lr: 0.000001  loss: 0.2837 (0.3156)  loss_classifier: 0.0966 (0.1038)  loss_box_reg: 0.0738 (0.0818)  loss_objectness: 0.0351 (0.0798)  loss_rpn_box_reg: 0.0154 (0.0502)  time: 0.2095  data: 0.0067  max mem: 4739\n",
            "Epoch: [9]  [1800/4439]  eta: 0:09:21  lr: 0.000001  loss: 0.2250 (0.3300)  loss_classifier: 0.0756 (0.1037)  loss_box_reg: 0.0597 (0.0818)  loss_objectness: 0.0371 (0.0818)  loss_rpn_box_reg: 0.0157 (0.0627)  time: 0.2199  data: 0.0072  max mem: 4739\n",
            "Epoch: [9]  [1900/4439]  eta: 0:09:00  lr: 0.000001  loss: 0.1609 (0.3293)  loss_classifier: 0.0612 (0.1040)  loss_box_reg: 0.0413 (0.0820)  loss_objectness: 0.0422 (0.0822)  loss_rpn_box_reg: 0.0137 (0.0611)  time: 0.2148  data: 0.0067  max mem: 4739\n",
            "Epoch: [9]  [2000/4439]  eta: 0:08:39  lr: 0.000001  loss: 0.2553 (0.3288)  loss_classifier: 0.0912 (0.1044)  loss_box_reg: 0.0580 (0.0820)  loss_objectness: 0.0449 (0.0829)  loss_rpn_box_reg: 0.0119 (0.0595)  time: 0.2139  data: 0.0064  max mem: 4739\n",
            "Epoch: [9]  [2100/4439]  eta: 0:08:17  lr: 0.000001  loss: 0.2204 (0.3291)  loss_classifier: 0.0745 (0.1051)  loss_box_reg: 0.0659 (0.0822)  loss_objectness: 0.0461 (0.0838)  loss_rpn_box_reg: 0.0082 (0.0580)  time: 0.2105  data: 0.0065  max mem: 4739\n",
            "Epoch: [9]  [2200/4439]  eta: 0:07:56  lr: 0.000001  loss: 0.2167 (0.3320)  loss_classifier: 0.0865 (0.1054)  loss_box_reg: 0.0708 (0.0823)  loss_objectness: 0.0495 (0.0847)  loss_rpn_box_reg: 0.0110 (0.0596)  time: 0.2086  data: 0.0070  max mem: 4739\n",
            "Epoch: [9]  [2300/4439]  eta: 0:07:34  lr: 0.000001  loss: 0.3117 (0.3306)  loss_classifier: 0.1082 (0.1056)  loss_box_reg: 0.0962 (0.0827)  loss_objectness: 0.0469 (0.0841)  loss_rpn_box_reg: 0.0166 (0.0582)  time: 0.2152  data: 0.0067  max mem: 4739\n",
            "Epoch: [9]  [2400/4439]  eta: 0:07:13  lr: 0.000001  loss: 0.1825 (0.3293)  loss_classifier: 0.0714 (0.1056)  loss_box_reg: 0.0563 (0.0823)  loss_objectness: 0.0395 (0.0843)  loss_rpn_box_reg: 0.0143 (0.0572)  time: 0.2294  data: 0.0076  max mem: 4739\n",
            "Epoch: [9]  [2500/4439]  eta: 0:06:51  lr: 0.000001  loss: 0.2133 (0.3270)  loss_classifier: 0.0781 (0.1055)  loss_box_reg: 0.0552 (0.0823)  loss_objectness: 0.0406 (0.0835)  loss_rpn_box_reg: 0.0149 (0.0558)  time: 0.2064  data: 0.0071  max mem: 4739\n",
            "Epoch: [9]  [2600/4439]  eta: 0:06:30  lr: 0.000001  loss: 0.3093 (0.3268)  loss_classifier: 0.0919 (0.1058)  loss_box_reg: 0.0768 (0.0827)  loss_objectness: 0.0527 (0.0836)  loss_rpn_box_reg: 0.0206 (0.0546)  time: 0.2195  data: 0.0071  max mem: 4739\n",
            "Epoch: [9]  [2700/4439]  eta: 0:06:09  lr: 0.000001  loss: 0.2445 (0.3259)  loss_classifier: 0.0969 (0.1058)  loss_box_reg: 0.0549 (0.0828)  loss_objectness: 0.0437 (0.0835)  loss_rpn_box_reg: 0.0137 (0.0538)  time: 0.2213  data: 0.0074  max mem: 4739\n",
            "Epoch: [9]  [2800/4439]  eta: 0:05:48  lr: 0.000001  loss: 0.1850 (0.3251)  loss_classifier: 0.0846 (0.1061)  loss_box_reg: 0.0460 (0.0831)  loss_objectness: 0.0517 (0.0831)  loss_rpn_box_reg: 0.0122 (0.0528)  time: 0.2132  data: 0.0069  max mem: 4739\n",
            "Epoch: [9]  [2900/4439]  eta: 0:05:27  lr: 0.000001  loss: 0.1853 (0.3289)  loss_classifier: 0.0703 (0.1060)  loss_box_reg: 0.0586 (0.0829)  loss_objectness: 0.0480 (0.0839)  loss_rpn_box_reg: 0.0127 (0.0561)  time: 0.2140  data: 0.0066  max mem: 4739\n",
            "Epoch: [9]  [3000/4439]  eta: 0:05:06  lr: 0.000001  loss: 0.1949 (0.3267)  loss_classifier: 0.0677 (0.1057)  loss_box_reg: 0.0577 (0.0827)  loss_objectness: 0.0386 (0.0833)  loss_rpn_box_reg: 0.0091 (0.0550)  time: 0.2096  data: 0.0067  max mem: 4739\n",
            "Epoch: [9]  [3100/4439]  eta: 0:04:45  lr: 0.000001  loss: 0.2105 (0.3255)  loss_classifier: 0.0700 (0.1054)  loss_box_reg: 0.0515 (0.0823)  loss_objectness: 0.0396 (0.0835)  loss_rpn_box_reg: 0.0183 (0.0543)  time: 0.2152  data: 0.0063  max mem: 4739\n",
            "Epoch: [9]  [3200/4439]  eta: 0:04:23  lr: 0.000001  loss: 0.2465 (0.3247)  loss_classifier: 0.0847 (0.1056)  loss_box_reg: 0.0577 (0.0825)  loss_objectness: 0.0480 (0.0831)  loss_rpn_box_reg: 0.0135 (0.0536)  time: 0.2149  data: 0.0066  max mem: 4739\n",
            "Epoch: [9]  [3300/4439]  eta: 0:04:02  lr: 0.000001  loss: 0.1808 (0.3233)  loss_classifier: 0.0690 (0.1055)  loss_box_reg: 0.0513 (0.0823)  loss_objectness: 0.0471 (0.0827)  loss_rpn_box_reg: 0.0133 (0.0528)  time: 0.2064  data: 0.0072  max mem: 4739\n",
            "Epoch: [9]  [3400/4439]  eta: 0:03:41  lr: 0.000001  loss: 0.1479 (0.3215)  loss_classifier: 0.0585 (0.1052)  loss_box_reg: 0.0393 (0.0820)  loss_objectness: 0.0381 (0.0825)  loss_rpn_box_reg: 0.0136 (0.0519)  time: 0.2243  data: 0.0069  max mem: 4739\n",
            "Epoch: [9]  [3500/4439]  eta: 0:03:19  lr: 0.000001  loss: 0.2459 (0.3206)  loss_classifier: 0.0813 (0.1052)  loss_box_reg: 0.0651 (0.0821)  loss_objectness: 0.0520 (0.0821)  loss_rpn_box_reg: 0.0146 (0.0512)  time: 0.2137  data: 0.0068  max mem: 4739\n",
            "Epoch: [9]  [3600/4439]  eta: 0:02:58  lr: 0.000001  loss: 0.1748 (0.3207)  loss_classifier: 0.0674 (0.1057)  loss_box_reg: 0.0507 (0.0823)  loss_objectness: 0.0310 (0.0823)  loss_rpn_box_reg: 0.0086 (0.0505)  time: 0.2158  data: 0.0070  max mem: 4739\n",
            "Epoch: [9]  [3700/4439]  eta: 0:02:37  lr: 0.000001  loss: 0.1992 (0.3235)  loss_classifier: 0.0831 (0.1058)  loss_box_reg: 0.0566 (0.0824)  loss_objectness: 0.0405 (0.0826)  loss_rpn_box_reg: 0.0092 (0.0527)  time: 0.2106  data: 0.0073  max mem: 4739\n",
            "Epoch: [9]  [3800/4439]  eta: 0:02:16  lr: 0.000001  loss: 0.2449 (0.3224)  loss_classifier: 0.0890 (0.1056)  loss_box_reg: 0.0582 (0.0823)  loss_objectness: 0.0576 (0.0824)  loss_rpn_box_reg: 0.0189 (0.0520)  time: 0.2111  data: 0.0070  max mem: 4739\n",
            "Epoch: [9]  [3900/4439]  eta: 0:01:54  lr: 0.000001  loss: 0.2104 (0.3213)  loss_classifier: 0.0810 (0.1055)  loss_box_reg: 0.0579 (0.0822)  loss_objectness: 0.0526 (0.0822)  loss_rpn_box_reg: 0.0087 (0.0514)  time: 0.2129  data: 0.0067  max mem: 4739\n",
            "Epoch: [9]  [4000/4439]  eta: 0:01:33  lr: 0.000001  loss: 0.2345 (0.3208)  loss_classifier: 0.0839 (0.1055)  loss_box_reg: 0.0819 (0.0821)  loss_objectness: 0.0405 (0.0823)  loss_rpn_box_reg: 0.0198 (0.0509)  time: 0.2045  data: 0.0069  max mem: 4739\n",
            "Epoch: [9]  [4100/4439]  eta: 0:01:12  lr: 0.000001  loss: 0.2039 (0.3195)  loss_classifier: 0.0738 (0.1052)  loss_box_reg: 0.0571 (0.0819)  loss_objectness: 0.0383 (0.0820)  loss_rpn_box_reg: 0.0118 (0.0503)  time: 0.2204  data: 0.0070  max mem: 4739\n",
            "Epoch: [9]  [4200/4439]  eta: 0:00:50  lr: 0.000001  loss: 0.2868 (0.3187)  loss_classifier: 0.0912 (0.1051)  loss_box_reg: 0.0748 (0.0819)  loss_objectness: 0.0372 (0.0818)  loss_rpn_box_reg: 0.0200 (0.0498)  time: 0.2110  data: 0.0065  max mem: 4739\n",
            "Epoch: [9]  [4300/4439]  eta: 0:00:29  lr: 0.000001  loss: 0.2553 (0.3180)  loss_classifier: 0.0835 (0.1049)  loss_box_reg: 0.0906 (0.0818)  loss_objectness: 0.0393 (0.0818)  loss_rpn_box_reg: 0.0179 (0.0494)  time: 0.2170  data: 0.0075  max mem: 4739\n",
            "Epoch: [9]  [4400/4439]  eta: 0:00:08  lr: 0.000001  loss: 0.2099 (0.3198)  loss_classifier: 0.0751 (0.1045)  loss_box_reg: 0.0511 (0.0815)  loss_objectness: 0.0482 (0.0817)  loss_rpn_box_reg: 0.0131 (0.0521)  time: 0.2114  data: 0.0069  max mem: 4739\n",
            "Epoch: [9]  [4438/4439]  eta: 0:00:00  lr: 0.000001  loss: 0.1968 (0.3193)  loss_classifier: 0.0874 (0.1044)  loss_box_reg: 0.0693 (0.0816)  loss_objectness: 0.0436 (0.0815)  loss_rpn_box_reg: 0.0150 (0.0518)  time: 0.2084  data: 0.0066  max mem: 4739\n",
            "Epoch: [9] Total time: 0:15:45 (0.2131 s / it)\n",
            "creating index...\n",
            "index created!\n",
            "Test:  [   0/2220]  eta: 0:12:28  model_time: 0.0670 (0.0670)  evaluator_time: 0.0170 (0.0170)  time: 0.3372  data: 0.2501  max mem: 4739\n",
            "Test:  [ 100/2220]  eta: 0:02:12  model_time: 0.0442 (0.0447)  evaluator_time: 0.0078 (0.0089)  time: 0.0596  data: 0.0038  max mem: 4739\n",
            "Test:  [ 200/2220]  eta: 0:02:03  model_time: 0.0445 (0.0448)  evaluator_time: 0.0073 (0.0083)  time: 0.0585  data: 0.0039  max mem: 4739\n",
            "Test:  [ 300/2220]  eta: 0:01:55  model_time: 0.0447 (0.0445)  evaluator_time: 0.0070 (0.0083)  time: 0.0597  data: 0.0038  max mem: 4739\n",
            "Test:  [ 400/2220]  eta: 0:01:48  model_time: 0.0451 (0.0445)  evaluator_time: 0.0069 (0.0082)  time: 0.0595  data: 0.0035  max mem: 4739\n",
            "Test:  [ 500/2220]  eta: 0:01:42  model_time: 0.0449 (0.0445)  evaluator_time: 0.0070 (0.0081)  time: 0.0587  data: 0.0040  max mem: 4739\n",
            "Test:  [ 600/2220]  eta: 0:01:36  model_time: 0.0449 (0.0445)  evaluator_time: 0.0071 (0.0080)  time: 0.0612  data: 0.0044  max mem: 4739\n",
            "Test:  [ 700/2220]  eta: 0:01:30  model_time: 0.0449 (0.0446)  evaluator_time: 0.0073 (0.0080)  time: 0.0592  data: 0.0035  max mem: 4739\n",
            "Test:  [ 800/2220]  eta: 0:01:24  model_time: 0.0436 (0.0445)  evaluator_time: 0.0072 (0.0080)  time: 0.0586  data: 0.0036  max mem: 4739\n",
            "Test:  [ 900/2220]  eta: 0:01:19  model_time: 0.0452 (0.0445)  evaluator_time: 0.0068 (0.0080)  time: 0.0589  data: 0.0041  max mem: 4739\n",
            "Test:  [1000/2220]  eta: 0:01:13  model_time: 0.0446 (0.0445)  evaluator_time: 0.0065 (0.0080)  time: 0.0574  data: 0.0036  max mem: 4739\n",
            "Test:  [1100/2220]  eta: 0:01:07  model_time: 0.0449 (0.0445)  evaluator_time: 0.0067 (0.0080)  time: 0.0586  data: 0.0043  max mem: 4739\n",
            "Test:  [1200/2220]  eta: 0:01:01  model_time: 0.0445 (0.0445)  evaluator_time: 0.0069 (0.0080)  time: 0.0586  data: 0.0042  max mem: 4739\n",
            "Test:  [1300/2220]  eta: 0:00:55  model_time: 0.0446 (0.0445)  evaluator_time: 0.0068 (0.0080)  time: 0.0578  data: 0.0038  max mem: 4739\n",
            "Test:  [1400/2220]  eta: 0:00:48  model_time: 0.0449 (0.0445)  evaluator_time: 0.0073 (0.0080)  time: 0.0590  data: 0.0036  max mem: 4739\n",
            "Test:  [1500/2220]  eta: 0:00:42  model_time: 0.0443 (0.0444)  evaluator_time: 0.0070 (0.0080)  time: 0.0573  data: 0.0037  max mem: 4739\n",
            "Test:  [1600/2220]  eta: 0:00:36  model_time: 0.0449 (0.0444)  evaluator_time: 0.0068 (0.0079)  time: 0.0601  data: 0.0037  max mem: 4739\n",
            "Test:  [1700/2220]  eta: 0:00:30  model_time: 0.0448 (0.0444)  evaluator_time: 0.0072 (0.0079)  time: 0.0593  data: 0.0036  max mem: 4739\n",
            "Test:  [1800/2220]  eta: 0:00:24  model_time: 0.0440 (0.0444)  evaluator_time: 0.0071 (0.0079)  time: 0.0589  data: 0.0037  max mem: 4739\n",
            "Test:  [1900/2220]  eta: 0:00:19  model_time: 0.0445 (0.0444)  evaluator_time: 0.0066 (0.0079)  time: 0.0581  data: 0.0040  max mem: 4739\n",
            "Test:  [2000/2220]  eta: 0:00:13  model_time: 0.0449 (0.0444)  evaluator_time: 0.0066 (0.0079)  time: 0.0582  data: 0.0035  max mem: 4739\n",
            "Test:  [2100/2220]  eta: 0:00:07  model_time: 0.0446 (0.0444)  evaluator_time: 0.0069 (0.0079)  time: 0.0582  data: 0.0037  max mem: 4739\n",
            "Test:  [2200/2220]  eta: 0:00:01  model_time: 0.0444 (0.0444)  evaluator_time: 0.0072 (0.0078)  time: 0.0582  data: 0.0038  max mem: 4739\n",
            "Test:  [2219/2220]  eta: 0:00:00  model_time: 0.0426 (0.0444)  evaluator_time: 0.0065 (0.0079)  time: 0.0602  data: 0.0037  max mem: 4739\n",
            "Test: Total time: 0:02:11 (0.0593 s / it)\n",
            "Averaged stats: model_time: 0.0426 (0.0444)  evaluator_time: 0.0065 (0.0079)\n",
            "Accumulating evaluation results...\n",
            "DONE (t=0.75s).\n",
            "IoU metric: bbox\n",
            " Average Precision  (AP) @[ IoU=0.50:0.95 | area=   all | maxDets=100 ] = 0.075\n",
            " Average Precision  (AP) @[ IoU=0.50      | area=   all | maxDets=100 ] = 0.164\n",
            " Average Precision  (AP) @[ IoU=0.75      | area=   all | maxDets=100 ] = 0.055\n",
            " Average Precision  (AP) @[ IoU=0.50:0.95 | area= small | maxDets=100 ] = 0.020\n",
            " Average Precision  (AP) @[ IoU=0.50:0.95 | area=medium | maxDets=100 ] = 0.064\n",
            " Average Precision  (AP) @[ IoU=0.50:0.95 | area= large | maxDets=100 ] = 0.114\n",
            " Average Recall     (AR) @[ IoU=0.50:0.95 | area=   all | maxDets=  1 ] = 0.083\n",
            " Average Recall     (AR) @[ IoU=0.50:0.95 | area=   all | maxDets= 10 ] = 0.198\n",
            " Average Recall     (AR) @[ IoU=0.50:0.95 | area=   all | maxDets=100 ] = 0.224\n",
            " Average Recall     (AR) @[ IoU=0.50:0.95 | area= small | maxDets=100 ] = 0.099\n",
            " Average Recall     (AR) @[ IoU=0.50:0.95 | area=medium | maxDets=100 ] = 0.199\n",
            " Average Recall     (AR) @[ IoU=0.50:0.95 | area= large | maxDets=100 ] = 0.304\n"
          ],
          "name": "stdout"
        },
        {
          "output_type": "display_data",
          "data": {
            "image/png": "[encoded data removed]",
            "text/plain": [
              "<Figure size 432x288 with 1 Axes>"
            ]
          },
          "metadata": {
            "tags": []
          }
        }
      ]
    },
    {
      "cell_type": "markdown",
      "metadata": {
        "id": "OosvL0isoTD0",
        "colab_type": "text"
      },
      "source": [
        "### Final Model"
      ]
    },
    {
      "cell_type": "markdown",
      "metadata": {
        "id": "rq30kOyOoWku",
        "colab_type": "text"
      },
      "source": [
        "#### Train Neural Network\n",
        "Train final model with ALL training data."
      ]
    },
    {
      "cell_type": "code",
      "metadata": {
        "id": "E5RUYXg7ogG5",
        "colab_type": "code",
        "colab": {
          "base_uri": "https://localhost:8080/",
          "height": 446
        },
        "outputId": "49b96a6e-3f92-4977-9da9-ecf9fca87a8a"
      },
      "source": [
        "train_model(obj_class_labels, trainable_layers, device, learning_rate, momentum, \n",
        "            weight_decay, step_size, gamma, num_epochs=5, \n",
        "            data_loader_train=data_loader_train_val, data_loader_val=data_loader_test) "
      ],
      "execution_count": 15,
      "outputs": [
        {
          "output_type": "stream",
          "text": [
            "Epoch: [0]  [   0/5549]  eta: 0:51:25  lr: 0.000002  loss: 1.6699 (1.6699)  loss_classifier: 1.4951 (1.4951)  loss_box_reg: 0.1620 (0.1620)  loss_objectness: 0.0055 (0.0055)  loss_rpn_box_reg: 0.0073 (0.0073)  time: 0.5560  data: 0.2994  max mem: 4739\n"
          ],
          "name": "stdout"
        },
        {
          "output_type": "error",
          "ename": "KeyboardInterrupt",
          "evalue": "ignored",
          "traceback": [
            "\u001b[0;31m---------------------------------------------------------------------------\u001b[0m",
            "\u001b[0;31mKeyboardInterrupt\u001b[0m                         Traceback (most recent call last)",
            "\u001b[0;32m<ipython-input-15-9f582d797008>\u001b[0m in \u001b[0;36m<module>\u001b[0;34m()\u001b[0m\n\u001b[1;32m      1\u001b[0m train_model(obj_class_labels, trainable_layers, device, learning_rate, momentum, \n\u001b[1;32m      2\u001b[0m             \u001b[0mweight_decay\u001b[0m\u001b[0;34m,\u001b[0m \u001b[0mstep_size\u001b[0m\u001b[0;34m,\u001b[0m \u001b[0mgamma\u001b[0m\u001b[0;34m,\u001b[0m \u001b[0mnum_epochs\u001b[0m\u001b[0;34m=\u001b[0m\u001b[0;36m7\u001b[0m\u001b[0;34m,\u001b[0m\u001b[0;34m\u001b[0m\u001b[0;34m\u001b[0m\u001b[0m\n\u001b[0;32m----> 3\u001b[0;31m             data_loader_train=data_loader_train_val, data_loader_val=data_loader_test) \n\u001b[0m",
            "\u001b[0;32m/content/drive/My Drive/Colab Notebooks/snow_grooming/utilities.py\u001b[0m in \u001b[0;36mtrain_model\u001b[0;34m(obj_class_labels, trainable_layers, device, learning_rate, momentum, weight_decay, step_size, gamma, num_epochs, data_loader_train, data_loader_val, score_val)\u001b[0m\n\u001b[1;32m    180\u001b[0m     \u001b[0;32mfor\u001b[0m \u001b[0mepoch\u001b[0m \u001b[0;32min\u001b[0m \u001b[0mrange\u001b[0m\u001b[0;34m(\u001b[0m\u001b[0mnum_epochs\u001b[0m\u001b[0;34m)\u001b[0m\u001b[0;34m:\u001b[0m\u001b[0;34m\u001b[0m\u001b[0;34m\u001b[0m\u001b[0m\n\u001b[1;32m    181\u001b[0m         \u001b[0;31m# train for one epoch, printing every 10 iterations\u001b[0m\u001b[0;34m\u001b[0m\u001b[0;34m\u001b[0m\u001b[0;34m\u001b[0m\u001b[0m\n\u001b[0;32m--> 182\u001b[0;31m         \u001b[0mmetric_log\u001b[0m\u001b[0;34m,\u001b[0m \u001b[0mloss_tracker\u001b[0m \u001b[0;34m=\u001b[0m \u001b[0mtrain_one_epoch\u001b[0m\u001b[0;34m(\u001b[0m\u001b[0mmodel\u001b[0m\u001b[0;34m,\u001b[0m \u001b[0moptimizer\u001b[0m\u001b[0;34m,\u001b[0m \u001b[0mdata_loader_train\u001b[0m\u001b[0;34m,\u001b[0m \u001b[0mdevice\u001b[0m\u001b[0;34m,\u001b[0m \u001b[0mepoch\u001b[0m\u001b[0;34m,\u001b[0m \u001b[0mprint_freq\u001b[0m\u001b[0;34m=\u001b[0m\u001b[0;36m100\u001b[0m\u001b[0;34m)\u001b[0m\u001b[0;34m\u001b[0m\u001b[0;34m\u001b[0m\u001b[0m\n\u001b[0m\u001b[1;32m    183\u001b[0m         \u001b[0mtraining_losses\u001b[0m\u001b[0;34m.\u001b[0m\u001b[0mappend\u001b[0m\u001b[0;34m(\u001b[0m\u001b[0mnp\u001b[0m\u001b[0;34m.\u001b[0m\u001b[0mmean\u001b[0m\u001b[0;34m(\u001b[0m\u001b[0mloss_tracker\u001b[0m\u001b[0;34m)\u001b[0m\u001b[0;34m)\u001b[0m\u001b[0;34m\u001b[0m\u001b[0;34m\u001b[0m\u001b[0m\n\u001b[1;32m    184\u001b[0m \u001b[0;34m\u001b[0m\u001b[0m\n",
            "\u001b[0;32m/content/drive/My Drive/Colab Notebooks/snow_grooming/utilities.py\u001b[0m in \u001b[0;36mtrain_one_epoch\u001b[0;34m(model, optimizer, data_loader, device, epoch, print_freq)\u001b[0m\n\u001b[1;32m     74\u001b[0m             \u001b[0mlr_scheduler\u001b[0m\u001b[0;34m.\u001b[0m\u001b[0mstep\u001b[0m\u001b[0;34m(\u001b[0m\u001b[0;34m)\u001b[0m\u001b[0;34m\u001b[0m\u001b[0;34m\u001b[0m\u001b[0m\n\u001b[1;32m     75\u001b[0m \u001b[0;34m\u001b[0m\u001b[0m\n\u001b[0;32m---> 76\u001b[0;31m         \u001b[0mmetric_logger\u001b[0m\u001b[0;34m.\u001b[0m\u001b[0mupdate\u001b[0m\u001b[0;34m(\u001b[0m\u001b[0mloss\u001b[0m\u001b[0;34m=\u001b[0m\u001b[0mlosses_reduced\u001b[0m\u001b[0;34m,\u001b[0m \u001b[0;34m**\u001b[0m\u001b[0mloss_dict_reduced\u001b[0m\u001b[0;34m)\u001b[0m\u001b[0;34m\u001b[0m\u001b[0;34m\u001b[0m\u001b[0m\n\u001b[0m\u001b[1;32m     77\u001b[0m         \u001b[0mmetric_logger\u001b[0m\u001b[0;34m.\u001b[0m\u001b[0mupdate\u001b[0m\u001b[0;34m(\u001b[0m\u001b[0mlr\u001b[0m\u001b[0;34m=\u001b[0m\u001b[0moptimizer\u001b[0m\u001b[0;34m.\u001b[0m\u001b[0mparam_groups\u001b[0m\u001b[0;34m[\u001b[0m\u001b[0;36m0\u001b[0m\u001b[0;34m]\u001b[0m\u001b[0;34m[\u001b[0m\u001b[0;34m\"lr\"\u001b[0m\u001b[0;34m]\u001b[0m\u001b[0;34m)\u001b[0m\u001b[0;34m\u001b[0m\u001b[0;34m\u001b[0m\u001b[0m\n\u001b[1;32m     78\u001b[0m \u001b[0;34m\u001b[0m\u001b[0m\n",
            "\u001b[0;32m/content/utils.py\u001b[0m in \u001b[0;36mupdate\u001b[0;34m(self, **kwargs)\u001b[0m\n\u001b[1;32m    153\u001b[0m         \u001b[0;32mfor\u001b[0m \u001b[0mk\u001b[0m\u001b[0;34m,\u001b[0m \u001b[0mv\u001b[0m \u001b[0;32min\u001b[0m \u001b[0mkwargs\u001b[0m\u001b[0;34m.\u001b[0m\u001b[0mitems\u001b[0m\u001b[0;34m(\u001b[0m\u001b[0;34m)\u001b[0m\u001b[0;34m:\u001b[0m\u001b[0;34m\u001b[0m\u001b[0;34m\u001b[0m\u001b[0m\n\u001b[1;32m    154\u001b[0m             \u001b[0;32mif\u001b[0m \u001b[0misinstance\u001b[0m\u001b[0;34m(\u001b[0m\u001b[0mv\u001b[0m\u001b[0;34m,\u001b[0m \u001b[0mtorch\u001b[0m\u001b[0;34m.\u001b[0m\u001b[0mTensor\u001b[0m\u001b[0;34m)\u001b[0m\u001b[0;34m:\u001b[0m\u001b[0;34m\u001b[0m\u001b[0;34m\u001b[0m\u001b[0m\n\u001b[0;32m--> 155\u001b[0;31m                 \u001b[0mv\u001b[0m \u001b[0;34m=\u001b[0m \u001b[0mv\u001b[0m\u001b[0;34m.\u001b[0m\u001b[0mitem\u001b[0m\u001b[0;34m(\u001b[0m\u001b[0;34m)\u001b[0m\u001b[0;34m\u001b[0m\u001b[0;34m\u001b[0m\u001b[0m\n\u001b[0m\u001b[1;32m    156\u001b[0m             \u001b[0;32massert\u001b[0m \u001b[0misinstance\u001b[0m\u001b[0;34m(\u001b[0m\u001b[0mv\u001b[0m\u001b[0;34m,\u001b[0m \u001b[0;34m(\u001b[0m\u001b[0mfloat\u001b[0m\u001b[0;34m,\u001b[0m \u001b[0mint\u001b[0m\u001b[0;34m)\u001b[0m\u001b[0;34m)\u001b[0m\u001b[0;34m\u001b[0m\u001b[0;34m\u001b[0m\u001b[0m\n\u001b[1;32m    157\u001b[0m             \u001b[0mself\u001b[0m\u001b[0;34m.\u001b[0m\u001b[0mmeters\u001b[0m\u001b[0;34m[\u001b[0m\u001b[0mk\u001b[0m\u001b[0;34m]\u001b[0m\u001b[0;34m.\u001b[0m\u001b[0mupdate\u001b[0m\u001b[0;34m(\u001b[0m\u001b[0mv\u001b[0m\u001b[0;34m)\u001b[0m\u001b[0;34m\u001b[0m\u001b[0;34m\u001b[0m\u001b[0m\n",
            "\u001b[0;31mKeyboardInterrupt\u001b[0m: "
          ]
        }
      ]
    },
    {
      "cell_type": "markdown",
      "metadata": {
        "id": "6UWY0wvBoghx",
        "colab_type": "text"
      },
      "source": [
        "#### Evaluate on test set."
      ]
    },
    {
      "cell_type": "code",
      "metadata": {
        "id": "k1cYsZv7omno",
        "colab_type": "code",
        "colab": {}
      },
      "source": [
        "evaluate(model, data_loader_test, device=device)"
      ],
      "execution_count": null,
      "outputs": []
    },
    {
      "cell_type": "markdown",
      "metadata": {
        "id": "omg_Untbnceo",
        "colab_type": "text"
      },
      "source": [
        "#### Persist model."
      ]
    },
    {
      "cell_type": "code",
      "metadata": {
        "id": "9-sw2qvCgBdv",
        "colab_type": "code",
        "colab": {}
      },
      "source": [
        "torch.save(model, f'{root_dir}models/final_model.pkl')"
      ],
      "execution_count": null,
      "outputs": []
    },
    {
      "cell_type": "markdown",
      "metadata": {
        "id": "Ft7ylEUJnsBF",
        "colab_type": "text"
      },
      "source": [
        "### Prediction & Visualization"
      ]
    },
    {
      "cell_type": "code",
      "metadata": {
        "id": "7g8BbtDtFlNm",
        "colab_type": "code",
        "colab": {}
      },
      "source": [
        "model = torch.load('/content/drive/My Drive/Colab Notebooks/snow_grooming/models/final_model.pkl')"
      ],
      "execution_count": null,
      "outputs": []
    },
    {
      "cell_type": "markdown",
      "metadata": {
        "id": "F4uaUxZenmyV",
        "colab_type": "text"
      },
      "source": [
        "##### Pick an image from the test set."
      ]
    },
    {
      "cell_type": "code",
      "metadata": {
        "id": "xvzKpf5sE_Sy",
        "colab_type": "code",
        "colab": {}
      },
      "source": [
        "test_img_idx = 400"
      ],
      "execution_count": null,
      "outputs": []
    },
    {
      "cell_type": "code",
      "metadata": {
        "id": "T5PRka7wnpXa",
        "colab_type": "code",
        "colab": {}
      },
      "source": [
        "# pick one image from the test set\n",
        "img, _ = dataset_test[test_img_idx]\n",
        "\n",
        "Image.fromarray(img.mul(255).permute(1, 2, 0).byte().numpy())"
      ],
      "execution_count": null,
      "outputs": []
    },
    {
      "cell_type": "markdown",
      "metadata": {
        "id": "aOG_oLCnExWF",
        "colab_type": "text"
      },
      "source": [
        "##### Make a boundary box prediction."
      ]
    },
    {
      "cell_type": "code",
      "metadata": {
        "id": "_Sth6vmXnxrB",
        "colab_type": "code",
        "colab": {}
      },
      "source": [
        "def make_boundary_box_prediction(image_no_box):\n",
        "# put the model in evaluation mode\n",
        "  model.eval()\n",
        "  with torch.no_grad():\n",
        "      prediction = model([image_no_box.to(device)])\n",
        "\n",
        "  return prediction"
      ],
      "execution_count": null,
      "outputs": []
    },
    {
      "cell_type": "code",
      "metadata": {
        "id": "Pzq1s9DKqNbX",
        "colab_type": "code",
        "colab": {}
      },
      "source": [
        "predict_example = make_boundary_box_prediction(img)\n",
        "predict_example"
      ],
      "execution_count": null,
      "outputs": []
    },
    {
      "cell_type": "markdown",
      "metadata": {
        "id": "boAukV5KE3DY",
        "colab_type": "text"
      },
      "source": [
        "##### Define function for drawing boundary box."
      ]
    },
    {
      "cell_type": "code",
      "metadata": {
        "id": "W3IkDZpd05T9",
        "colab_type": "code",
        "colab": {}
      },
      "source": [
        "class_lookup_table = {\n",
        "    1: (obj_class_labels[0], (255, 0, 0)),\n",
        "    2: (obj_class_labels[1], (0, 255, 0)),\n",
        "    3: (obj_class_labels[2], (255, 255, 0)),\n",
        "}\n",
        "\n",
        "def draw_all_boundary_boxes(image_path, prediction, threshold=0.5):\n",
        "    # get boundary boxes, scores, and labels from prediction\n",
        "    boxes = prediction[0]['boxes'].tolist()\n",
        "    scores = prediction[0]['scores'].tolist()\n",
        "    class_labels = prediction[0]['labels'].tolist()    \n",
        "\n",
        "    image = cv2.imread(image_path)\n",
        "    # im is a PIL Image object\n",
        "    #im_arr = np.asarray(image)\n",
        "    for box, score, label in zip(boxes, scores, class_labels):\n",
        "      # convert rgb array to opencv's bgr format\n",
        "      #image = cv2.cvtColor(image, cv2.COLOR_RGB2BGR)\n",
        "      if score < threshold:\n",
        "        continue\n",
        "      x1 = int(box[0])\n",
        "      y1 = int(box[3])\n",
        "      x2 = int(box[2])\n",
        "      y2 = int(box[1])\n",
        "      # pts1 and pts2 are the upper left and bottom right coordinates of the rectangle\n",
        "      cv2.rectangle(image, (x1, y1), (x2, y2), class_lookup_table[label][1], 3)\n",
        "      obj_label = 'pole' if class_lookup_table[label][0] == 'street light' else class_lookup_table[label][0]\n",
        "      cv2.putText(image, obj_label, (x1, y2-10), cv2.FONT_HERSHEY_SIMPLEX, 0.8, class_lookup_table[label][1], 2)\n",
        "    #im_arr = cv2.cvtColor(im_arr_bgr, cv2.COLOR_BGR2RGB)\n",
        "    #Image.fromarray(image)\n",
        "    return image\n"
      ],
      "execution_count": null,
      "outputs": []
    },
    {
      "cell_type": "code",
      "metadata": {
        "id": "P-T9mGhB-yWg",
        "colab_type": "code",
        "colab": {}
      },
      "source": [
        "test_img_idx_abs = test_idx[test_img_idx]\n",
        "path = dataset.imgs[test_img_idx_abs]"
      ],
      "execution_count": null,
      "outputs": []
    },
    {
      "cell_type": "code",
      "metadata": {
        "id": "9SiiFG4Mz7y9",
        "colab_type": "code",
        "colab": {}
      },
      "source": [
        "image = draw_all_boundary_boxes(path, predict_example)\n",
        "Image.fromarray(image)"
      ],
      "execution_count": null,
      "outputs": []
    },
    {
      "cell_type": "markdown",
      "metadata": {
        "id": "Ubzv9i5CJFcH",
        "colab_type": "text"
      },
      "source": [
        "### Demo\n",
        "\n",
        "Demo on ski resort video footage."
      ]
    },
    {
      "cell_type": "markdown",
      "metadata": {
        "id": "iaD2CBc1MuNF",
        "colab_type": "text"
      },
      "source": [
        "##### Download video from YouTube.\n",
        "\n"
      ]
    },
    {
      "cell_type": "code",
      "metadata": {
        "id": "1wHxyTtQJLmQ",
        "colab_type": "code",
        "colab": {}
      },
      "source": [
        "video_url = \"https://www.youtube.com/watch?v=3tg_DOaUZ4Y\"\n",
        "#video_url = \"https://www.youtube.com/watch?v=LKBQ0J-RUF8\"\n",
        "video_quality = 1080 \n",
        "only_video = True \n",
        "do_trim = False \n",
        "start = \"00:28:16\" \n",
        "end = \"00:28:46\"\n",
        "output_file = 'pb600_winchcat_full.mp4'\n",
        "#output_file = 'groomer.mp4'"
      ],
      "execution_count": null,
      "outputs": []
    },
    {
      "cell_type": "code",
      "metadata": {
        "id": "mFvQuiSGvk3Q",
        "colab_type": "code",
        "colab": {}
      },
      "source": [
        "yt_d = Downloader(video_url, output_file, quality=video_quality, only_vid=only_video)\n",
        "yt_d.download()\n",
        "\n",
        "if do_trim:\n",
        "  yt_d.trim(start, end, delete_original=False)\n",
        "  os.rename('downloaded_vid_trimmed.mp4', 'downloaded_vid.mp4')"
      ],
      "execution_count": null,
      "outputs": []
    },
    {
      "cell_type": "code",
      "metadata": {
        "id": "low_a28Xtope",
        "colab_type": "code",
        "colab": {}
      },
      "source": [
        "for f in os.listdir():\n",
        "  if 'frame' in f:\n",
        "    os.remove(f)"
      ],
      "execution_count": null,
      "outputs": []
    },
    {
      "cell_type": "markdown",
      "metadata": {
        "id": "3mMPXxprMsdy",
        "colab_type": "text"
      },
      "source": [
        "##### Split video into frames."
      ]
    },
    {
      "cell_type": "code",
      "metadata": {
        "id": "4G3AoKpFMy0D",
        "colab_type": "code",
        "colab": {}
      },
      "source": [
        "cap = cv2.VideoCapture('pb600_winchcat_full.mp4')\n",
        "#cap = cv2.VideoCapture('groomer.mp4')\n",
        "i=0\n",
        "while(cap.isOpened()):\n",
        "    ret, frame = cap.read()\n",
        "    if ret == False:\n",
        "        break\n",
        "    cv2.imwrite('frame'+str(i)+'.jpg',frame)\n",
        "    i+=1\n",
        "\n",
        "cap.release()\n",
        "cv2.destroyAllWindows()\n",
        "print(f'{i + 1} Frames Created.')"
      ],
      "execution_count": null,
      "outputs": []
    },
    {
      "cell_type": "markdown",
      "metadata": {
        "id": "-Db4JLxPYeCS",
        "colab_type": "text"
      },
      "source": [
        "##### Draw boundary boxes on each frame."
      ]
    },
    {
      "cell_type": "code",
      "metadata": {
        "id": "hUIb7aV1NNEm",
        "colab_type": "code",
        "colab": {}
      },
      "source": [
        "for idx in range(i):\n",
        "  if idx % 100 == 0:\n",
        "    print(f'Making boundary box predictions ({idx}/{i})...')\n",
        "\n",
        "  # load image\n",
        "  img_frame = Image.open(f'frame{idx}.jpg').convert(\"RGB\")\n",
        "  transforms = get_transform(train=False)\n",
        "  # make prediction\n",
        "  prediction = make_boundary_box_prediction(transforms(img_frame))\n",
        "\n",
        "  # draw box\n",
        "  img_frame = draw_all_boundary_boxes(f'frame{idx}.jpg', prediction) \n",
        "\n",
        "  # resave image\n",
        "  cv2.imwrite(f'frame{idx}.jpg', img_frame)\n",
        "\n",
        "print('Done!')"
      ],
      "execution_count": null,
      "outputs": []
    },
    {
      "cell_type": "code",
      "metadata": {
        "id": "zDq0ATJ019cU",
        "colab_type": "code",
        "colab": {}
      },
      "source": [
        "Image.open('frame6100.jpg').convert(\"RGB\")"
      ],
      "execution_count": null,
      "outputs": []
    },
    {
      "cell_type": "code",
      "metadata": {
        "id": "mJeFBFLIbM1A",
        "colab_type": "code",
        "colab": {}
      },
      "source": [
        "def convert_frames_to_video(num_frames,path_out,fps):\n",
        "    frame_array = []\n",
        "    files = [f'frame{idx}.jpg' for idx in range(num_frames)]\n",
        " \n",
        "    #for sorting the file names properly\n",
        "    #files.sort(key = lambda x: int(x[5:-4]))\n",
        "    for f, filename in enumerate(files):\n",
        "        if f % 100 == 0:\n",
        "            print(f'Processing frame ({f}/{len(files)})...')\n",
        "        try:\n",
        "          #reading each files\n",
        "          img = cv2.imread(filename)\n",
        "          height, width, layers = img.shape\n",
        "          size = (width,height)\n",
        "          #inserting the frames into an image array\n",
        "          frame_array.append(img)\n",
        "        except AttributeError:\n",
        "          continue\n",
        " \n",
        "    out = cv2.VideoWriter(path_out,cv2.VideoWriter_fourcc(*'MJPG'), fps, size)\n",
        " \n",
        "    for i in range(len(frame_array)):\n",
        "        # writing to a image array\n",
        "        out.write(frame_array[i])\n",
        "    out.release()\n",
        "\n",
        "convert_frames_to_video(i + 1, root_dir + '/groomer_boxes.mp4', fps=30)"
      ],
      "execution_count": null,
      "outputs": []
    },
    {
      "cell_type": "code",
      "metadata": {
        "id": "ARO60WKSdbEH",
        "colab_type": "code",
        "colab": {}
      },
      "source": [
        ""
      ],
      "execution_count": null,
      "outputs": []
    }
  ]
}